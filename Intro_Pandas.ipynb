{
  "nbformat": 4,
  "nbformat_minor": 0,
  "metadata": {
    "colab": {
      "provenance": []
    },
    "kernelspec": {
      "name": "python3",
      "display_name": "Python 3"
    }
  },
  "cells": [
    {
      "cell_type": "markdown",
      "source": [
        "# Ejercicio 1"
      ],
      "metadata": {
        "id": "yZQsQyYzQ_6X"
      }
    },
    {
      "cell_type": "markdown",
      "source": [
        "Crea, a partir de un diccionario, un DataFrame llamado *data* con los datos de la tabla siguiente, consulta su índice y los tipos de datos de sus columnas:\n",
        "\n",
        "\n",
        "|Mes|Ventas|Gastos|\n",
        "| - | - | - |\n",
        "|Enero| 30500|22000|\n",
        "|Febrero|34120|23400|\n",
        "|Marzo|31200|25112|\n",
        "\n",
        "*Nota: La columna Mes ha de ser el index"
      ],
      "metadata": {
        "id": "Q5jz11B-RDrY"
      }
    },
    {
      "cell_type": "code",
      "source": [],
      "metadata": {
        "id": "AuPBzGAtRVmr"
      },
      "execution_count": null,
      "outputs": []
    },
    {
      "cell_type": "code",
      "source": [],
      "metadata": {
        "id": "cIeFIeS7Ti6l"
      },
      "execution_count": null,
      "outputs": []
    },
    {
      "cell_type": "code",
      "source": [],
      "metadata": {
        "id": "F-dttj1UTir-"
      },
      "execution_count": null,
      "outputs": []
    },
    {
      "cell_type": "markdown",
      "metadata": {
        "id": "Rfmqs3Y-l-gC"
      },
      "source": [
        "# Ejercicio 2\n"
      ]
    },
    {
      "cell_type": "markdown",
      "source": [
        "Ejecuta la siguiente celda para inicializar el entorno de prueba antes de realizar los ejercicios 2 y 3:"
      ],
      "metadata": {
        "id": "H_N6ttIKSyuM"
      }
    },
    {
      "cell_type": "code",
      "metadata": {
        "id": "Qk5fQPytmKh7"
      },
      "source": [
        "####################  ESTE TROZO DE CÓDIGO NOS CREARÁ UNA PEQUEÑA BASE DE DATOS PARA UTILIZAR DE EJEMPLO. ####\n",
        "####################   NO ES NECESARIO QUE LO APRENDAIS, SOLO EJECUTARLO UNA VEZ                          ####\n",
        "# Importamos SQLite\n",
        "import sqlite3\n",
        "import pandas as pd\n",
        "# conectamos a la BD\n",
        "db_con = sqlite3.connect(r'database.db') #recordar utilizar la variable db_con para leer de la base de datos!:)\n",
        "# Leemos todos los csvs\n",
        "c = pd.read_csv(\"https://raw.githubusercontent.com/cpinuaga/carlospinuagathevalley-IntroPandas2023/main/customers.csv\")\n",
        "o = pd.read_csv(\"https://raw.githubusercontent.com/cpinuaga/carlospinuagathevalley-IntroPandas2023/main/orders.csv\")\n",
        "r = pd.read_csv(\"https://raw.githubusercontent.com/cpinuaga/carlospinuagathevalley-IntroPandas2023/main/returns.csv\")\n",
        "p = pd.read_csv(\"https://raw.githubusercontent.com/cpinuaga/carlospinuagathevalley-IntroPandas2023/main/products.csv\")\n",
        "# Escribimos los csvs como tablas en la base de datos.\n",
        "c.to_sql('customers', db_con, if_exists='replace', index=False)\n",
        "o.to_sql('orders', db_con, if_exists='replace', index=False)\n",
        "r.to_sql('returns', db_con, if_exists='replace', index=False)\n",
        "p.to_sql('products', db_con, if_exists='replace', index=False)\n",
        "\n"
      ],
      "execution_count": null,
      "outputs": []
    },
    {
      "cell_type": "markdown",
      "metadata": {
        "id": "wRMWfPCJmCq2"
      },
      "source": [
        "**Ejercicio 2.a**\n",
        "Lee los archivos utilizando las siguientes URLs y guardalos en DataFrames.\n",
        "\n",
        "`url_customers = \"https://raw.githubusercontent.com/cpinuaga/carlospinuagathevalley-IntroPandas2023/main/customers.csv\"`\n",
        "\n",
        "`url_products = \"https://raw.githubusercontent.com/cpinuaga/carlospinuagathevalley-IntroPandas2023/main/products.csv\"`\n"
      ]
    },
    {
      "cell_type": "code",
      "metadata": {
        "id": "85USWZxJl5mA"
      },
      "source": [],
      "execution_count": null,
      "outputs": []
    },
    {
      "cell_type": "code",
      "source": [],
      "metadata": {
        "id": "yxX0Zh4cuDb0"
      },
      "execution_count": null,
      "outputs": []
    },
    {
      "cell_type": "markdown",
      "metadata": {
        "id": "S0v9H6jem77p"
      },
      "source": [
        "**Ejercicio 2.b** Utilizando SQL, lee de la base de datos la tabla customers y la tabla orders y guardalos en dataframes distintos"
      ]
    },
    {
      "cell_type": "code",
      "metadata": {
        "id": "fjHLIMJonc3R"
      },
      "source": [],
      "execution_count": null,
      "outputs": []
    },
    {
      "cell_type": "code",
      "source": [],
      "metadata": {
        "id": "KIO37pL4vFax"
      },
      "execution_count": null,
      "outputs": []
    },
    {
      "cell_type": "code",
      "source": [],
      "metadata": {
        "id": "IRGQSA7EvM6I"
      },
      "execution_count": null,
      "outputs": []
    },
    {
      "cell_type": "markdown",
      "metadata": {
        "id": "opxQ70gnncM5"
      },
      "source": [
        "**Ejercicio 2.c** Utilizando SQL, lee los pedidos de la tabla orders correspondientes al año 2015."
      ]
    },
    {
      "cell_type": "code",
      "metadata": {
        "id": "wLD3VsgkoDNQ"
      },
      "source": [],
      "execution_count": null,
      "outputs": []
    },
    {
      "cell_type": "markdown",
      "metadata": {
        "id": "dAHMxZ0coDqy"
      },
      "source": [
        "**Ejercicio 2.d** **DIFICIL**  Utilizando SQL, lee los pedidos de la tabla orders correspondientes al año 2015, y mezclalo con un JOIN con la informacion del cliente (customers).\n"
      ]
    },
    {
      "cell_type": "code",
      "metadata": {
        "id": "Jt-x-yI2oSh8"
      },
      "source": [],
      "execution_count": null,
      "outputs": []
    },
    {
      "cell_type": "markdown",
      "metadata": {
        "id": "FTO_EzYiqZhI"
      },
      "source": [
        "# Ejercicio 3\n",
        "\n",
        "Vamos a jugar con un dataframe resultado de mezclar la tabla de pedidos con la tabla de productos (tablas orders y products)."
      ]
    },
    {
      "cell_type": "code",
      "metadata": {
        "id": "WeBvH9QnqmFS"
      },
      "source": [
        "order_and_products = pd.read_sql(\"SELECT * FROM orders JOIN products ON orders.Product_ID = products.Product_ID\", db_con)\n",
        "order_and_products.head()"
      ],
      "execution_count": null,
      "outputs": []
    },
    {
      "cell_type": "markdown",
      "metadata": {
        "id": "UhM4l5qrrBKe"
      },
      "source": [
        "**Ejercicio 3.a** Crea un índice sobre el dataframe para poder recuperar datos por el Order_ID de una fila en concreto de una forma más cómoda. Posteriormente, recupera los datos del Order_ID CA-2015-155453\n"
      ]
    },
    {
      "cell_type": "code",
      "metadata": {
        "id": "-LRdATHlrXGJ"
      },
      "source": [],
      "execution_count": null,
      "outputs": []
    },
    {
      "cell_type": "code",
      "metadata": {
        "id": "kxdWw87Arq3c"
      },
      "source": [],
      "execution_count": null,
      "outputs": []
    },
    {
      "cell_type": "markdown",
      "metadata": {
        "id": "NJ2EgksstB_o"
      },
      "source": [
        "**Ejercicio 3.b**\n",
        "Consigue los datos de las filas 300 a 500"
      ]
    },
    {
      "cell_type": "code",
      "metadata": {
        "id": "ZJ688IuCtCFB"
      },
      "source": [],
      "execution_count": null,
      "outputs": []
    },
    {
      "cell_type": "markdown",
      "metadata": {
        "id": "jB7HD2Tcr04f"
      },
      "source": [
        "**Ejercicio 3.c** Recupera la columna con las fechas de pedido.\n"
      ]
    },
    {
      "cell_type": "code",
      "metadata": {
        "id": "r_qCmd9WvHzh"
      },
      "source": [],
      "execution_count": null,
      "outputs": []
    },
    {
      "cell_type": "code",
      "source": [],
      "metadata": {
        "id": "F0kigvL4CqjI"
      },
      "execution_count": null,
      "outputs": []
    },
    {
      "cell_type": "markdown",
      "metadata": {
        "id": "KZF0YeHktQXz"
      },
      "source": [
        "**Ejercicio 3.d** Consigue los datos de las filas 300 en adelante, pero solo las columnas Order_Date y Category. Recuerda, tendrás que utilizar .loc[]\n"
      ]
    },
    {
      "cell_type": "code",
      "metadata": {
        "id": "vxifTjp2sXWS"
      },
      "source": [
        "# Reseteamos el indice para poder localizar las filas por su número en lugar de su id de pedido\n",
        "order_and_products = order_and_products.reset_index(drop=False)"
      ],
      "execution_count": null,
      "outputs": []
    },
    {
      "cell_type": "code",
      "source": [],
      "metadata": {
        "id": "vxlR73pjEJot"
      },
      "execution_count": null,
      "outputs": []
    },
    {
      "cell_type": "code",
      "metadata": {
        "id": "tD5bpj_ZkbrV"
      },
      "source": [],
      "execution_count": null,
      "outputs": []
    },
    {
      "cell_type": "code",
      "source": [],
      "metadata": {
        "id": "2nrwh7ySEh1V"
      },
      "execution_count": null,
      "outputs": []
    },
    {
      "cell_type": "markdown",
      "metadata": {
        "id": "AIal72cisXc1"
      },
      "source": [
        "**Ejercicio 3.e** Recupera todas las filas de los pedidos correspondientes a la categoría \"Office Supplies\"\n"
      ]
    },
    {
      "cell_type": "code",
      "metadata": {
        "id": "UrpMNxnwvIjC"
      },
      "source": [],
      "execution_count": null,
      "outputs": []
    },
    {
      "cell_type": "markdown",
      "metadata": {
        "id": "EYNpjfQrsj2G"
      },
      "source": [
        "**Ejercicio 3.f** Recupera todas las filas correspondientes a la categoría \"Technology\" y cuyo precio sea mayor que 30."
      ]
    },
    {
      "cell_type": "code",
      "metadata": {
        "id": "RiVm98Sosj6m"
      },
      "source": [],
      "execution_count": null,
      "outputs": []
    },
    {
      "cell_type": "markdown",
      "metadata": {
        "id": "co7CPfKSs_oU"
      },
      "source": [
        "**Ejercicio 3.g** Crea una nueva columna \"Amount\" que multiplique la cantidad (\"Quantity\") y el precio (\"Price\"), lo que forma el total de esa linea de pedido"
      ]
    },
    {
      "cell_type": "code",
      "metadata": {
        "id": "soR0A_TNs_xm"
      },
      "source": [],
      "execution_count": null,
      "outputs": []
    },
    {
      "cell_type": "markdown",
      "metadata": {
        "id": "VCMk4bL3uu1U"
      },
      "source": [
        "**Ejercicio 3.h** ¿Hay alguna linea de pedido que supere los 6000 de importe?"
      ]
    },
    {
      "cell_type": "code",
      "metadata": {
        "id": "2upvw9r_aOPU"
      },
      "source": [],
      "execution_count": null,
      "outputs": []
    },
    {
      "cell_type": "markdown",
      "metadata": {
        "id": "-WoclGO5ZvlU"
      },
      "source": [
        "**Ejercicio 3.i** Utilizando SQL, junta la tabla de Pedidos, Clientes y Productos y calcula qué \"Segment\" de clientes ha facturado más. Para ello tienes que usar la columna Price y Quantity. Guarda el resultado en un DataFrame. ¿Cuál es el segmento de cliente que más ha facturado?"
      ]
    },
    {
      "cell_type": "code",
      "metadata": {
        "id": "l84r4GBBaOt3"
      },
      "source": [],
      "execution_count": null,
      "outputs": []
    },
    {
      "cell_type": "markdown",
      "source": [
        "# EJERCICIO EXTRA\n",
        "\n",
        "Utiliza lo aprendido en esta sesión para completar las siguientes acciones en un dataset de precios de casas en Ames, Iowa (USA).\n",
        "\n",
        "Fuente: http://jse.amstat.org/v19n3/decock.pdf\n",
        "\n",
        "Dataset info: https://www.kaggle.com/c/house-prices-advanced-regression-techniques/data\n",
        "\n",
        "URL del fichero: https://raw.githubusercontent.com/cpinuaga/carlospinuagathevalley-IntroPandas2023/main/house_prices.csv\n",
        "\n",
        "También puedes descargarlo de Kaggle y leerlo como un fichero local.\n",
        "\n",
        "1. Lee el csv con pandas\n",
        "2. Obtén el número de filas y columnas del dataframe\n",
        "3. Obtén los nombres de las columnas del dataframe\n",
        "4. Obtén un dataframe con los datos de las casas construidas antes de 1999 con 3 habitaciones o más (columna BedroomAbvGr) y de tipo unifamiliar (BldgType == \"1Fam\") y expórtalo como csv.\n",
        "5. Lee el csv resultante y cambia los valores de la columna de 'CentralAir' de 'Y' y 'N' a 'Yes' y 'No'.\n",
        "6. Del dataframe resultante Selecciona solo aquellas filas que tengan info sobre la calidad de la valla, es decir, cuya valor en la columna Fence no sea nulo.\n",
        "7. Trabajas en la inmobiliaria que está vendiendo las casas del dataset origial completo. La inmobiliaria ha decidido aplicar un descuento del 10% a aquellas casas con más de 20 años sin remodelar, un 5% de descuento a aquellas casas que tienen entre 15 y 20 años sin remodelar (desde el año de la última remodelación: YearRemodAdd) y 0% a las demás. Crea una columna llamada DiscountPerc que registre estos descuentos y otra columna DiscountedPrice con el precio final de la casa aplicando el descuento sobre la columna SalePrice.\n"
      ],
      "metadata": {
        "id": "7yRNJ__5PfIj"
      }
    },
    {
      "cell_type": "code",
      "source": [],
      "metadata": {
        "id": "G3YZFfEmQxaY"
      },
      "execution_count": null,
      "outputs": []
    },
    {
      "cell_type": "code",
      "source": [],
      "metadata": {
        "id": "omnilFUvQxTl"
      },
      "execution_count": null,
      "outputs": []
    },
    {
      "cell_type": "code",
      "source": [],
      "metadata": {
        "id": "cX8hi5M1QxMt"
      },
      "execution_count": null,
      "outputs": []
    },
    {
      "cell_type": "code",
      "source": [],
      "metadata": {
        "id": "wYMepx35QxE-"
      },
      "execution_count": null,
      "outputs": []
    },
    {
      "cell_type": "code",
      "source": [],
      "metadata": {
        "id": "KEo_5TwrQw9G"
      },
      "execution_count": null,
      "outputs": []
    },
    {
      "cell_type": "code",
      "source": [],
      "metadata": {
        "id": "iT0D4iatQw2K"
      },
      "execution_count": null,
      "outputs": []
    },
    {
      "cell_type": "code",
      "source": [],
      "metadata": {
        "id": "el1sNXZ2QwsJ"
      },
      "execution_count": null,
      "outputs": []
    }
  ]
}