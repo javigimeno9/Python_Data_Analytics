{
  "nbformat": 4,
  "nbformat_minor": 0,
  "metadata": {
    "colab": {
      "provenance": [],
      "collapsed_sections": [
        "-w_U7-oPN7AD",
        "fspG7APoleKF",
        "l-Mxm9ApqN8q",
        "2pNNodafgkt3",
        "kymFoq5Vkh1A"
      ]
    },
    "kernelspec": {
      "name": "python3",
      "display_name": "Python 3"
    }
  },
  "cells": [
    {
      "cell_type": "markdown",
      "metadata": {
        "id": "PP-4yd6nCXMe"
      },
      "source": [
        "# Introducción\n",
        "\n",
        "En el curso de hoy comenzaremos a trabajar con Pandas, la librería más utilizada en el mundo Python para el análisis de datos y el manejo de DataFrames.\n"
      ]
    },
    {
      "cell_type": "markdown",
      "metadata": {
        "id": "Fw_EKFQTam78"
      },
      "source": [
        "# Primeros pasos\n",
        "\n",
        "El primer y más importante paso es importar la librería Pandas para poder utilizarla en nuestro código.\n",
        "Siempre encontrarás que se abrevia utilizando el nombre 'pd' al importarla."
      ]
    },
    {
      "cell_type": "code",
      "metadata": {
        "id": "8Ha3L7asCDYF"
      },
      "source": [
        "import pandas as pd"
      ],
      "execution_count": null,
      "outputs": []
    },
    {
      "cell_type": "markdown",
      "source": [
        "Recuerda que para importar una librería en Python debes tenerla instalada. En el caso de los Colab no es necesario, pero si trabajaras en local puedes instalar Pandas así:\n",
        "> pip install pandas"
      ],
      "metadata": {
        "id": "u0ZTnv01k5KH"
      }
    },
    {
      "cell_type": "markdown",
      "source": [
        "Es importante tener siempre a mano la documentación oficial de Pandas, será un gran aliado a la hora de entender y descubrir todas las opciones que nos permite:\n",
        "\n",
        "https://pandas.pydata.org/docs/index.html\n",
        "\n",
        "Recuerda comprobar siempre que la versión que estés utilizando corresponde a la que consultes en la documentación. Puedes comprobar tu versión desde Python ejecutando:"
      ],
      "metadata": {
        "id": "WPhVE9oClsBz"
      }
    },
    {
      "cell_type": "code",
      "source": [
        "print(pd.__version__)"
      ],
      "metadata": {
        "id": "oMIWdHk8mRTF"
      },
      "execution_count": null,
      "outputs": []
    },
    {
      "cell_type": "markdown",
      "source": [
        "#Series\n",
        "\n",
        "Por un lado tenemos las Series.\n",
        "Una Serie de Pandas es como una columna en una tabla.\n",
        "Es una matriz unidimensional que contiene datos de cualquier tipo.\n",
        "Contiene un array de datos y un array de etiquetas que van asociadas a los datos, llamado índice (index).\n",
        "\n",
        "![image.png](data:image/png;base64,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)\n",
        "\n",
        "Podemos crear un objeto Series a partir de un array o de diccionarios del siguiente modo:\n"
      ],
      "metadata": {
        "id": "BlHPWJcqlUhc"
      }
    },
    {
      "cell_type": "code",
      "source": [
        "# Usando arrays. Si no introducimos nosotros etiquetas para los datos el índice se autogenera.\n",
        "nums = pd.Series ([10, 20, 16])\n",
        "nums"
      ],
      "metadata": {
        "id": "Qwb3dSmUnIph"
      },
      "execution_count": null,
      "outputs": []
    },
    {
      "cell_type": "code",
      "source": [
        "# Usando arrays con etiquetas. Tiene mas sentido.\n",
        "ventas = pd.Series ([10, 20, 16], index = ['Enero', 'Febrero', 'Marzo'])\n",
        "ventas"
      ],
      "metadata": {
        "id": "2ceecxGdn72u"
      },
      "execution_count": null,
      "outputs": []
    },
    {
      "cell_type": "code",
      "source": [
        "# Usando diccionarios\n",
        "dict_ventas = {\"Enero\": 10, \"Febrero\": 20, \"Marzo\": 16}\n",
        "\n",
        "ventas = pd.Series(dict_ventas)\n",
        "ventas"
      ],
      "metadata": {
        "id": "rUrLsuw2n7s7"
      },
      "execution_count": null,
      "outputs": []
    },
    {
      "cell_type": "markdown",
      "metadata": {
        "id": "jHr2RdOyDFZM"
      },
      "source": [
        "# Dataframes\n",
        "\n",
        "Los dataframes es el tipo de estructura de datos más importante en Pandas. Si las Series son como una columna, podemos pensar en los DataFrame como una tabla o matriz, que estará formada por N filas y M columnas.\n",
        "\n",
        "![image.png](data:image/png;base64,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)\n",
        "\n",
        "Pandas también nos permite crear DataFrames. Solo necesitamos introducir los datos. Para ello hay varias opciones:\n"
      ]
    },
    {
      "cell_type": "code",
      "metadata": {
        "id": "4dcxgK_0DpB_"
      },
      "source": [
        "#Introducimos los datos de cada fila\n",
        "mi_tabla =  pd.DataFrame( [[50, \"María\"], [31, \"Juan\"], [18, \"Silvia\"]])\n",
        "mi_tabla"
      ],
      "execution_count": null,
      "outputs": []
    },
    {
      "cell_type": "code",
      "metadata": {
        "id": "kTdS2bItFNWO"
      },
      "source": [
        "#Podemos darle nombre a las columnas con el parametro \"columns\"\n",
        "pd.DataFrame( [[50, \"María\"], [31, \"Juan\"], [18, \"Silvia\"]], columns=[\"Edad\", \"Nombre\"])"
      ],
      "execution_count": null,
      "outputs": []
    },
    {
      "cell_type": "code",
      "metadata": {
        "id": "hX9P5l4_FOd3"
      },
      "source": [
        "#Es más típico crearlo con un diccionario, ya que nos permite directamente indicar también el nombre de las columnas.\n",
        "dict_data = {\n",
        "    \"Edad\":[50,31,18],\n",
        "    \"Nombre\": [\"María\", \"Juan\", \"Silvia\"]\n",
        "    }\n",
        "\n",
        "pd.DataFrame(dict_data)"
      ],
      "execution_count": null,
      "outputs": []
    },
    {
      "cell_type": "markdown",
      "metadata": {
        "id": "Ot7Fkld5GDSR"
      },
      "source": [
        "# Entendiendo el Index\n",
        "\n",
        "Los DataFrames de Pandas tienen un campo llamado Index, que facilita el acceder a los datos de una manera más fácil. También permite dar un nombre a cada fila, lo que facilita el trabajar con el DataFrame.\n",
        "\n",
        "\n",
        "Veréis que al no hacerlo en los ejemplos anteriores, se creó un Index 0,1,2... para cada fila del dataframe automáticamente, mientras que en el ejemplo siguiente cada fila toma la etiqueta o nombre que nosotros le indicamos utilizando el parámetro *index* al crear nuestro DataFrame."
      ]
    },
    {
      "cell_type": "code",
      "metadata": {
        "id": "O400zxYKGTIb"
      },
      "source": [
        "clientes = pd.DataFrame( {\"Edad\":[50,31,18], \"Nombre\": [\"María\", \"Juan\", \"Silvia\"]}, index=[\"Cliente1\", \"Cliente2\", \"Cliente3\"])\n",
        "clientes"
      ],
      "execution_count": null,
      "outputs": []
    },
    {
      "cell_type": "code",
      "source": [
        "# Podemos consultar el índice con el siguiente atributo del DataFrame\n",
        "clientes.index"
      ],
      "metadata": {
        "id": "UH5PUG_wTMNf"
      },
      "execution_count": null,
      "outputs": []
    },
    {
      "cell_type": "markdown",
      "source": [
        "# dtypes\n",
        "Las Series y las columnas de los DataFrames tienen tipos de datos, y dependiendo de esto se pueden realizar unas operaciones u otras sobre ellas.\n",
        "Para conocer el tipo de datos de las columnas de un DataFrame podemos utilizar la propiedad *dtypes*:"
      ],
      "metadata": {
        "id": "GPw6kC_Jrq-D"
      }
    },
    {
      "cell_type": "code",
      "source": [
        "# Pandas trata los strings (cadenas de caracteres) como tipo object\n",
        "clientes.dtypes"
      ],
      "metadata": {
        "id": "HdxhwXhnsSm7"
      },
      "execution_count": null,
      "outputs": []
    },
    {
      "cell_type": "markdown",
      "metadata": {
        "id": "brZwVygmG-kP"
      },
      "source": [
        "#Leyendo datos de un fichero\n",
        "\n",
        "Lo más habitual es tener los datos en un fichero en el ordenador o un sistema externo. Para leer datos y guardarlos en un DataFrame, una forma fácil es utilizar la función *read_csv* de pandas, lo que nos permite leer un fichero CSV, ya esté en local o en una URL.\n",
        "\n",
        "Para ello solo tenemos que indicarle donde está el fichero. En este caso, lo leeremos de una ruta pública de GitHub."
      ]
    },
    {
      "cell_type": "code",
      "metadata": {
        "id": "BwQyhGg_JQN4"
      },
      "source": [
        "url_fichero = \"https://raw.githubusercontent.com/cpinuaga/carlospinuagathevalley-IntroPandas2023/main/customers.csv\"\n",
        "customers = pd.read_csv(url_fichero)\n",
        "\n",
        "customers"
      ],
      "execution_count": null,
      "outputs": []
    },
    {
      "cell_type": "code",
      "metadata": {
        "id": "pr3YdNYjKkgc"
      },
      "source": [
        "# Podemos darle a cada fila el nombre del valor customer_id utilizandolo como index. Al ser un valor único, nos será muy útil.\n",
        "# Utilizaremos la función set_index()\n",
        "customers.set_index(\"Customer_ID\", inplace=True)\n",
        "\n",
        "customers.head()"
      ],
      "execution_count": null,
      "outputs": []
    },
    {
      "cell_type": "code",
      "source": [
        "customers.index"
      ],
      "metadata": {
        "id": "mOuZhvXq18bu"
      },
      "execution_count": null,
      "outputs": []
    },
    {
      "cell_type": "markdown",
      "source": [
        "¿Por qué hemos incluido el parámetro `inplace=True`?\n",
        "\n",
        "En general, las operaciones que realizamos sobre los DataFrame dan como resultado un nuevo DataFrame. Si queremos aplicar un cambio sobre el mismo DataFrame podemos utilizar el parámetro `inplace=True` disponible en muchas de las funciones de Pandas."
      ],
      "metadata": {
        "id": "Dw7p2UUiXk-E"
      }
    },
    {
      "cell_type": "code",
      "source": [
        "# Leémos de nuevo el fichero antes de probar\n",
        "customers = pd.read_csv(url_fichero)\n",
        "\n",
        "# Sin el parámetro inplace no se modifica el DataFrame original\n",
        "customers.set_index(\"Customer_ID\")\n",
        "customers.head()"
      ],
      "metadata": {
        "id": "OXr5UXOMYd0p"
      },
      "execution_count": null,
      "outputs": []
    },
    {
      "cell_type": "markdown",
      "source": [
        "Otra alternativa es asignar el resultado a la misma variable como en el siguiente ejemplo, suele ser la opción más habitual ya que evita errores en el código respecto a lo que queremos hacer:"
      ],
      "metadata": {
        "id": "zJakewSpZB0j"
      }
    },
    {
      "cell_type": "code",
      "source": [
        "customers = customers.set_index(\"Customer_ID\")\n",
        "customers.head()"
      ],
      "metadata": {
        "id": "VXHlorN3ZDmM"
      },
      "execution_count": null,
      "outputs": []
    },
    {
      "cell_type": "markdown",
      "metadata": {
        "id": "jiW2ORAKLGyv"
      },
      "source": [
        "La función **read_csv** tiene muchos más argumentos que nos permiten hacer múltiples acciones a la hora de leer el archivo.\n",
        "\n",
        "Por ejemplo podemos indicar el separador de cada línea del fichero con \"sep\", pero hay muchos otras opciones que podemos consultar en la[ documentación oficial.](https://pandas.pydata.org/pandas-docs/stable/reference/api/pandas.read_csv.html)\n"
      ]
    },
    {
      "cell_type": "code",
      "metadata": {
        "id": "ysCCoCv6lVWl"
      },
      "source": [
        "#Si tuvieramos un fichero en nuestro ordenador, tendríamos que pasarle la ruta del archivo.\n",
        "#Por ejemplo, si lo tenemos en el colab porque lo hemos subido a mano, o si utilizamos los datos de ejemplo de la carpeta sample_data\n",
        "data = pd.read_csv(\"sample_data/california_housing_train.csv\", sep=',')\n",
        "data.head()"
      ],
      "execution_count": null,
      "outputs": []
    },
    {
      "cell_type": "markdown",
      "source": [
        "Pandas soporta múltiples formatos de ficheros o fuentes de datos de serie (csv, excel, json, parquet, sql…). Encontrarás funciones para cada uno de ellos con el prefijo **read_***, read_excel, read_json..."
      ],
      "metadata": {
        "id": "JXt3RzA3LCxh"
      }
    },
    {
      "cell_type": "markdown",
      "metadata": {
        "id": "sx-cIMHvP6ye"
      },
      "source": [
        "#Leyendo datos de una base de datos\n",
        "Python, y concretamente Pandas nos permite conectarnos a una base de datos y ejecutar código SQL para recuperar datos y guardarlos en un DataFrame.\n",
        "\n",
        "Para este ejemplo, utilizaremos la libreria sqlite que creará una pequeña base de datos a la que nos podremos conectar."
      ]
    },
    {
      "cell_type": "code",
      "metadata": {
        "id": "EWQBxI6mLrAN"
      },
      "source": [
        "####################  ESTE TROZO DE CÓDIGO NOS CREARÁ UNA PEQUEÑA BASE DE DATOS PARA UTILIZAR DE EJEMPLO. ####\n",
        "####################   NO ES NECESARIO QUE LO APRENDAIS, SOLO EJECUTARLO UNA VEZ                          ####\n",
        "# Importamos SQLite\n",
        "import sqlite3\n",
        "# conectamos a la BD\n",
        "db_con = sqlite3.connect(r'database.db')\n",
        "# Leemos todos los csvs\n",
        "c = pd.read_csv(\"https://raw.githubusercontent.com/cpinuaga/carlospinuagathevalley-IntroPandas2023/main/customers.csv\")\n",
        "o = pd.read_csv(\"https://raw.githubusercontent.com/cpinuaga/carlospinuagathevalley-IntroPandas2023/main/orders.csv\")\n",
        "r = pd.read_csv(\"https://raw.githubusercontent.com/cpinuaga/carlospinuagathevalley-IntroPandas2023/main/returns.csv\")\n",
        "p = pd.read_csv(\"https://raw.githubusercontent.com/cpinuaga/carlospinuagathevalley-IntroPandas2023/main/products.csv\")\n",
        "# Escribimos los csvs como tablas en la base de datos.\n",
        "c.to_sql('customers', db_con, if_exists='replace', index=False)\n",
        "o.to_sql('orders', db_con, if_exists='replace', index=False)\n",
        "r.to_sql('returns', db_con, if_exists='replace', index=False)\n",
        "p.to_sql('products', db_con, if_exists='replace', index=False)\n",
        "\n",
        "#Cerramos la conexion.\n",
        "db_con.close()"
      ],
      "execution_count": null,
      "outputs": []
    },
    {
      "cell_type": "code",
      "metadata": {
        "id": "sZ_l-abOQ_dE"
      },
      "source": [
        "#Para conectarse a una base de datos necesitamos primero saber donde se encuentra (la dirección del servidor), y normalmente usuario y contraseña.\n",
        "#En esta ocasion nos basta con ejecutar la siguiente línea.\n",
        "db_con = sqlite3.connect(r'database.db')\n"
      ],
      "execution_count": null,
      "outputs": []
    },
    {
      "cell_type": "code",
      "metadata": {
        "id": "F4jk61nwRjNW"
      },
      "source": [
        "#Con la función read_sql de pandas podemos introducir código SQL y extraer datos de una base de datos.\n",
        "#Solo necesitamos introducir dos argumentos: la consulta SQL, y la conexión a la base de datos.\n",
        "orders = pd.read_sql(\"SELECT * FROM orders\", db_con)\n",
        "orders.head()"
      ],
      "execution_count": null,
      "outputs": []
    },
    {
      "cell_type": "code",
      "source": [
        "products = pd.read_sql(\"SELECT * FROM products\", db_con)\n",
        "products.head()"
      ],
      "metadata": {
        "id": "8guFQmBgiAq4"
      },
      "execution_count": null,
      "outputs": []
    },
    {
      "cell_type": "markdown",
      "metadata": {
        "id": "qaAbPN9OpK03"
      },
      "source": [
        "Recordad de la clase de SQL que podemos mezclar tablas con JOIN, para aprovechar y traernos ya los datos mezclados en un mismo dataframe. Vamos a hacer un join de las 2 tablas anteriores utilizando la columna Product_ID presente en ambas:"
      ]
    },
    {
      "cell_type": "code",
      "metadata": {
        "id": "vIOMEBIhpH_C"
      },
      "source": [
        "order_and_products = pd.read_sql(\"SELECT * FROM orders JOIN products ON orders.Product_ID = products.Product_ID\", db_con)\n",
        "order_and_products.head()"
      ],
      "execution_count": null,
      "outputs": []
    },
    {
      "cell_type": "markdown",
      "metadata": {
        "id": "syMa5uFcS4iI"
      },
      "source": [
        "Ya sabemos conseguir datos de 3 maneras diferentes:\n",
        "\n",
        "\n",
        "1.   Creando un dataframe por nosotros mismos\n",
        "2.   Leyendo de ficheros CSV\n",
        "3.   Conectandonos a una base de datos y ejecutando código SQL para traernos el resultado.\n",
        "\n"
      ]
    },
    {
      "cell_type": "markdown",
      "metadata": {
        "id": "-w_U7-oPN7AD"
      },
      "source": [
        "# Ejercicio 1\n",
        "\n",
        "Dirígete al notebook de ejercicios y realiza el ejercicio 1."
      ]
    },
    {
      "cell_type": "markdown",
      "metadata": {
        "id": "fspG7APoleKF"
      },
      "source": [
        "# Ejercicio 2\n",
        "\n",
        "Dirígete al notebook de ejercicios y realiza el ejercicio 2."
      ]
    },
    {
      "cell_type": "markdown",
      "metadata": {
        "id": "VLsL1Bq3TOsL"
      },
      "source": [
        "# Accediendo y manejando los DataFrames\n",
        "\n",
        "En esta sección veremos las formas más comunes de tratar con un DataFrame. Como obervamos su estructura, como accedemos a las diferentes columnas y filas y cómo se utiliza el index."
      ]
    },
    {
      "cell_type": "markdown",
      "source": [
        "Primero vamos a obtener algo de información acerca del DataFrame. Para ello podemos utilizar diferentes herramientas."
      ],
      "metadata": {
        "id": "r4wMNKL3rtUz"
      }
    },
    {
      "cell_type": "code",
      "metadata": {
        "id": "PZjxb9XGaMC2"
      },
      "source": [
        "#esta funcion nos indica cuantas filas y columnas tiene nuestro dataframe\n",
        "products.shape"
      ],
      "execution_count": null,
      "outputs": []
    },
    {
      "cell_type": "code",
      "metadata": {
        "id": "F_T05yDHafjw"
      },
      "source": [
        "#la funcion len() de python nos devuelve la longitud de objetos, arrays, y tambien de DataFrames\n",
        "len(products)"
      ],
      "execution_count": null,
      "outputs": []
    },
    {
      "cell_type": "code",
      "source": [
        "# Podemos acceder a las primeras filas utilizando la función head()\n",
        "products.head(7)"
      ],
      "metadata": {
        "id": "aSvuY_0fr6tl"
      },
      "execution_count": null,
      "outputs": []
    },
    {
      "cell_type": "code",
      "source": [
        "# También podemos utilizar la función tail() para acceder al final\n",
        "products.tail(10)"
      ],
      "metadata": {
        "id": "qol4P7R5sIR_"
      },
      "execution_count": null,
      "outputs": []
    },
    {
      "cell_type": "code",
      "source": [
        "# Incluso podemos obtener una muestra aleatoria con sample()\n",
        "products.sample(10)"
      ],
      "metadata": {
        "id": "ULKLmTi0xNYf"
      },
      "execution_count": null,
      "outputs": []
    },
    {
      "cell_type": "code",
      "source": [
        "# Para obtener información técnica acerca del DataFrame podemos usar la función info()\n",
        "products.info()"
      ],
      "metadata": {
        "id": "a6K3mURasyq1"
      },
      "execution_count": null,
      "outputs": []
    },
    {
      "cell_type": "code",
      "metadata": {
        "id": "KtzREw-KTlGs"
      },
      "source": [
        "# Podemos recuperar una columna escribiendo dataframe.nombrecolumna\n",
        "products.Product_Name"
      ],
      "execution_count": null,
      "outputs": []
    },
    {
      "cell_type": "code",
      "metadata": {
        "id": "a0GdQi3fT1OL"
      },
      "source": [
        "products.Price"
      ],
      "execution_count": null,
      "outputs": []
    },
    {
      "cell_type": "code",
      "metadata": {
        "id": "VLDJAIV4UH-r"
      },
      "source": [
        "#También podemos hacerlo de de esta forma\n",
        "products[\"Product_Name\"]"
      ],
      "execution_count": null,
      "outputs": []
    },
    {
      "cell_type": "code",
      "source": [
        "# Cuando recuperamos una única columna, el resultado obtenido es una Serie\n",
        "type(products[\"Product_Name\"])"
      ],
      "metadata": {
        "id": "ajNL9-Tct8vH"
      },
      "execution_count": null,
      "outputs": []
    },
    {
      "cell_type": "code",
      "source": [
        "# si queremos recuperar varias columnas podemos hacerlo utilizando una lista de valores\n",
        "customers = pd.read_sql(\"SELECT * FROM customers\", db_con)\n",
        "customers[[\"Customer_Name\", \"Region\"]]"
      ],
      "metadata": {
        "id": "t7kzWs5Cts0n"
      },
      "execution_count": null,
      "outputs": []
    },
    {
      "cell_type": "code",
      "source": [
        "customers"
      ],
      "metadata": {
        "id": "uZfxpRdF3v2G"
      },
      "execution_count": null,
      "outputs": []
    },
    {
      "cell_type": "code",
      "metadata": {
        "id": "b088ykS5UNkq"
      },
      "source": [
        "#Para acceder a una fila segun su posición en el dataframe utilizaremos iloc\n",
        "customers.iloc[12]"
      ],
      "execution_count": null,
      "outputs": []
    },
    {
      "cell_type": "code",
      "source": [
        "# Para acceder a un rango de filas separaremos las posiciones con dos puntos :\n",
        "customers.iloc[12:560]"
      ],
      "metadata": {
        "id": "tN2PTFTmvrgy"
      },
      "execution_count": null,
      "outputs": []
    },
    {
      "cell_type": "code",
      "metadata": {
        "id": "9_V2M-XIVsfV"
      },
      "source": [
        "#Si lo que queremos es acceder a una columna también por su posición, lo haremos indicando que queremos todas las filas con : y la posicion de la columna deseada.\n",
        "#Así seleccionamos la columna Customer_Name, que se encuentra en la segunda posición\n",
        "customers.iloc[:, 1]"
      ],
      "execution_count": null,
      "outputs": []
    },
    {
      "cell_type": "code",
      "metadata": {
        "id": "EAStyeSZV9tf"
      },
      "source": [
        "# Podemos jugar con : de manera muy cómoda, tanto para seleccionar más de una fila coomo mas de una columna.\n",
        "# Los números negativos se refieren a los últimos índices. Por ejemplo para recuperar las últimas 5 filas\n",
        "customers.iloc[-5:]\n",
        "\n",
        "#Ejecutar estas sentencias para comprobar  los resultados.\n",
        "#customers.iloc[10:15, 1]\n",
        "#customers.iloc[10:, 1:5]\n",
        "#customers.iloc[:, [1, 5]]\n",
        "#customers.iloc[:, 1:]\n",
        "#customers.iloc[-5:]"
      ],
      "execution_count": null,
      "outputs": []
    },
    {
      "cell_type": "code",
      "source": [
        "customers.tail()"
      ],
      "metadata": {
        "id": "YfsLUX6i4dJb"
      },
      "execution_count": null,
      "outputs": []
    },
    {
      "cell_type": "code",
      "metadata": {
        "id": "4HpgkrgGW_SK"
      },
      "source": [
        "#Con iloc accedemos a los elementos basandonos en su posición, pero con loc lo hacemos basándonos en su Nombre/Etiqueta/Index\n",
        "customers.loc[788]  #con esta sentencia conseguimos la fila con índice 788"
      ],
      "execution_count": null,
      "outputs": []
    },
    {
      "cell_type": "code",
      "metadata": {
        "id": "TYLrRDkkXecH"
      },
      "source": [
        "#Podemos conseguir también la columna Country por su nombre.\n",
        "customers.loc[:, \"Country\"]\n"
      ],
      "execution_count": null,
      "outputs": []
    },
    {
      "cell_type": "code",
      "metadata": {
        "id": "rHJDMGgDiO6x"
      },
      "source": [
        "customers.loc[:, [\"Country\", \"Region\"]] #podemos conseguir más de una columna a la vez"
      ],
      "execution_count": null,
      "outputs": []
    },
    {
      "cell_type": "markdown",
      "metadata": {
        "id": "376qhKmeYPU7"
      },
      "source": [
        "¿Recordáis que al leer de un archivo podíamos indicar la columna que serviría como Index?"
      ]
    },
    {
      "cell_type": "code",
      "metadata": {
        "id": "vlJ5S82wYeWd"
      },
      "source": [
        "customers = pd.read_sql(\"SELECT * FROM customers\", db_con)\n",
        "\n",
        "customers = customers.set_index([\"Customer_ID\"])\n",
        "\n",
        "customers.head()"
      ],
      "execution_count": null,
      "outputs": []
    },
    {
      "cell_type": "code",
      "metadata": {
        "id": "JIKIshjEYjMT"
      },
      "source": [
        "#Y ahora .loc cobra mucho más sentido... Podemos encontrar filas por el ID de cliente.\n",
        "customers.loc[\"SM-20320\"]"
      ],
      "execution_count": null,
      "outputs": []
    },
    {
      "cell_type": "code",
      "source": [
        "# Podemos también encontrar listas de filas y columnas a la vez:\n",
        "customers.loc[[\"SM-20320\", \"SW-20245\"], [\"Customer_Name\", \"Country\"]]"
      ],
      "metadata": {
        "id": "dEB7A_x3yldS"
      },
      "execution_count": null,
      "outputs": []
    },
    {
      "cell_type": "markdown",
      "metadata": {
        "id": "KcS1lCqMZYRl"
      },
      "source": [
        "#Acceso condicional para filtrar\n",
        "Hasta ahora hemos aprendido lo básico para acceder a diferentes filas y columnas de un dataset. En esta sección aprenderemos como filtrar filas basándonos en los valores que contienen."
      ]
    },
    {
      "cell_type": "code",
      "metadata": {
        "id": "N5xdusKeZ0sl"
      },
      "source": [
        "# Si aplicamos una condición sobre una columna vereis que nos devuelve True o False para cada fila si cumple o no la condición.\n",
        "customers.Region == \"West\""
      ],
      "execution_count": null,
      "outputs": []
    },
    {
      "cell_type": "code",
      "source": [
        "customers.Region"
      ],
      "metadata": {
        "id": "Ik1VvaaTEqHr"
      },
      "execution_count": null,
      "outputs": []
    },
    {
      "cell_type": "code",
      "metadata": {
        "id": "TS0hq5ZBaVbb"
      },
      "source": [
        "#Si pasamos el anterior trozo de código a loc, nos devolverá las filas que cumplen la condición.\n",
        "customers.loc[customers.Region==\"West\"]"
      ],
      "execution_count": null,
      "outputs": []
    },
    {
      "cell_type": "code",
      "metadata": {
        "id": "iR4LLP2Kaq9O"
      },
      "source": [
        "#Podemos combinar y crear condiciones tan compllicadas como necesitemos con & (and) y | (or)\n",
        "customers.loc[ (customers[\"Region\"]==\"West\") & (customers.Segment==\"Consumer\")]"
      ],
      "execution_count": null,
      "outputs": []
    },
    {
      "cell_type": "markdown",
      "metadata": {
        "id": "HyjcEnidbOCS"
      },
      "source": [
        "Existen varias funciones que nos facilitan la vida a la hora de seleccionar filas.\n",
        "\n",
        "\n",
        "\n",
        "*   isin nos permite especificar más de un valor válido\n",
        "*   notnull nos permite seleccionar las filas que no tengan valores nulos\n",
        "\n"
      ]
    },
    {
      "cell_type": "code",
      "metadata": {
        "id": "5e44cch3bI9v"
      },
      "source": [
        "# para seleccionar todas las filas cuyo valor de Segment cumpla uno de estos dos valores\n",
        "customers.loc[ customers[\"Segment\"].isin([\"Consumer\", \"Corporate\"]) ]"
      ],
      "execution_count": null,
      "outputs": []
    },
    {
      "cell_type": "code",
      "source": [
        "# podemos hacer la inversa añadiendo == False\n",
        "customers.loc[customers[\"Segment\"].isin([\"Consumer\", \"Corporate\"])==False]"
      ],
      "metadata": {
        "id": "A2ht9L0Y0dhX"
      },
      "execution_count": null,
      "outputs": []
    },
    {
      "cell_type": "code",
      "source": [
        "#Otra opción es negar con el símolo ~ delante.\n",
        "customers.loc[~customers[\"Segment\"].isin([\"Consumer\", \"Corporate\"])]"
      ],
      "metadata": {
        "id": "Qmy6myPf7uc7"
      },
      "execution_count": null,
      "outputs": []
    },
    {
      "cell_type": "code",
      "metadata": {
        "id": "vddks10hb-Ig"
      },
      "source": [
        "#todas las filas cuya region no sea null\n",
        "customers.loc[customers[\"Region\"].notnull()]"
      ],
      "execution_count": null,
      "outputs": []
    },
    {
      "cell_type": "markdown",
      "metadata": {
        "id": "1qCNRVFWgLo-"
      },
      "source": [
        "# Asignando valores y creando nuevas columnas\n",
        "Hasta ahora hemos aprendido como juguetear con los datos que hemos leído. En esta seccion aprenderemos como creamos nuevas columnas para ir aumentando y enriqueciendo nuestro DataFrame.\n",
        "\n"
      ]
    },
    {
      "cell_type": "markdown",
      "metadata": {
        "id": "6ilc9jSNguzM"
      },
      "source": [
        "Podemos asignar un valor igual a todas las filas del DataFrame de una manera muy sencilla. En ocasiones queremos añadir una columna nueva que contenga un valor."
      ]
    },
    {
      "cell_type": "code",
      "source": [
        "customers.columns"
      ],
      "metadata": {
        "id": "J39kua_78uA5"
      },
      "execution_count": null,
      "outputs": []
    },
    {
      "cell_type": "code",
      "metadata": {
        "id": "-2O4N9_Ngd2h"
      },
      "source": [
        "customers[\"Tienda\"] = \"Amazon\"\n",
        "customers"
      ],
      "execution_count": null,
      "outputs": []
    },
    {
      "cell_type": "markdown",
      "metadata": {
        "id": "956BiX0yhCkU"
      },
      "source": [
        "En otras ocasiones queremos que ese valor solo se aplique cuando se cumpla una condicion. En ese caso combinaremos lo aprendido en la sección anterior."
      ]
    },
    {
      "cell_type": "code",
      "metadata": {
        "id": "0EQeCCbrhBZl"
      },
      "source": [
        "customers.loc[customers.State==\"California\", \"Tienda\"] = \"Wallmart\"\n",
        "customers"
      ],
      "execution_count": null,
      "outputs": []
    },
    {
      "cell_type": "markdown",
      "metadata": {
        "id": "vUAiad_NitAW"
      },
      "source": [
        "Imaginemos que queremos una nueva columna donde asignemos a los Segment = Consumer un descuento de 10% y a Corporarte un descuento del 12%."
      ]
    },
    {
      "cell_type": "code",
      "metadata": {
        "id": "27jm3kxUjBpP"
      },
      "source": [
        "customers.loc[customers.Segment==\"Consumer\", \"Discount\"] = 0.10\n",
        "customers.loc[customers.Segment==\"Corporate\", \"Discount\"] = 0.12\n",
        "\n",
        "customers"
      ],
      "execution_count": null,
      "outputs": []
    },
    {
      "cell_type": "markdown",
      "metadata": {
        "id": "1CASUFE7kb0R"
      },
      "source": [
        "Podemos cambiar todos los valores que coincidan con un valor en concreto."
      ]
    },
    {
      "cell_type": "code",
      "metadata": {
        "id": "KxL-MhqnkIn2"
      },
      "source": [
        "customers.loc[customers.City==\"New York City\", \"City\"] = \"NYC\"\n",
        "customers"
      ],
      "execution_count": null,
      "outputs": []
    },
    {
      "cell_type": "markdown",
      "metadata": {
        "id": "x6QThBvutzJX"
      },
      "source": [
        "Podemos crear columnas como formulas matemáticas de otras columnas.\n"
      ]
    },
    {
      "cell_type": "code",
      "metadata": {
        "id": "vso1a6ncuIrK"
      },
      "source": [
        "products = pd.read_sql(\"SELECT * FROM products\", db_con)\n",
        "\n",
        "\n",
        "\n",
        "\n",
        "products[\"Discounted_Price\"] = products[\"Price\"] * 0.9\n",
        "products.head()"
      ],
      "execution_count": null,
      "outputs": []
    },
    {
      "cell_type": "code",
      "metadata": {
        "id": "4yN6kXp4ucQL"
      },
      "source": [
        "products[\"Discounted_Amount\"] = products[\"Price\"] - products[\"Discounted_Price\"]\n",
        "products.head()"
      ],
      "execution_count": null,
      "outputs": []
    },
    {
      "cell_type": "markdown",
      "metadata": {
        "id": "f6Wzo-mRCg1A"
      },
      "source": [
        "# Exportando dataframes to_ function\n",
        "Haciendo operaciones sobre las columnas, aplicando funciones y filtrando lo que nos interesa, vamos a crear nuevos dataframes.\n",
        "\n",
        "Igual que con `read_*`, existen múltiples funciones para escribir un fichero del tipo `to_*` como `to_csv()`, `to_json()`, `to_excel()`, `to_sql()`...\n",
        "\n",
        "Escribir un fichero CSV es casi tan fácil como leerlo, utilizando la funcion to_csv() [link text](https://pandas.pydata.org/pandas-docs/stable/reference/api/pandas.DataFrame.to_csv.html)\n"
      ]
    },
    {
      "cell_type": "code",
      "metadata": {
        "id": "FOrhjvRKDlR9"
      },
      "source": [
        "products = pd.read_csv(\"https://raw.githubusercontent.com/cpinuaga/carlospinuagathevalley-IntroPandas2023/main/products.csv\")\n",
        "\n",
        "products.to_csv(\"productos.csv\")"
      ],
      "execution_count": null,
      "outputs": []
    },
    {
      "cell_type": "code",
      "source": [
        "# Por defecto se incluirá el índice, puedes omitirlo si lo deseas con el parámetro index\n",
        "products.to_excel(\"productos.xlsx\", index = False)"
      ],
      "metadata": {
        "id": "xkUY5BVv3dE9"
      },
      "execution_count": null,
      "outputs": []
    },
    {
      "cell_type": "markdown",
      "metadata": {
        "id": "l-Mxm9ApqN8q"
      },
      "source": [
        "# Ejercicio 3\n",
        "\n",
        "Dirígete al notebook de ejercicios y realiza el ejercicio 3"
      ]
    },
    {
      "cell_type": "markdown",
      "source": [
        "# Enlaces de interés\n",
        "\n",
        "Pandas Cheat Sheet: https://pandas.pydata.org/Pandas_Cheat_Sheet.pdf\n",
        "\n",
        "Documentación oficial de Pandas:https://pandas.pydata.org/docs/index.html\n",
        "\n",
        "Cómo conectar a una BDD con Pandas y SQLAlchemy: https://hackersandslackers.com/connecting-pandas-to-a-sql-database-with-sqlalchemy/\n"
      ],
      "metadata": {
        "id": "2pNNodafgkt3"
      }
    },
    {
      "cell_type": "markdown",
      "metadata": {
        "id": "kymFoq5Vkh1A"
      },
      "source": [
        "# DEJA TU FEEDBACK Y AYUDANOS A MEJORAR\n",
        "![QR 13-11-2023.png](data:image/png;base64,iVBORw0KGgoAAAANSUhEUgAAAN4AAADeAQMAAABoqSz0AAAABlBMVEX///8AAABVwtN+AAAACXBIWXMAAA7EAAAOxAGVKw4bAAABSUlEQVRYhe2Y4a0CMQyDI3WAjtTVM9INUCnPsa8IwRvASBeVg+bjB6mcNCHiscd+06ot8RpcMXu/XWG/z9yx4ItYe+bt9ISz4NgdQeJbWPhgDseFgEph+UPs6lrjWu6QPx+hwIfnfxoygkpBKiWPXsoWylQqFMeXGUGVitYIylsrhcJxhXCAoLCxDEMpqHAVthCimH3qXFlH156wD75DYSJWwz57V9i7cy3j+Pn0hX0Vt65TYcVHwTCDg8nHC/m4Z9pCBSGNMKzYxjCUhTx1FbZuKHxh518x7ZR8b+XNEHYKQiO6OtRQbF+42KGX+h2OFxm2kJnHXjI0D3HCcIU08WAZritsodrJkkY4tDnDu/q2lpcScTMpTSF7Xs1Ar9Zye0NdyK9TN4coEoN6UfPrCykT/TuiOX58DsRGUCl4tHzrOlzhY4/9mv0BlN+WGDG2iAcAAAAASUVORK5CYII=)"
      ]
    }
  ]
}