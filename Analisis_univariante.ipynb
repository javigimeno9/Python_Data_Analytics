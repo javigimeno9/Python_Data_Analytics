{
  "nbformat": 4,
  "nbformat_minor": 0,
  "metadata": {
    "colab": {
      "provenance": [],
      "toc_visible": true
    },
    "kernelspec": {
      "name": "python3",
      "display_name": "Python 3"
    }
  },
  "cells": [
    {
      "cell_type": "markdown",
      "metadata": {
        "id": "R53FGLN8jo1L"
      },
      "source": [
        "# 01 INTRO: Análisis Univariante\n",
        "Explicación de cómo realizar análisis univariantes.\n",
        "\n",
        "\n",
        "\n"
      ]
    },
    {
      "cell_type": "markdown",
      "metadata": {
        "id": "LSuEDXhPLi8u"
      },
      "source": [
        "## 0101 Qué es un análisis univariante?\n",
        "El análisis univariante consiste en estudiar la distribución y características de una sola variable.\n",
        "\n",
        "Veamos con ejemplos:"
      ]
    },
    {
      "cell_type": "markdown",
      "metadata": {
        "id": "cnHRaho3rsXS"
      },
      "source": [
        "## 0102 Import\n",
        "Importamos todas las librerías necesarias para este análisis ([¿No sabes lo que es una librería de Python?](https://www.quora.com/What-is-a-Python-library-and-what-can-I-use-it-for)): pandas, numpy, seaborn, matplotlib."
      ]
    },
    {
      "cell_type": "code",
      "metadata": {
        "id": "4be6xiUqjPHI"
      },
      "source": [
        "import pandas as pd\n",
        "import numpy as np\n",
        "import matplotlib.pyplot as plt\n",
        "import seaborn as sns"
      ],
      "execution_count": null,
      "outputs": []
    },
    {
      "cell_type": "markdown",
      "metadata": {
        "id": "AblkT14d4Gvt"
      },
      "source": [
        "## 0103 Carga el dataset Fifa19\n",
        "Para probar a hacer análisis univariantes utilizaremos el dataframe con datos ya limpios del fifa 19 (esta es la url de la versión raw de mi archivo ya limpio 'https://raw.githubusercontent.com/ssillerom/modulo_analisis_exploratorio/main/data/fifa19_clean.csv'). Importa este dataset en un dataframe llamado **df_fifa19**.\n",
        "\n",
        "Utiliza solo las columnas cols = ['Name', 'Age', 'Nationality', 'Overall', 'Potential', 'Club', 'Work Rate',\n",
        "        'Height_cm', 'Weight_kg', 'Value_€', 'Wage_€',\n",
        "        'Release Clause_€', 'Preferred Foot', 'Position', 'SprintSpeed'] y en este orden."
      ]
    },
    {
      "cell_type": "code",
      "metadata": {
        "colab": {
          "base_uri": "https://localhost:8080/",
          "height": 326
        },
        "id": "GMZACcIXOclu",
        "outputId": "7e3c6503-fb7d-4836-d90a-342bc47cea89"
      },
      "source": [
        "cols = ['Name', 'Age', 'Nationality', 'Overall', 'Potential', 'Club',\n",
        "        'Work Rate', 'Height_cm', 'Weight_kg', 'Value_€', 'Wage_€',\n",
        "        'Release Clause_€', 'Preferred Foot', 'Position', 'SprintSpeed']\n",
        "\n",
        "# Url archivo raw\n",
        "url = 'https://raw.githubusercontent.com/ssillerom/modulo_analisis_exploratorio/main/data/fifa19_clean.csv'\n",
        "\n",
        "# Importa csv\n",
        "df_fifa19 = pd.read_csv(url, usecols=cols)\n",
        "\n",
        "# Visualización primeras filas\n",
        "df_fifa19.head()"
      ],
      "execution_count": null,
      "outputs": [
        {
          "output_type": "execute_result",
          "data": {
            "text/html": [
              "<div>\n",
              "<style scoped>\n",
              "    .dataframe tbody tr th:only-of-type {\n",
              "        vertical-align: middle;\n",
              "    }\n",
              "\n",
              "    .dataframe tbody tr th {\n",
              "        vertical-align: top;\n",
              "    }\n",
              "\n",
              "    .dataframe thead th {\n",
              "        text-align: right;\n",
              "    }\n",
              "</style>\n",
              "<table border=\"1\" class=\"dataframe\">\n",
              "  <thead>\n",
              "    <tr style=\"text-align: right;\">\n",
              "      <th></th>\n",
              "      <th>Name</th>\n",
              "      <th>Age</th>\n",
              "      <th>Nationality</th>\n",
              "      <th>Overall</th>\n",
              "      <th>Potential</th>\n",
              "      <th>Club</th>\n",
              "      <th>Preferred Foot</th>\n",
              "      <th>Work Rate</th>\n",
              "      <th>Position</th>\n",
              "      <th>SprintSpeed</th>\n",
              "      <th>Weight_kg</th>\n",
              "      <th>Value_€</th>\n",
              "      <th>Wage_€</th>\n",
              "      <th>Release Clause_€</th>\n",
              "      <th>Height_cm</th>\n",
              "    </tr>\n",
              "  </thead>\n",
              "  <tbody>\n",
              "    <tr>\n",
              "      <th>0</th>\n",
              "      <td>L. Messi</td>\n",
              "      <td>31</td>\n",
              "      <td>Argentina</td>\n",
              "      <td>94</td>\n",
              "      <td>94</td>\n",
              "      <td>FC Barcelona</td>\n",
              "      <td>Left</td>\n",
              "      <td>Medium/ Medium</td>\n",
              "      <td>RF</td>\n",
              "      <td>86.0</td>\n",
              "      <td>72.121128</td>\n",
              "      <td>110500000.0</td>\n",
              "      <td>565000.0</td>\n",
              "      <td>226500000.0</td>\n",
              "      <td>170.18</td>\n",
              "    </tr>\n",
              "    <tr>\n",
              "      <th>1</th>\n",
              "      <td>Cristiano Ronaldo</td>\n",
              "      <td>33</td>\n",
              "      <td>Portugal</td>\n",
              "      <td>94</td>\n",
              "      <td>94</td>\n",
              "      <td>Juventus</td>\n",
              "      <td>Right</td>\n",
              "      <td>High/ Low</td>\n",
              "      <td>ST</td>\n",
              "      <td>91.0</td>\n",
              "      <td>83.007336</td>\n",
              "      <td>77000000.0</td>\n",
              "      <td>405000.0</td>\n",
              "      <td>127100000.0</td>\n",
              "      <td>187.96</td>\n",
              "    </tr>\n",
              "    <tr>\n",
              "      <th>2</th>\n",
              "      <td>Neymar Jr</td>\n",
              "      <td>26</td>\n",
              "      <td>Brazil</td>\n",
              "      <td>92</td>\n",
              "      <td>93</td>\n",
              "      <td>Paris Saint-Germain</td>\n",
              "      <td>Right</td>\n",
              "      <td>High/ Medium</td>\n",
              "      <td>LW</td>\n",
              "      <td>90.0</td>\n",
              "      <td>68.038800</td>\n",
              "      <td>118500000.0</td>\n",
              "      <td>290000.0</td>\n",
              "      <td>228100000.0</td>\n",
              "      <td>175.26</td>\n",
              "    </tr>\n",
              "    <tr>\n",
              "      <th>3</th>\n",
              "      <td>De Gea</td>\n",
              "      <td>27</td>\n",
              "      <td>Spain</td>\n",
              "      <td>91</td>\n",
              "      <td>93</td>\n",
              "      <td>Manchester United</td>\n",
              "      <td>Right</td>\n",
              "      <td>Medium/ Medium</td>\n",
              "      <td>GK</td>\n",
              "      <td>58.0</td>\n",
              "      <td>76.203456</td>\n",
              "      <td>72000000.0</td>\n",
              "      <td>260000.0</td>\n",
              "      <td>138600000.0</td>\n",
              "      <td>193.04</td>\n",
              "    </tr>\n",
              "    <tr>\n",
              "      <th>4</th>\n",
              "      <td>K. De Bruyne</td>\n",
              "      <td>27</td>\n",
              "      <td>Belgium</td>\n",
              "      <td>91</td>\n",
              "      <td>92</td>\n",
              "      <td>Manchester City</td>\n",
              "      <td>Right</td>\n",
              "      <td>High/ High</td>\n",
              "      <td>RCM</td>\n",
              "      <td>76.0</td>\n",
              "      <td>69.853168</td>\n",
              "      <td>102000000.0</td>\n",
              "      <td>355000.0</td>\n",
              "      <td>196400000.0</td>\n",
              "      <td>180.34</td>\n",
              "    </tr>\n",
              "  </tbody>\n",
              "</table>\n",
              "</div>"
            ],
            "text/plain": [
              "                Name  Age Nationality  ...    Wage_€  Release Clause_€ Height_cm\n",
              "0           L. Messi   31   Argentina  ...  565000.0       226500000.0    170.18\n",
              "1  Cristiano Ronaldo   33    Portugal  ...  405000.0       127100000.0    187.96\n",
              "2          Neymar Jr   26      Brazil  ...  290000.0       228100000.0    175.26\n",
              "3             De Gea   27       Spain  ...  260000.0       138600000.0    193.04\n",
              "4       K. De Bruyne   27     Belgium  ...  355000.0       196400000.0    180.34\n",
              "\n",
              "[5 rows x 15 columns]"
            ]
          },
          "metadata": {
            "tags": []
          },
          "execution_count": 15
        }
      ]
    },
    {
      "cell_type": "markdown",
      "metadata": {
        "id": "KBOQJ0AjdYrM"
      },
      "source": [
        "# 02 Variable numérica\n",
        "Veamos cómo estudiar una variable numérica (continua)."
      ]
    },
    {
      "cell_type": "markdown",
      "metadata": {
        "id": "AP85ZBHiRZHD"
      },
      "source": [
        "### 0201 Método .describe()\n",
        "El método .[describe()](https://pandas.pydata.org/pandas-docs/stable/reference/api/pandas.DataFrame.describe.html) devuelve automáticamente sólo las variables numéricas, con los estadísticos básicos:\n",
        "\n",
        "\n",
        "*   Count\n",
        "*   Mean\n",
        "*   std\n",
        "*   min\n",
        "*   25%\n",
        "*   50%\n",
        "*   75%\n",
        "*   max\n",
        "\n"
      ]
    },
    {
      "cell_type": "code",
      "metadata": {
        "colab": {
          "base_uri": "https://localhost:8080/",
          "height": 334
        },
        "id": "KASXfcX1o-lr",
        "outputId": "9338080c-d860-40f5-c07e-ece5d6a729d9"
      },
      "source": [
        "df_fifa19.describe()"
      ],
      "execution_count": null,
      "outputs": [
        {
          "output_type": "execute_result",
          "data": {
            "text/html": [
              "<div>\n",
              "<style scoped>\n",
              "    .dataframe tbody tr th:only-of-type {\n",
              "        vertical-align: middle;\n",
              "    }\n",
              "\n",
              "    .dataframe tbody tr th {\n",
              "        vertical-align: top;\n",
              "    }\n",
              "\n",
              "    .dataframe thead th {\n",
              "        text-align: right;\n",
              "    }\n",
              "</style>\n",
              "<table border=\"1\" class=\"dataframe\">\n",
              "  <thead>\n",
              "    <tr style=\"text-align: right;\">\n",
              "      <th></th>\n",
              "      <th>Age</th>\n",
              "      <th>Overall</th>\n",
              "      <th>Potential</th>\n",
              "      <th>SprintSpeed</th>\n",
              "      <th>Weight_kg</th>\n",
              "      <th>Value_€</th>\n",
              "      <th>Wage_€</th>\n",
              "      <th>Release Clause_€</th>\n",
              "      <th>Height_cm</th>\n",
              "    </tr>\n",
              "  </thead>\n",
              "  <tbody>\n",
              "    <tr>\n",
              "      <th>count</th>\n",
              "      <td>18159.000000</td>\n",
              "      <td>18159.000000</td>\n",
              "      <td>18159.000000</td>\n",
              "      <td>18159.000000</td>\n",
              "      <td>18159.000000</td>\n",
              "      <td>1.815900e+04</td>\n",
              "      <td>18159.000000</td>\n",
              "      <td>1.815900e+04</td>\n",
              "      <td>18159.000000</td>\n",
              "    </tr>\n",
              "    <tr>\n",
              "      <th>mean</th>\n",
              "      <td>25.122529</td>\n",
              "      <td>66.249904</td>\n",
              "      <td>71.319126</td>\n",
              "      <td>64.726967</td>\n",
              "      <td>75.286805</td>\n",
              "      <td>2.416131e+06</td>\n",
              "      <td>9752.574481</td>\n",
              "      <td>4.202278e+06</td>\n",
              "      <td>181.257584</td>\n",
              "    </tr>\n",
              "    <tr>\n",
              "      <th>std</th>\n",
              "      <td>4.670568</td>\n",
              "      <td>6.914613</td>\n",
              "      <td>6.134420</td>\n",
              "      <td>14.649953</td>\n",
              "      <td>7.073016</td>\n",
              "      <td>5.601319e+06</td>\n",
              "      <td>22024.397597</td>\n",
              "      <td>1.071975e+07</td>\n",
              "      <td>6.730145</td>\n",
              "    </tr>\n",
              "    <tr>\n",
              "      <th>min</th>\n",
              "      <td>16.000000</td>\n",
              "      <td>46.000000</td>\n",
              "      <td>48.000000</td>\n",
              "      <td>12.000000</td>\n",
              "      <td>49.895120</td>\n",
              "      <td>0.000000e+00</td>\n",
              "      <td>0.000000</td>\n",
              "      <td>0.000000e+00</td>\n",
              "      <td>154.940000</td>\n",
              "    </tr>\n",
              "    <tr>\n",
              "      <th>25%</th>\n",
              "      <td>21.000000</td>\n",
              "      <td>62.000000</td>\n",
              "      <td>67.000000</td>\n",
              "      <td>57.000000</td>\n",
              "      <td>69.853168</td>\n",
              "      <td>3.000000e+05</td>\n",
              "      <td>1000.000000</td>\n",
              "      <td>3.960000e+05</td>\n",
              "      <td>175.260000</td>\n",
              "    </tr>\n",
              "    <tr>\n",
              "      <th>50%</th>\n",
              "      <td>25.000000</td>\n",
              "      <td>66.000000</td>\n",
              "      <td>71.000000</td>\n",
              "      <td>67.000000</td>\n",
              "      <td>74.842680</td>\n",
              "      <td>6.750000e+05</td>\n",
              "      <td>3000.000000</td>\n",
              "      <td>1.000000e+06</td>\n",
              "      <td>180.340000</td>\n",
              "    </tr>\n",
              "    <tr>\n",
              "      <th>75%</th>\n",
              "      <td>28.000000</td>\n",
              "      <td>71.000000</td>\n",
              "      <td>75.000000</td>\n",
              "      <td>75.000000</td>\n",
              "      <td>79.832192</td>\n",
              "      <td>2.000000e+06</td>\n",
              "      <td>9000.000000</td>\n",
              "      <td>3.000000e+06</td>\n",
              "      <td>185.420000</td>\n",
              "    </tr>\n",
              "    <tr>\n",
              "      <th>max</th>\n",
              "      <td>45.000000</td>\n",
              "      <td>94.000000</td>\n",
              "      <td>95.000000</td>\n",
              "      <td>96.000000</td>\n",
              "      <td>110.222856</td>\n",
              "      <td>1.185000e+08</td>\n",
              "      <td>565000.000000</td>\n",
              "      <td>2.281000e+08</td>\n",
              "      <td>205.740000</td>\n",
              "    </tr>\n",
              "  </tbody>\n",
              "</table>\n",
              "</div>"
            ],
            "text/plain": [
              "                Age       Overall  ...  Release Clause_€     Height_cm\n",
              "count  18159.000000  18159.000000  ...      1.815900e+04  18159.000000\n",
              "mean      25.122529     66.249904  ...      4.202278e+06    181.257584\n",
              "std        4.670568      6.914613  ...      1.071975e+07      6.730145\n",
              "min       16.000000     46.000000  ...      0.000000e+00    154.940000\n",
              "25%       21.000000     62.000000  ...      3.960000e+05    175.260000\n",
              "50%       25.000000     66.000000  ...      1.000000e+06    180.340000\n",
              "75%       28.000000     71.000000  ...      3.000000e+06    185.420000\n",
              "max       45.000000     94.000000  ...      2.281000e+08    205.740000\n",
              "\n",
              "[8 rows x 9 columns]"
            ]
          },
          "metadata": {
            "tags": []
          },
          "execution_count": 16
        }
      ]
    },
    {
      "cell_type": "markdown",
      "metadata": {
        "id": "6GfQltGqs849"
      },
      "source": [
        "## 0202 Visualización de la distribución\n",
        "Los estadísticos básicos del .describe() nos dan información importante, pero suele ser más intuitivo, y muy útil, visualizar el histograma.\n",
        "\n",
        "Recordad, podemos generar un histograma con plt.[hist()](https://matplotlib.org/3.1.1/api/_as_gen/matplotlib.pyplot.hist.html)."
      ]
    },
    {
      "cell_type": "code",
      "metadata": {
        "id": "gIyQLm3oSTAr"
      },
      "source": [
        "sns.set()"
      ],
      "execution_count": null,
      "outputs": []
    },
    {
      "cell_type": "code",
      "metadata": {
        "id": "9mYRz8Tty_br",
        "colab": {
          "base_uri": "https://localhost:8080/",
          "height": 268
        },
        "outputId": "08cd2118-99bd-4008-8697-f59bcfb2c28b"
      },
      "source": [
        "# Distribución de variable 'Overall'\n",
        "plt.hist(df_fifa19['Overall'])\n",
        "plt.show()"
      ],
      "execution_count": null,
      "outputs": [
        {
          "output_type": "display_data",
          "data": {
            "image/png": "[encoded data removed]",
            "text/plain": [
              "<Figure size 432x288 with 1 Axes>"
            ]
          },
          "metadata": {
            "tags": []
          }
        }
      ]
    },
    {
      "cell_type": "code",
      "metadata": {
        "id": "r_sDdZcv4y0B",
        "colab": {
          "base_uri": "https://localhost:8080/",
          "height": 1000
        },
        "outputId": "aad32867-4c93-445b-8e52-9fb257f06909"
      },
      "source": [
        "# Ver distribución de todas las columnas\n",
        "for columna in df_fifa19.describe().columns:\n",
        "  plt.hist(df_fifa19[columna])\n",
        "  plt.title(columna)\n",
        "  plt.show()"
      ],
      "execution_count": null,
      "outputs": [
        {
          "output_type": "display_data",
          "data": {
            "image/png": "[encoded data removed]",
            "text/plain": [
              "<Figure size 432x288 with 1 Axes>"
            ]
          },
          "metadata": {
            "tags": []
          }
        },
        {
          "output_type": "display_data",
          "data": {
            "image/png": "[encoded data removed]",
            "text/plain": [
              "<Figure size 432x288 with 1 Axes>"
            ]
          },
          "metadata": {
            "tags": []
          }
        },
        {
          "output_type": "display_data",
          "data": {
            "image/png": "[encoded data removed]",
            "text/plain": [
              "<Figure size 432x288 with 1 Axes>"
            ]
          },
          "metadata": {
            "tags": []
          }
        },
        {
          "output_type": "display_data",
          "data": {
            "image/png": "[encoded data removed]",
            "text/plain": [
              "<Figure size 432x288 with 1 Axes>"
            ]
          },
          "metadata": {
            "tags": []
          }
        },
        {
          "output_type": "display_data",
          "data": {
            "image/png": "[encoded data removed]",
            "text/plain": [
              "<Figure size 432x288 with 1 Axes>"
            ]
          },
          "metadata": {
            "tags": []
          }
        },
        {
          "output_type": "display_data",
          "data": {
            "image/png": "[encoded data removed]",
            "text/plain": [
              "<Figure size 432x288 with 1 Axes>"
            ]
          },
          "metadata": {
            "tags": []
          }
        },
        {
          "output_type": "display_data",
          "data": {
            "image/png": "[encoded data removed]",
            "text/plain": [
              "<Figure size 432x288 with 1 Axes>"
            ]
          },
          "metadata": {
            "tags": []
          }
        },
        {
          "output_type": "display_data",
          "data": {
            "image/png": "[encoded data removed]",
            "text/plain": [
              "<Figure size 432x288 with 1 Axes>"
            ]
          },
          "metadata": {
            "tags": []
          }
        },
        {
          "output_type": "display_data",
          "data": {
            "image/png": "[encoded data removed]",
            "text/plain": [
              "<Figure size 432x288 with 1 Axes>"
            ]
          },
          "metadata": {
            "tags": []
          }
        }
      ]
    },
    {
      "cell_type": "markdown",
      "metadata": {
        "id": "lcnJKyElO8FU"
      },
      "source": [
        "# 03 Variable categórica\n",
        "Vamos cómo estudiar la distribución de una variable categórica."
      ]
    },
    {
      "cell_type": "markdown",
      "metadata": {
        "id": "7TX8LhTlWZC7"
      },
      "source": [
        "## 0301 Método value_counts()\n",
        "El método .[value_counts()](https://pandas.pydata.org/pandas-docs/stable/reference/api/pandas.Series.value_counts.html) devuelve la frecuencia de cada categoría."
      ]
    },
    {
      "cell_type": "code",
      "metadata": {
        "id": "4u_jD4FRPbZ7",
        "colab": {
          "base_uri": "https://localhost:8080/"
        },
        "outputId": "ac0cdcbc-2cfa-40df-e199-51b3dec1e60f"
      },
      "source": [
        "df_fifa19['Nationality'].value_counts()"
      ],
      "execution_count": null,
      "outputs": [
        {
          "output_type": "execute_result",
          "data": {
            "text/plain": [
              "England                 1657\n",
              "Germany                 1195\n",
              "Spain                   1071\n",
              "Argentina                936\n",
              "France                   911\n",
              "                        ... \n",
              "Lebanon                    1\n",
              "São Tomé & Príncipe        1\n",
              "St Lucia                   1\n",
              "Rwanda                     1\n",
              "United Arab Emirates       1\n",
              "Name: Nationality, Length: 164, dtype: int64"
            ]
          },
          "metadata": {
            "tags": []
          },
          "execution_count": 20
        }
      ]
    },
    {
      "cell_type": "code",
      "metadata": {
        "id": "Q-9OnPcLW-1E",
        "colab": {
          "base_uri": "https://localhost:8080/"
        },
        "outputId": "1f2f0047-fbed-4626-a2bf-5be066dce69c"
      },
      "source": [
        "df_fifa19['Preferred Foot'].value_counts()"
      ],
      "execution_count": null,
      "outputs": [
        {
          "output_type": "execute_result",
          "data": {
            "text/plain": [
              "Right    13948\n",
              "Left      4211\n",
              "Name: Preferred Foot, dtype: int64"
            ]
          },
          "metadata": {
            "tags": []
          },
          "execution_count": 21
        }
      ]
    },
    {
      "cell_type": "markdown",
      "metadata": {
        "id": "2w2N5MonXC1r"
      },
      "source": [
        "## 0302 Visualización de la frecuencia\n",
        "Recordemos, el método de visualización recomendado son las barras:\n",
        "\n",
        "\n",
        "*   plt.[bar()](https://matplotlib.org/3.1.1/api/_as_gen/matplotlib.pyplot.bar.html)\n",
        "*   plt.[barh()](https://matplotlib.org/3.1.1/api/_as_gen/matplotlib.pyplot.barh.html)\n",
        "\n",
        "Normalmente los gráficos de tarta no se recomiendan salvo en circunstancias excepcionales. Por ejemplo, cuando las categorías que se muestran son parte de un todo, el número de categorías es pequeño y saber si ciertas categorías suman más de un 50% es importante. La función plt.[pie()](https://matplotlib.org/3.1.1/api/_as_gen/matplotlib.pyplot.pie.html) genera un gráfico de tarta.\n"
      ]
    },
    {
      "cell_type": "code",
      "metadata": {
        "id": "3S1AFCZ6Yfuc"
      },
      "source": [
        "# Guardamos el resultado del value_counts (que está en formato serie)\n",
        "serie_nacionalidad = df_fifa19['Nationality'].value_counts()[:15]\n",
        "serie_pie = df_fifa19['Preferred Foot'].value_counts()"
      ],
      "execution_count": null,
      "outputs": []
    },
    {
      "cell_type": "code",
      "metadata": {
        "id": "SCw_Md3LPwNF",
        "colab": {
          "base_uri": "https://localhost:8080/",
          "height": 268
        },
        "outputId": "1df2b66a-0560-4950-ee3e-0c54683822e9"
      },
      "source": [
        "# Barras verticales\n",
        "plt.bar(x = serie_pie.index, height = serie_pie.values)\n",
        "plt.show()"
      ],
      "execution_count": null,
      "outputs": [
        {
          "output_type": "display_data",
          "data": {
            "image/png": "[encoded data removed]",
            "text/plain": [
              "<Figure size 432x288 with 1 Axes>"
            ]
          },
          "metadata": {
            "tags": []
          }
        }
      ]
    },
    {
      "cell_type": "code",
      "metadata": {
        "id": "YJG6Z25OaMud",
        "colab": {
          "base_uri": "https://localhost:8080/",
          "height": 248
        },
        "outputId": "56404292-30e6-4ce6-beda-edb8f69737fe"
      },
      "source": [
        "# Gráfico de tarta\n",
        "plt.pie(serie_pie.values, labels=serie_pie.index)\n",
        "plt.show()"
      ],
      "execution_count": null,
      "outputs": [
        {
          "output_type": "display_data",
          "data": {
            "image/png": "[encoded data removed]",
            "text/plain": [
              "<Figure size 432x288 with 1 Axes>"
            ]
          },
          "metadata": {
            "tags": []
          }
        }
      ]
    },
    {
      "cell_type": "code",
      "metadata": {
        "id": "klL3c30fVIMt",
        "colab": {
          "base_uri": "https://localhost:8080/",
          "height": 268
        },
        "outputId": "641da177-87f8-41ee-fb45-e008e3e8c579"
      },
      "source": [
        "# Barras horizontales\n",
        "plt.barh(y = serie_nacionalidad.index, width = serie_nacionalidad.values)\n",
        "plt.gca().invert_yaxis()"
      ],
      "execution_count": null,
      "outputs": [
        {
          "output_type": "display_data",
          "data": {
            "image/png": "[encoded data removed]",
            "text/plain": [
              "<Figure size 432x288 with 1 Axes>"
            ]
          },
          "metadata": {
            "tags": []
          }
        }
      ]
    },
    {
      "cell_type": "markdown",
      "metadata": {
        "id": "t4yTORdwuHCZ"
      },
      "source": [
        "## 0303 EJERCICIO\n",
        "Visualiza la variable categórica Posición (para las 10 posiciones más habituales) en barras horizontales."
      ]
    },
    {
      "cell_type": "code",
      "metadata": {
        "id": "uB8jnVUOVNrP",
        "colab": {
          "base_uri": "https://localhost:8080/"
        },
        "outputId": "578aa651-203f-4ff2-b7b6-b077500e34af"
      },
      "source": [
        "serie_posicion = df_fifa19['Position'].value_counts()[:10]\n",
        "serie_posicion"
      ],
      "execution_count": null,
      "outputs": [
        {
          "output_type": "execute_result",
          "data": {
            "text/plain": [
              "ST     2152\n",
              "GK     2025\n",
              "CB     1778\n",
              "CM     1394\n",
              "LB     1322\n",
              "RB     1291\n",
              "RM     1124\n",
              "LM     1095\n",
              "CAM     958\n",
              "CDM     948\n",
              "Name: Position, dtype: int64"
            ]
          },
          "metadata": {
            "tags": []
          },
          "execution_count": 28
        }
      ]
    },
    {
      "cell_type": "code",
      "metadata": {
        "id": "1mzfw0mNukZs",
        "colab": {
          "base_uri": "https://localhost:8080/",
          "height": 284
        },
        "outputId": "eab3b233-609e-49b3-8faf-9347e3e87c6b"
      },
      "source": [
        "# Visualización\n",
        "plt.barh(y = serie_posicion.index,\n",
        "         width = serie_posicion.values)\n",
        "plt.gca().invert_yaxis()\n",
        "plt.title('Posición')\n",
        "plt.show()"
      ],
      "execution_count": null,
      "outputs": [
        {
          "output_type": "display_data",
          "data": {
            "image/png": "[encoded data removed]",
            "text/plain": [
              "<Figure size 432x288 with 1 Axes>"
            ]
          },
          "metadata": {
            "tags": []
          }
        }
      ]
    }
  ]
}