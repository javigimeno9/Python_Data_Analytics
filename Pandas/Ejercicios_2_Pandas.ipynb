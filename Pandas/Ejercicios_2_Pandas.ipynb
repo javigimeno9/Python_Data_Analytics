{
  "nbformat": 4,
  "nbformat_minor": 0,
  "metadata": {
    "colab": {
      "provenance": []
    },
    "kernelspec": {
      "name": "python3",
      "display_name": "Python 3"
    }
  },
  "cells": [
    {
      "cell_type": "markdown",
      "metadata": {
        "id": "m2F0YKIGYs43"
      },
      "source": [
        "# Ejercicio 1\n",
        "\n",
        "En esta serie de ejercicios vamos a practicar a renombrar, juntar y combinar DataFrames haciendo uso de las funciones rename(), concat(), merge() y join(). Ejecuta el siguiente código antes de empezar para importar Pandas y definir las URL de los ficheros:"
      ]
    },
    {
      "cell_type": "code",
      "metadata": {
        "id": "Xq7a0_6UZOPl"
      },
      "source": [
        "import pandas as pd\n",
        "\n",
        "url_customers = \"https://raw.githubusercontent.com/cpinuaga/carlospinuagathevalley-IntroPandas2023/main/customers.csv\"\n",
        "url_products = \"https://raw.githubusercontent.com/cpinuaga/carlospinuagathevalley-IntroPandas2023/main/products.csv\"\n",
        "url_orders = \"https://raw.githubusercontent.com/cpinuaga/carlospinuagathevalley-IntroPandas2023/main/orders.csv\"\n",
        "url_returns = \"https://raw.githubusercontent.com/cpinuaga/carlospinuagathevalley-IntroPandas2023/main/returns.csv\""
      ],
      "execution_count": null,
      "outputs": []
    },
    {
      "cell_type": "markdown",
      "metadata": {
        "id": "Lro-z7NhZLRX"
      },
      "source": [
        "**Ejercicio 1.a**\n",
        "\n",
        "Lee el archivo de Orders en un DataFrame.  Partelo en dos dataframes de aprox la mitad de tamaño. Comprueba que efectivamente los nuevos dataframes tienen la mitad de filas con la funcion len() y muestralo con la funcion print()."
      ]
    },
    {
      "cell_type": "code",
      "metadata": {
        "id": "gI-rLDbOH2FK"
      },
      "source": [
        "orders = pd.read_csv(url_orders)\n",
        "\n",
        "print(len(orders))\n",
        "orders1 = orders[0:4997]\n",
        "orders2 = orders[4997:]\n",
        "\n",
        "print(len(orders1))\n",
        "print(len(orders2))"
      ],
      "execution_count": null,
      "outputs": []
    },
    {
      "cell_type": "code",
      "source": [
        "# Podemos ser más exactos de la siguiente manera, evitando tener que conocer la longitud del dataframe con antelación:\n",
        "orders = pd.read_csv(url_orders)\n",
        "\n",
        "orders1 = orders[0:len(orders)//2]\n",
        "orders2 = orders[len(orders)//2:]\n",
        "\n",
        "# El // se utiliza para realizar una división de números enteros hasta el siguiente entero más pequeño.\n",
        "\n",
        "print(len(orders1))\n",
        "print(len(orders2))"
      ],
      "metadata": {
        "id": "HvEkCM7iWVsI"
      },
      "execution_count": null,
      "outputs": []
    },
    {
      "cell_type": "markdown",
      "metadata": {
        "id": "_RPSMdgYbuY7"
      },
      "source": [
        "**Ejercicio 1.b** Vuelve a juntar los dos dataframes que creaste en el ejercicio anterior, haciendo uso de la función concat()"
      ]
    },
    {
      "cell_type": "code",
      "metadata": {
        "id": "gFfKsXJ6eQBV"
      },
      "source": [
        "orders3 = pd.concat([orders1, orders2])\n",
        "orders3"
      ],
      "execution_count": null,
      "outputs": []
    },
    {
      "cell_type": "markdown",
      "metadata": {
        "id": "_2lqF0cMoNSB"
      },
      "source": [
        "**Ejercicio 1.c**\n",
        "\n",
        "\n",
        "Utilizando la función merge(), une los datos de los pedidos (orders) y clientes (customers) realizando un cruce por la izquierda."
      ]
    },
    {
      "cell_type": "code",
      "metadata": {
        "id": "UIMkiJsQorOC"
      },
      "source": [
        "customers = pd.read_csv(url_customers)\n",
        "\n",
        "orders.merge(customers, how=\"left\", on=\"Customer_ID\")"
      ],
      "execution_count": null,
      "outputs": []
    },
    {
      "cell_type": "markdown",
      "metadata": {
        "id": "rQncZNstpw1O"
      },
      "source": [
        "**Ejercicio 1.d** Hazlo esta vez utilizando la funcion join(), para lo que tendras que indicar el index."
      ]
    },
    {
      "cell_type": "code",
      "metadata": {
        "id": "brK5vijKpIl5"
      },
      "source": [
        "customers = customers.set_index(\"Customer_ID\")\n",
        "\n",
        "orders.join(customers, on=\"Customer_ID\")"
      ],
      "execution_count": null,
      "outputs": []
    },
    {
      "cell_type": "markdown",
      "source": [
        "**Ejercicio 1.e**\n",
        "Cambia el nombre de la columna 'Product_ID' de la tabla de órdenes por 'Purchased product ID':"
      ],
      "metadata": {
        "id": "v_rjNETRheU8"
      }
    },
    {
      "cell_type": "code",
      "source": [
        "orders = orders.rename(columns={\"Product_ID\": \"Purchased product ID\"})\n",
        "orders"
      ],
      "metadata": {
        "id": "zzKLSmNohpqF"
      },
      "execution_count": null,
      "outputs": []
    },
    {
      "cell_type": "markdown",
      "source": [
        "**Ejercicio 1.f**\n",
        "Lee los datos de products y crúzalos con los datos de orders indicando la columna por la que cruzar en cada DataFrame. Asegura que solo te quedas con los productos que aparecen en ambos DataFrames haciendo un inner join."
      ],
      "metadata": {
        "id": "42IAqs-hiz4D"
      }
    },
    {
      "cell_type": "code",
      "source": [
        "products = pd.read_csv(url_products)\n",
        "products.merge(orders, how='inner', left_on='Product_ID', right_on='Purchased product ID')"
      ],
      "metadata": {
        "id": "knnrr3lzizB6"
      },
      "execution_count": null,
      "outputs": []
    },
    {
      "cell_type": "markdown",
      "metadata": {
        "id": "IbhYpZwZTMlt"
      },
      "source": [
        "# Ejercicio 2\n",
        "\n",
        "En este ejercicio vamos a practicar a trasnformar  nuestro dataframe con las funciones map() apply() y las funciones lambda."
      ]
    },
    {
      "cell_type": "code",
      "metadata": {
        "id": "RtGJEeyWZ5Gt"
      },
      "source": [
        "#Ejecuta este código para trabajar con el DataFrame de Pedidos y Productos\n",
        "orders = pd.read_csv(url_orders)\n",
        "products = pd.read_csv(url_products)\n",
        "orders_and_products = orders.merge(products, how=\"left\", on=\"Product_ID\")\n",
        "orders_and_products.head()"
      ],
      "execution_count": null,
      "outputs": []
    },
    {
      "cell_type": "markdown",
      "metadata": {
        "id": "DBe9b9MkZM2z"
      },
      "source": [
        "**Ejercicio 2.a** Crea una función que convierta de Dolares a Euros, utilizando el tipo de cambio 0.93€.\n",
        "\n",
        "Utilizando map(), crea una nueva columna Price_Eur que convierta Price  (suponiendo que está en dólares) a Euros, con la función que declaraste anteriormente.\n",
        "\n",
        "\n",
        "Prueba también con apply(), ¿funciona igual?"
      ]
    },
    {
      "cell_type": "code",
      "metadata": {
        "id": "0TrCqnbuTYhH"
      },
      "source": [
        "def convierte_euros(x):\n",
        "  return x * 0.93\n",
        "orders_and_products[\"Price_Eur\"] = orders_and_products[\"Price\"].map(convierte_euros)\n",
        "orders_and_products.head()"
      ],
      "execution_count": null,
      "outputs": []
    },
    {
      "cell_type": "code",
      "source": [
        "orders_and_products[\"Price_Eur\"] = orders_and_products[\"Price\"].apply(convierte_euros)\n",
        "orders_and_products.head()"
      ],
      "metadata": {
        "id": "ndwy4eqS_nSP"
      },
      "execution_count": null,
      "outputs": []
    },
    {
      "cell_type": "markdown",
      "metadata": {
        "id": "BTnYWT0zjGsi"
      },
      "source": [
        "**Ejercicio 2.b** Crea una nueva columna \"Amount\" que sea el resultado de multiplicar Price y Quantity utilizando una funcion lambda y apply()."
      ]
    },
    {
      "cell_type": "code",
      "metadata": {
        "id": "_0KKWY1tl2F3"
      },
      "source": [
        "orders_and_products[\"Amount\"] = orders_and_products.apply(lambda x: x[\"Price\"] * x[\"Quantity\"], axis=1)\n",
        "orders_and_products.head()"
      ],
      "execution_count": null,
      "outputs": []
    },
    {
      "cell_type": "markdown",
      "metadata": {
        "id": "WUV0eTTNu085"
      },
      "source": [
        "**Ejercicio 2.c** Ahora, aplica la funcion Apply() sobre las filas del dataframe (tendrás que itilizar axis=1 para ello), y crea una lambda  o una función que calcule un descuento utilizando la columna \"Amount\" del ejercicio anterior.\n",
        "\n",
        "Si la subcategoría es \"Furnishings\" o \"Labels\" que aplique un 12% de descuento, si no, un 7%.\n",
        "\n",
        "Guarda el resultado en una columna nueva llamada por ejemplo, \"Discounted_Amount\", pero puedes poner el nombre que quieras."
      ]
    },
    {
      "cell_type": "code",
      "metadata": {
        "id": "FKbmGuSAmkG6"
      },
      "source": [
        "orders_and_products[\"Discounted_Price\"] = orders_and_products.apply(lambda x: x[\"Amount\"] * 0.88 if x[\"Sub_Category\"] in [\"Furnishings\",\"Labels\"] else x[\"Amount\"]*0.93, axis=1)\n",
        "orders_and_products.head()"
      ],
      "execution_count": null,
      "outputs": []
    },
    {
      "cell_type": "code",
      "source": [
        "# Alternativa usando una función\n",
        "def calc_discount(x):\n",
        "  if x[\"Sub_Category\"] in [\"Furnishings\",\"Labels\"]:\n",
        "    return x[\"Amount\"] * 0.88\n",
        "  else:\n",
        "    return x[\"Amount\"]*0.93\n",
        "\n",
        "orders_and_products[\"Discounted_Price\"] = orders_and_products.apply(calc_discount, axis=1)\n",
        "orders_and_products.head()"
      ],
      "metadata": {
        "id": "f9ojY7ksAntx"
      },
      "execution_count": null,
      "outputs": []
    },
    {
      "cell_type": "markdown",
      "metadata": {
        "id": "YQYt69Ax8OcH"
      },
      "source": [
        "**Ejercicio 2.c** Ahora agrupa el dataset por cliente y suma amount para ver cuanto se ha gastado cada uno. Ordena el resultado para saber qué clientes han gastado más."
      ]
    },
    {
      "cell_type": "code",
      "metadata": {
        "id": "W0K2TC5t8cWA"
      },
      "source": [
        "orders_and_products.groupby(by=\"Customer_ID\")[\"Amount\"].agg(\"sum\").sort_values(ascending=False)"
      ],
      "execution_count": null,
      "outputs": []
    },
    {
      "cell_type": "markdown",
      "metadata": {
        "id": "18fXQhkf8vE5"
      },
      "source": [
        "**Ejercicio 2.d** Esta vez agrupa por cliente y categoría y utiliza la funcion agg para sumar (función sum) la columna amount y contar ids únicos (función nunique()) de productos diferentes. Veremos cuanto ha gastado cada cliente por categoría."
      ]
    },
    {
      "cell_type": "code",
      "metadata": {
        "id": "SvLc6jko9Du5"
      },
      "source": [
        "orders_and_products.groupby(by=[\"Customer_ID\", \"Category\"]).agg({\"Amount\": \"sum\", \"Product_ID\": \"nunique\"})\n"
      ],
      "execution_count": null,
      "outputs": []
    },
    {
      "cell_type": "markdown",
      "source": [
        "**Ejercicio 2.e**\n",
        "Crea una columna que categorice los productos según su precio.\n",
        "* Barato: menor que 300\n",
        "* Estándar: mayor o igual que 300 y menor que 800\n",
        "* Premium: mayor o igual que 800\n",
        "\n",
        "Después encuentra el cliente que mayor número de productos Premium ha comprado, y el cliente que más productos Baratos ha comprado."
      ],
      "metadata": {
        "id": "MAmiCdMQCTaU"
      }
    },
    {
      "cell_type": "code",
      "source": [
        "def calc_price_category(x):\n",
        "  if x['Price'] < 300:\n",
        "    return 'Barato'\n",
        "  elif x['Price'] >= 300 and x['Price'] < 800:\n",
        "    return 'Estándar'\n",
        "  elif x['Price'] >= 800:\n",
        "    return 'Premium'\n",
        "\n",
        "orders_and_products['Price_Category'] = orders_and_products.apply(calc_price_category, axis=1)\n",
        "\n",
        "orders_and_products[orders_and_products['Price_Category'] == 'Premium'].groupby(by=[\"Customer_ID\"])['Quantity'].agg('sum').sort_values(ascending=False)"
      ],
      "metadata": {
        "id": "z9fLCg6vCSe0"
      },
      "execution_count": null,
      "outputs": []
    },
    {
      "cell_type": "code",
      "source": [
        "orders_and_products[orders_and_products['Price_Category'] == 'Barato'].groupby(by=[\"Customer_ID\"])['Quantity'].agg('sum').sort_values(ascending=False)"
      ],
      "metadata": {
        "id": "FDdNnmV0HURq"
      },
      "execution_count": null,
      "outputs": []
    }
  ]
}
