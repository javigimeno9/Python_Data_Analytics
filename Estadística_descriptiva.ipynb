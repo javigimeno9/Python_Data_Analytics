{
  "nbformat": 4,
  "nbformat_minor": 0,
  "metadata": {
    "colab": {
      "provenance": [],
      "toc_visible": true
    },
    "kernelspec": {
      "display_name": "Python 3",
      "name": "python3"
    },
    "language_info": {
      "name": "python"
    }
  },
  "cells": [
    {
      "cell_type": "markdown",
      "metadata": {
        "id": "0LNtqrWp_TYj"
      },
      "source": [
        "<img src=\"https://thevalley.es/wp-content/uploads/2016/11/thevalley-logo-negro.png\" width=\"400\"></img>\n",
        "\n",
        "<img src=\"https://www.cognodata.com/wp-content/uploads/2019/07/estadistica-descriptiva-e-inferencial.jpg\" width=\"550\"></img>\n",
        "\n",
        "# Sesión estadística descriptiva básica\n",
        "\n",
        "**Notebook elaborado por: Pablo Contreras**\n"
      ]
    },
    {
      "cell_type": "markdown",
      "metadata": {
        "id": "XACvaQ3GAuOS"
      },
      "source": [
        "# Carga de librerías"
      ]
    },
    {
      "cell_type": "code",
      "metadata": {
        "id": "m4QqZatvAzXC"
      },
      "source": [
        "# -----------------\n",
        "# Import packages -\n",
        "# -----------------\n",
        "import numpy as np\n",
        "from scipy.stats import kurtosis\n",
        "import statistics # para la moda\n",
        "import matplotlib.pyplot as plt # para gráficos\n",
        "from scipy.stats import skew, norm # para simetría\n",
        "import pandas as pd # para el manejo de dataframes\n",
        "import seaborn as sns # para el gráfico de violín"
      ],
      "execution_count": null,
      "outputs": []
    },
    {
      "cell_type": "markdown",
      "metadata": {
        "id": "IGNAPdqOBF-u"
      },
      "source": [
        "# Medidas de posición o tendencia central"
      ]
    },
    {
      "cell_type": "markdown",
      "source": [
        "En el siguiente conjunto de datos se recogen los precios de oferta en venta de varios anuncios de determinado municipio de Madrid"
      ],
      "metadata": {
        "id": "x0Rg_2Y-k8sm"
      }
    },
    {
      "cell_type": "code",
      "source": [
        "# Create a Dictionary of series\n",
        "d = {'ADID':pd.Series([7845, 4085, 1098, 5284, 5743, 4389, 5287, 8293, 5225, 5555, 3578, 1389, 4273, 3594, 4987, 9678, 8765, 3456, 1243, 6734, 8907, 6785, 3498, 7845, 7956, 2376, 1238, 9854, 7655, 9875, 3588, 4567, 9086, 3468, 2365, 6745]),\n",
        "   'TYPOLOGY':pd.Series(['piso', 'piso', 'piso', 'piso', 'piso', 'piso', 'piso', 'piso', 'piso', 'piso', 'piso', 'piso', 'piso', 'piso', 'piso', 'piso', 'piso', 'piso', 'piso', 'piso', 'piso', 'piso', 'piso', 'piso', 'piso', 'piso', 'piso', 'piso', 'piso', 'piso', 'piso', 'piso', 'piso', 'piso', 'piso', 'piso']),\n",
        "   'PRICE':pd.Series([185000, 190000, 200000, 200000, 216000, 240000, 260000, 215000, 219000, 240000, 225000, 250000, 270000, 230000, 217000, 218000, 170000, 190000, 200000, 210000, 180000, 250000, 240000, 199000, 210000, 215000, 243000, 240000, 210000, 150000, 270000, 280000, 220000, 170000, 165000, 250000])\n",
        "}\n",
        "\n",
        "# Create a DataFrame\n",
        "df_pisos = pd.DataFrame(d)\n",
        "print(df_pisos)"
      ],
      "metadata": {
        "id": "5AIVNVr6mCLq",
        "colab": {
          "base_uri": "https://localhost:8080/"
        },
        "outputId": "8c119d31-321f-467f-f98b-76be396bf86d"
      },
      "execution_count": null,
      "outputs": [
        {
          "output_type": "stream",
          "name": "stdout",
          "text": [
            "    ADID TYPOLOGY   PRICE\n",
            "0   7845     piso  185000\n",
            "1   4085     piso  190000\n",
            "2   1098     piso  200000\n",
            "3   5284     piso  200000\n",
            "4   5743     piso  216000\n",
            "5   4389     piso  240000\n",
            "6   5287     piso  260000\n",
            "7   8293     piso  215000\n",
            "8   5225     piso  219000\n",
            "9   5555     piso  240000\n",
            "10  3578     piso  225000\n",
            "11  1389     piso  250000\n",
            "12  4273     piso  270000\n",
            "13  3594     piso  230000\n",
            "14  4987     piso  217000\n",
            "15  9678     piso  218000\n",
            "16  8765     piso  170000\n",
            "17  3456     piso  190000\n",
            "18  1243     piso  200000\n",
            "19  6734     piso  210000\n",
            "20  8907     piso  180000\n",
            "21  6785     piso  250000\n",
            "22  3498     piso  240000\n",
            "23  7845     piso  199000\n",
            "24  7956     piso  210000\n",
            "25  2376     piso  215000\n",
            "26  1238     piso  243000\n",
            "27  9854     piso  240000\n",
            "28  7655     piso  210000\n",
            "29  9875     piso  150000\n",
            "30  3588     piso  270000\n",
            "31  4567     piso  280000\n",
            "32  9086     piso  220000\n",
            "33  3468     piso  170000\n",
            "34  2365     piso  165000\n",
            "35  6745     piso  250000\n"
          ]
        }
      ]
    },
    {
      "cell_type": "markdown",
      "metadata": {
        "id": "1Pq6jpGBBNHi"
      },
      "source": [
        "## Media aritmética"
      ]
    },
    {
      "cell_type": "markdown",
      "metadata": {
        "id": "CGpKMRq3YX1A"
      },
      "source": [
        "Calcular el precio medio de venta\n"
      ]
    },
    {
      "cell_type": "code",
      "metadata": {
        "id": "2xoQwp5NBQwl",
        "colab": {
          "base_uri": "https://localhost:8080/"
        },
        "outputId": "3acc5800-c91f-4d36-a591-ffc4b12fee42"
      },
      "source": [
        "df_pisos.PRICE.mean()"
      ],
      "execution_count": null,
      "outputs": [
        {
          "output_type": "execute_result",
          "data": {
            "text/plain": [
              "217694.44444444444"
            ]
          },
          "metadata": {},
          "execution_count": 3
        }
      ]
    },
    {
      "cell_type": "code",
      "metadata": {
        "id": "-XeyIbp8GUuI",
        "colab": {
          "base_uri": "https://localhost:8080/"
        },
        "outputId": "4e40f0e6-a3a2-47f2-8375-51423bc5d9d1"
      },
      "source": [
        "media = sum(df_pisos.PRICE)/len(df_pisos.PRICE)\n",
        "media"
      ],
      "execution_count": null,
      "outputs": [
        {
          "output_type": "execute_result",
          "data": {
            "text/plain": [
              "217694.44444444444"
            ]
          },
          "metadata": {},
          "execution_count": 4
        }
      ]
    },
    {
      "cell_type": "markdown",
      "metadata": {
        "id": "_MR2qOPOY9JP"
      },
      "source": [
        "La media se ve muy alterada por valores extremos"
      ]
    },
    {
      "cell_type": "code",
      "metadata": {
        "id": "yzGT-c8vE5EA",
        "colab": {
          "base_uri": "https://localhost:8080/"
        },
        "outputId": "90ccfc8a-5119-4ed5-ccdb-47cdcd43b54e"
      },
      "source": [
        "W = np.append(df_pisos.PRICE, 5000000) # Amancio Ortega se construye un palacio en el municipio de 5M€\n",
        "W.mean()"
      ],
      "execution_count": null,
      "outputs": [
        {
          "output_type": "execute_result",
          "data": {
            "text/plain": [
              "346945.9459459459"
            ]
          },
          "metadata": {},
          "execution_count": 5
        }
      ]
    },
    {
      "cell_type": "markdown",
      "metadata": {
        "id": "sKbIow09g_qP"
      },
      "source": [
        "## Media ponderada"
      ]
    },
    {
      "cell_type": "markdown",
      "metadata": {
        "id": "mS06C4fSnIZl"
      },
      "source": [
        "**Ejemplo 1**. Para conocer la nota en una asignatura, el alumno será evaluado en un examen que valdrá el 70% de la nota, unas prácticas que contarán el 20% y participación en clase que contará un 10%. Si sus notas han sido 4, 8, 7 respectivamente, ¿ha aprobado el alumno?"
      ]
    },
    {
      "cell_type": "code",
      "metadata": {
        "id": "I2GxKOcRnxU5",
        "colab": {
          "base_uri": "https://localhost:8080/"
        },
        "outputId": "f6552ca8-9959-4063-a5a5-fc880ab1f38f"
      },
      "source": [
        "X = np.array([4, 8, 7])\n",
        "np.average(X, weights=[0.7, 0.2, 0.1])"
      ],
      "execution_count": null,
      "outputs": [
        {
          "output_type": "execute_result",
          "data": {
            "text/plain": [
              "5.100000000000001"
            ]
          },
          "metadata": {},
          "execution_count": 6
        }
      ]
    },
    {
      "cell_type": "markdown",
      "source": [
        "¿A quien no le ha pasado que las prácticas le han acabado salvando? 🙂"
      ],
      "metadata": {
        "id": "hIbu3_AQ8Lj8"
      }
    },
    {
      "cell_type": "markdown",
      "metadata": {
        "id": "G0Hq85g2p0MA"
      },
      "source": [
        "\n",
        "\n",
        "---\n",
        "\n",
        "\n"
      ]
    },
    {
      "cell_type": "markdown",
      "metadata": {
        "id": "U2fTGq4bhE98"
      },
      "source": [
        "**Ejemplo 2**. Supongamos que en nuestro municipio se construyen 10 chalets. Sabemos que el precio medio de venta de los pisos es 217694.44€. Y el de los chalets de 332500€ ¿Cual es el precio medio de venta de la zona?"
      ]
    },
    {
      "cell_type": "code",
      "source": [
        "X = 217694.44 # pisos\n",
        "Y = 332500 # chalet"
      ],
      "metadata": {
        "id": "qQWzc3xw2468"
      },
      "execution_count": null,
      "outputs": []
    },
    {
      "cell_type": "markdown",
      "metadata": {
        "id": "8UHfhl0IiYLU"
      },
      "source": [
        "Si hiciesemos directamente la media de los precios sería erroneo porque estaríamos dando el mismo peso al precio de los chalets que al precio de los pisos cuando sabemos que hay más pisos que chalets en la localidad. El precio medio resultante no sería representativo."
      ]
    },
    {
      "cell_type": "code",
      "metadata": {
        "id": "QA8lIwSAi7j7",
        "colab": {
          "base_uri": "https://localhost:8080/"
        },
        "outputId": "f9978d87-39b6-4930-965f-b81ca65d00b1"
      },
      "source": [
        "Z = np.append(X, Y)\n",
        "Z.mean() # no representativo"
      ],
      "execution_count": null,
      "outputs": [
        {
          "output_type": "execute_result",
          "data": {
            "text/plain": [
              "275097.22"
            ]
          },
          "metadata": {},
          "execution_count": 8
        }
      ]
    },
    {
      "cell_type": "markdown",
      "metadata": {
        "id": "lPnEnh9kkTup"
      },
      "source": [
        "El precio medio de venta representativo de la localidad sería el resultado de hacer la media ponderada. En este caso el peso de los pisos sería 35/45 = 0.77 y el de los chalets  10/45 = 0.23. Vemos como el precio medio se acerca más a los precios de venta de los pisos que al de los chalets."
      ]
    },
    {
      "cell_type": "code",
      "source": [
        "np.average(Z, weights=[0.77, 0.23])"
      ],
      "metadata": {
        "id": "zykSxSOP3YNS",
        "colab": {
          "base_uri": "https://localhost:8080/"
        },
        "outputId": "cc05ed15-371c-42ca-8de5-08d859f53ab3"
      },
      "execution_count": null,
      "outputs": [
        {
          "output_type": "execute_result",
          "data": {
            "text/plain": [
              "244099.7188"
            ]
          },
          "metadata": {},
          "execution_count": 9
        }
      ]
    },
    {
      "cell_type": "markdown",
      "source": [
        "¡Ojo! Si dispusiesemos de los precios de venta de cada uno de los 10 chalets, para calcular el precio medio bastaría con hacer la media aritmética"
      ],
      "metadata": {
        "id": "b86OwjvvwPSG"
      }
    },
    {
      "cell_type": "code",
      "metadata": {
        "id": "OzLGmSHohDeh",
        "colab": {
          "base_uri": "https://localhost:8080/"
        },
        "outputId": "44736691-7385-4eef-b196-d731c7ff5a50"
      },
      "source": [
        "df_chalets = pd.DataFrame({\"ADID\":[2059, 3466, 2352, 9823, 3647, 1382, 9999, 4239, 3593, 1798],\n",
        "                    \"TYPOLOGY\":['chalet', 'chalet', 'chalet', 'chalet', 'chalet', 'chalet', 'chalet', 'chalet', 'chalet', 'chalet'],\n",
        "                    \"PRICE\":[320000, 310000, 350000, 330000, 340000, 350000, 320000, 325000, 330000, 350000]})\n",
        "\n",
        "df_pisos_n_chalets = df_pisos.append(df_chalets)\n",
        "print(df_pisos_n_chalets)"
      ],
      "execution_count": null,
      "outputs": [
        {
          "output_type": "stream",
          "name": "stdout",
          "text": [
            "    ADID TYPOLOGY   PRICE\n",
            "0   7845     piso  185000\n",
            "1   4085     piso  190000\n",
            "2   1098     piso  200000\n",
            "3   5284     piso  200000\n",
            "4   5743     piso  216000\n",
            "5   4389     piso  240000\n",
            "6   5287     piso  260000\n",
            "7   8293     piso  215000\n",
            "8   5225     piso  219000\n",
            "9   5555     piso  240000\n",
            "10  3578     piso  225000\n",
            "11  1389     piso  250000\n",
            "12  4273     piso  270000\n",
            "13  3594     piso  230000\n",
            "14  4987     piso  217000\n",
            "15  9678     piso  218000\n",
            "16  8765     piso  170000\n",
            "17  3456     piso  190000\n",
            "18  1243     piso  200000\n",
            "19  6734     piso  210000\n",
            "20  8907     piso  180000\n",
            "21  6785     piso  250000\n",
            "22  3498     piso  240000\n",
            "23  7845     piso  199000\n",
            "24  7956     piso  210000\n",
            "25  2376     piso  215000\n",
            "26  1238     piso  243000\n",
            "27  9854     piso  240000\n",
            "28  7655     piso  210000\n",
            "29  9875     piso  150000\n",
            "30  3588     piso  270000\n",
            "31  4567     piso  280000\n",
            "32  9086     piso  220000\n",
            "33  3468     piso  170000\n",
            "34  2365     piso  165000\n",
            "35  6745     piso  250000\n",
            "0   2059   chalet  320000\n",
            "1   3466   chalet  310000\n",
            "2   2352   chalet  350000\n",
            "3   9823   chalet  330000\n",
            "4   3647   chalet  340000\n",
            "5   1382   chalet  350000\n",
            "6   9999   chalet  320000\n",
            "7   4239   chalet  325000\n",
            "8   3593   chalet  330000\n",
            "9   1798   chalet  350000\n"
          ]
        },
        {
          "output_type": "stream",
          "name": "stderr",
          "text": [
            "<ipython-input-10-5eea359a7604>:5: FutureWarning: The frame.append method is deprecated and will be removed from pandas in a future version. Use pandas.concat instead.\n",
            "  df_pisos_n_chalets = df_pisos.append(df_chalets)\n"
          ]
        }
      ]
    },
    {
      "cell_type": "code",
      "metadata": {
        "id": "7DC6UH6IjKPY",
        "colab": {
          "base_uri": "https://localhost:8080/"
        },
        "outputId": "65d1eb23-fa65-41f6-deb8-c0421bc0b036"
      },
      "source": [
        "df_pisos_n_chalets.PRICE.mean() # La pequeña diferencia respecto al valor de la media ponderada es debido a redondeo por decimales"
      ],
      "execution_count": null,
      "outputs": [
        {
          "output_type": "execute_result",
          "data": {
            "text/plain": [
              "242652.1739130435"
            ]
          },
          "metadata": {},
          "execution_count": 11
        }
      ]
    },
    {
      "cell_type": "markdown",
      "metadata": {
        "id": "UdNxtAgsGQIm"
      },
      "source": [
        "## Mediana"
      ]
    },
    {
      "cell_type": "markdown",
      "metadata": {
        "id": "Wvo1WxrRGe_v"
      },
      "source": [
        "Calcular el precio mediano de los pisos del municipio"
      ]
    },
    {
      "cell_type": "code",
      "metadata": {
        "id": "t7ti0vYSk4sm",
        "colab": {
          "base_uri": "https://localhost:8080/"
        },
        "outputId": "9ee02f0a-417a-40c1-b2bf-4e870071731e"
      },
      "source": [
        "df_pisos.PRICE.median()"
      ],
      "execution_count": null,
      "outputs": [
        {
          "output_type": "execute_result",
          "data": {
            "text/plain": [
              "216500.0"
            ]
          },
          "metadata": {},
          "execution_count": 12
        }
      ]
    },
    {
      "cell_type": "markdown",
      "metadata": {
        "id": "dJ4QWiCgaHjg"
      },
      "source": [
        "## Comparativa mediana vs media aritmética"
      ]
    },
    {
      "cell_type": "markdown",
      "metadata": {
        "id": "ES16xvANcHT-"
      },
      "source": [
        "Vamos a demostrar como la mediana es más robusta frente a valores extremos que la media. ¿Recuerdas como el palacete de Amancio Ortega distorsionaba el precio medio de los pisos?"
      ]
    },
    {
      "cell_type": "code",
      "metadata": {
        "id": "RkMvPY-GakOZ",
        "colab": {
          "base_uri": "https://localhost:8080/"
        },
        "outputId": "2f2a8dd0-9aed-4aa0-9b74-d0f99db298e2"
      },
      "source": [
        "W = np.append(df_pisos.PRICE, 5000000) # Amancio Ortega se construye un palacio en el municipio de 5M€\n",
        "W.mean() # (El precio medio de los pisos sin Amancio era de 217694.44)"
      ],
      "execution_count": null,
      "outputs": [
        {
          "output_type": "execute_result",
          "data": {
            "text/plain": [
              "346945.9459459459"
            ]
          },
          "metadata": {},
          "execution_count": 13
        }
      ]
    },
    {
      "cell_type": "markdown",
      "metadata": {
        "id": "r286t11hc2lP"
      },
      "source": [
        "La media se dispara mientras que la mediana se mantiene más estable"
      ]
    },
    {
      "cell_type": "code",
      "metadata": {
        "id": "02n6iKLVdAEx",
        "colab": {
          "base_uri": "https://localhost:8080/"
        },
        "outputId": "233910cf-897b-4092-8a69-3381affd771a"
      },
      "source": [
        "print(W.mean(), np.median(W))"
      ],
      "execution_count": null,
      "outputs": [
        {
          "output_type": "stream",
          "name": "stdout",
          "text": [
            "346945.9459459459 217000.0\n"
          ]
        }
      ]
    },
    {
      "cell_type": "markdown",
      "metadata": {
        "id": "1wDXn2Y8YA_h"
      },
      "source": [
        "## Moda"
      ]
    },
    {
      "cell_type": "markdown",
      "metadata": {
        "id": "-lS88fA1YlWx"
      },
      "source": [
        "Calcular el precio modal de los pisos del municipio"
      ]
    },
    {
      "cell_type": "code",
      "metadata": {
        "id": "zjEDMu8vYCXC",
        "colab": {
          "base_uri": "https://localhost:8080/"
        },
        "outputId": "58b531bd-fd40-439b-b7d1-1f60a811ebbd"
      },
      "source": [
        "df_pisos.PRICE.mode()"
      ],
      "execution_count": null,
      "outputs": [
        {
          "output_type": "execute_result",
          "data": {
            "text/plain": [
              "0    240000\n",
              "Name: PRICE, dtype: int64"
            ]
          },
          "metadata": {},
          "execution_count": 15
        }
      ]
    },
    {
      "cell_type": "markdown",
      "metadata": {
        "id": "RJingMfLhVOH"
      },
      "source": [
        "## Cuantiles"
      ]
    },
    {
      "cell_type": "markdown",
      "metadata": {
        "id": "PLJrK4d4hYB_"
      },
      "source": [
        "Calcular el percentil de orden 23, el segundo decil y el primer cuartil de los precios de los pisos"
      ]
    },
    {
      "cell_type": "code",
      "metadata": {
        "id": "L4ZLknHhhXQV",
        "colab": {
          "base_uri": "https://localhost:8080/"
        },
        "outputId": "ad55abe6-24dc-463c-83d5-03b192ddf5aa"
      },
      "source": [
        "print(\"Percentil 23: \", df_pisos.PRICE.quantile(.23))\n",
        "print(\"Segundo decil: \", df_pisos.PRICE.quantile(.2))\n",
        "print(\"Primer cuartil: \", df_pisos.PRICE.quantile(.25))"
      ],
      "execution_count": null,
      "outputs": [
        {
          "output_type": "stream",
          "name": "stdout",
          "text": [
            "Percentil 23:  199050.0\n",
            "Segundo decil:  190000.0\n",
            "Primer cuartil:  199750.0\n"
          ]
        }
      ]
    },
    {
      "cell_type": "code",
      "source": [
        "df_quantile = pd.DataFrame({\"EXAMPLE\":[10,20,20,30,40]})\n",
        "print(\"Percentil 23: \", df_quantile.EXAMPLE.quantile(.23))"
      ],
      "metadata": {
        "id": "sfp_fXAM6gkb",
        "colab": {
          "base_uri": "https://localhost:8080/"
        },
        "outputId": "3fb67a0c-2a7f-4b61-9a40-5ba3a0157440"
      },
      "execution_count": null,
      "outputs": [
        {
          "output_type": "stream",
          "name": "stdout",
          "text": [
            "Percentil 23:  19.2\n"
          ]
        }
      ]
    },
    {
      "cell_type": "markdown",
      "metadata": {
        "id": "_sZNOU1TCGcp"
      },
      "source": [
        "# Medidas de dispersión"
      ]
    },
    {
      "cell_type": "markdown",
      "metadata": {
        "id": "eK_0J__yCN6_"
      },
      "source": [
        "## Varianza y desviación típica"
      ]
    },
    {
      "cell_type": "markdown",
      "metadata": {
        "id": "XLwMfWLtDW56"
      },
      "source": [
        "Uso de la varianza para determinar la representatividad de la media aritmética. Sean X e Y dos variables con igual media"
      ]
    },
    {
      "cell_type": "code",
      "metadata": {
        "id": "npllRFLiCIly",
        "colab": {
          "base_uri": "https://localhost:8080/"
        },
        "outputId": "a3a860c7-fa82-40ba-c3f0-3bdeac37e2a6"
      },
      "source": [
        "X = np.array([45, 46, 47, 48, 49, 50, 51, 52, 53, 54, 55])\n",
        "Y = np.array([0, 25, 50, 75, 100])\n",
        "\n",
        "print(\"Media de X: \", X.mean())\n",
        "print(\"Media de Y: \", Y.mean())\n",
        "print(\"Varianza de X: \", X.var())\n",
        "print(\"Varianza de Y: \", Y.var())\n",
        "print(\"Desviación típica de X: \", X.std())\n",
        "print(\"Desviación típica de Y: \", Y.std())"
      ],
      "execution_count": null,
      "outputs": [
        {
          "output_type": "stream",
          "name": "stdout",
          "text": [
            "Media de X:  50.0\n",
            "Media de Y:  50.0\n",
            "Varianza de X:  10.0\n",
            "Varianza de Y:  1250.0\n",
            "Desviación típica de X:  3.1622776601683795\n",
            "Desviación típica de Y:  35.35533905932738\n"
          ]
        }
      ]
    },
    {
      "cell_type": "markdown",
      "metadata": {
        "id": "DZa3Zj4oEt8J"
      },
      "source": [
        "* Como vemos, las medias aritméticas de las variables coinciden, pero la representatividad de la media es más alta en el caso de la variable X, porque los valores están más próximos entre sí (desv típica más baja) que en el caso de la variable Y.\n",
        "\n",
        "* Si por ejemplo X estuviese midiendo la edad de ciertas personas, la interpretación de su desviación típica sería la siguiente: de media, la diferencia entre las edades de las personas que conforman la muestra es de 3.16 años\n",
        "\n",
        "* Si comparamos el valor de la desv tipica de X con la media de X vemos que la desv tipica es un valor mucho menor que el valor de la media de X por lo que podemos afirmar que la variabilidad de X es baja"
      ]
    },
    {
      "cell_type": "markdown",
      "metadata": {
        "id": "bmjfi3-LFWuq"
      },
      "source": [
        "\n",
        "\n",
        "\n",
        "\n",
        "\n",
        "\n",
        "---\n",
        "\n"
      ]
    },
    {
      "cell_type": "markdown",
      "metadata": {
        "id": "rT6guXopM7gJ"
      },
      "source": [
        "## Rango y rango intercuartílico"
      ]
    },
    {
      "cell_type": "code",
      "source": [
        "df_pisos.PRICE.describe()"
      ],
      "metadata": {
        "id": "T1eaDttFesFy",
        "colab": {
          "base_uri": "https://localhost:8080/"
        },
        "outputId": "15518434-b5db-4f78-c68a-af45b37e76b9"
      },
      "execution_count": null,
      "outputs": [
        {
          "output_type": "execute_result",
          "data": {
            "text/plain": [
              "count        36.000000\n",
              "mean     217694.444444\n",
              "std       31411.389604\n",
              "min      150000.000000\n",
              "25%      199750.000000\n",
              "50%      216500.000000\n",
              "75%      240000.000000\n",
              "max      280000.000000\n",
              "Name: PRICE, dtype: float64"
            ]
          },
          "metadata": {},
          "execution_count": 19
        }
      ]
    },
    {
      "cell_type": "code",
      "source": [
        "print(\"El rango de PRICE: \", 280000 - 150000)\n",
        "print(\"El IQR de PRICE: \", 240000 - 199750)"
      ],
      "metadata": {
        "id": "bn-Bf-59e3Fk",
        "colab": {
          "base_uri": "https://localhost:8080/"
        },
        "outputId": "07500589-5531-43ac-950f-dabbc8e25af6"
      },
      "execution_count": null,
      "outputs": [
        {
          "output_type": "stream",
          "name": "stdout",
          "text": [
            "El rango de PRICE:  130000\n",
            "El IQR de PRICE:  40250\n"
          ]
        }
      ]
    },
    {
      "cell_type": "markdown",
      "source": [
        "A mayor rango o IQR, mayor dispersión de los datos"
      ],
      "metadata": {
        "id": "R92ajV1sP0zU"
      }
    },
    {
      "cell_type": "markdown",
      "source": [
        "Al igual que con la media y mediana, cuando la distribución de la variable es muy heterogenea o hay valores atípicos, el IQR es más representativo que el rango"
      ],
      "metadata": {
        "id": "LhSScWELfOtm"
      }
    },
    {
      "cell_type": "code",
      "source": [
        "Q3, Q1 = np.percentile(df_pisos.PRICE, [75 ,25])\n",
        "print(Q1, Q3)\n",
        "IQR = Q3 - Q1\n",
        "print(\"El IQR de W: \", IQR)\n",
        "print(\"El rango de W: \", df_pisos.PRICE.max() - df_pisos.PRICE.min())"
      ],
      "metadata": {
        "id": "-YK6_e1maHPe",
        "colab": {
          "base_uri": "https://localhost:8080/"
        },
        "outputId": "72726555-5214-4ba8-d9a8-91ce9573865f"
      },
      "execution_count": null,
      "outputs": [
        {
          "output_type": "stream",
          "name": "stdout",
          "text": [
            "199750.0 240000.0\n",
            "El IQR de W:  40250.0\n",
            "El rango de W:  130000\n"
          ]
        }
      ]
    },
    {
      "cell_type": "code",
      "source": [
        "W = np.append(df_pisos.PRICE, 5000000) # Amancio Ortega se construye un palacio en el municipio de 5M€\n",
        "Q3, Q1 = np.percentile(W, [75 ,25])\n",
        "print(Q1, Q3)\n",
        "IQR = Q3 - Q1\n",
        "print(\"El IQR de W: \", IQR)\n",
        "print(\"El rango de W: \", W.max() - W.min())"
      ],
      "metadata": {
        "id": "YV3JzVSMfhwZ",
        "colab": {
          "base_uri": "https://localhost:8080/"
        },
        "outputId": "52c4335a-ed36-4f8c-bf8d-10a81edb0d03"
      },
      "execution_count": null,
      "outputs": [
        {
          "output_type": "stream",
          "name": "stdout",
          "text": [
            "200000.0 240000.0\n",
            "El IQR de W:  40000.0\n",
            "El rango de W:  4850000\n"
          ]
        }
      ]
    },
    {
      "cell_type": "markdown",
      "metadata": {
        "id": "jda_D-_qSWn4"
      },
      "source": [
        "## Coeficiente de variación de Pearson"
      ]
    },
    {
      "cell_type": "markdown",
      "source": [
        "Pensemos en una población de elefantes y otra de ratones. La población de elefantes tiene un peso medio de 5.000 kilogramos y una desviación típica de 400 kilogramos. La población de ratones tiene un peso medio de 15 gramos y una desviación típica de 5 gramos. Si comparáramos la dispersión de ambas poblaciones mediante la desviación típica podríamos pensar que hay mayor dispersión para la población de elefantes que para la de los ratones.\n",
        "\n",
        "Sin embargo al calcular el coeficiente de variación para ambas poblaciones, nos daríamos cuenta que es justo al contrario."
      ],
      "metadata": {
        "id": "VwBpVJIX52sU"
      }
    },
    {
      "cell_type": "code",
      "metadata": {
        "id": "chjQCTe7Sa_Y",
        "colab": {
          "base_uri": "https://localhost:8080/"
        },
        "outputId": "4a94cc5b-7d9d-47cd-b262-4c1657898c77"
      },
      "source": [
        "print(\"Coeficiente de variación de elefantes: \", 400/5000)\n",
        "print(\"Coeficiente de variación de ratones: \", 5/15)"
      ],
      "execution_count": null,
      "outputs": [
        {
          "output_type": "stream",
          "name": "stdout",
          "text": [
            "Coeficiente de variación de elefantes:  0.08\n",
            "Coeficiente de variación de ratones:  0.3333333333333333\n"
          ]
        }
      ]
    },
    {
      "cell_type": "markdown",
      "metadata": {
        "id": "C5tjSLJCUKrv"
      },
      "source": [
        "Vemos que la población con mayor dispersión, no es la que tiene una mayor desviación típica. En general, se suele convenir en que valores de\n",
        "menores a 0.1 indican una\n",
        "alta concentración, entre 0.1 y 0.5 una concentración media, y valores superiores a\n",
        "0.5 una alta dispersión y una media poco o nada representativa."
      ]
    },
    {
      "cell_type": "markdown",
      "metadata": {
        "id": "LqUye8Nkx_54"
      },
      "source": [
        "# Medidas de forma"
      ]
    },
    {
      "cell_type": "markdown",
      "metadata": {
        "id": "Wk6DBQ-TyDRl"
      },
      "source": [
        "## Simetría"
      ]
    },
    {
      "cell_type": "markdown",
      "metadata": {
        "id": "hpA0TAkYyeJW"
      },
      "source": [
        "Sea X una variable que mide en kg el peso de una muestra de personas mayores de 18 años"
      ]
    },
    {
      "cell_type": "code",
      "metadata": {
        "id": "ogfrsW89yBcS",
        "colab": {
          "base_uri": "https://localhost:8080/",
          "height": 469
        },
        "outputId": "42f9ccfe-895e-4e82-c8ff-c7f9fed0599e"
      },
      "source": [
        "mu, sigma = 70, 12 # media y desv tipica\n",
        "X = np.random.normal(mu, sigma, 100000)\n",
        "\n",
        "plt.hist(X, bins='auto')\n",
        "plt.title(\"Histogram with 'auto' bins\")\n",
        "plt.show()\n",
        "\n",
        "print('El coeficiente de simetria es', skew(X))"
      ],
      "execution_count": null,
      "outputs": [
        {
          "output_type": "display_data",
          "data": {
            "text/plain": [
              "<Figure size 640x480 with 1 Axes>"
            ],
            "image/png": "[encoded data removed]"
          },
          "metadata": {}
        },
        {
          "output_type": "stream",
          "name": "stdout",
          "text": [
            "El coeficiente de simetria es -0.002311093889486616\n"
          ]
        }
      ]
    },
    {
      "cell_type": "markdown",
      "metadata": {
        "id": "zZsGe3CE5XeC"
      },
      "source": [
        "Dado que la variable X ha sido generada aleatoriamente, el coeficiente de simetría no es cero, pero se acerca mucho"
      ]
    },
    {
      "cell_type": "markdown",
      "metadata": {
        "id": "8_zjNxsb5n4Z"
      },
      "source": [
        "Si ahora filtramos la variable X y nos quedamos con los individuos con más de 90kg, ¿qué pasa?"
      ]
    },
    {
      "cell_type": "code",
      "metadata": {
        "id": "IXWt3zwcy5CL",
        "colab": {
          "base_uri": "https://localhost:8080/",
          "height": 447
        },
        "outputId": "9cef0bf4-bc71-472d-ccc0-2da5e4664147"
      },
      "source": [
        "Y = X[X > 90]\n",
        "plt.hist(Y, bins='auto')\n",
        "plt.show()\n",
        "\n",
        "print('El coeficiente de simetria es', skew(Y))"
      ],
      "execution_count": null,
      "outputs": [
        {
          "output_type": "display_data",
          "data": {
            "text/plain": [
              "<Figure size 640x480 with 1 Axes>"
            ],
            "image/png": "[encoded data removed]"
          },
          "metadata": {}
        },
        {
          "output_type": "stream",
          "name": "stdout",
          "text": [
            "El coeficiente de simetria es 1.462867510468074\n"
          ]
        }
      ]
    },
    {
      "cell_type": "markdown",
      "metadata": {
        "id": "bRs1vdwM5xQV"
      },
      "source": [
        "Obtenemos un coeficiente de simetría positivo lo que indica una clara asimetría positiva"
      ]
    },
    {
      "cell_type": "code",
      "metadata": {
        "id": "u0iDIPRU4I7M",
        "colab": {
          "base_uri": "https://localhost:8080/",
          "height": 447
        },
        "outputId": "8fb6d3ee-da34-4a59-89c7-1f619845eb28"
      },
      "source": [
        "Z = X[X < 55]\n",
        "plt.hist(Z, bins='auto')\n",
        "plt.show()\n",
        "\n",
        "print('El coeficiente de simetria es', skew(Z))"
      ],
      "execution_count": null,
      "outputs": [
        {
          "output_type": "display_data",
          "data": {
            "text/plain": [
              "<Figure size 640x480 with 1 Axes>"
            ],
            "image/png": "[encoded data removed]"
          },
          "metadata": {}
        },
        {
          "output_type": "stream",
          "name": "stdout",
          "text": [
            "El coeficiente de simetria es -1.4041926371744362\n"
          ]
        }
      ]
    },
    {
      "cell_type": "markdown",
      "metadata": {
        "id": "aTbTU6nu57gn"
      },
      "source": [
        "Por el contrario, si filtramos los pesos menores a 55kg, obtenemos un coeficiente negativo lo que indica asimetría negativa"
      ]
    },
    {
      "cell_type": "markdown",
      "metadata": {
        "id": "bvgaWyufXgI1"
      },
      "source": [
        "## Curtosis"
      ]
    },
    {
      "cell_type": "markdown",
      "metadata": {
        "id": "q5SMQ92Cc7qN"
      },
      "source": [
        "Dada la variable X, calcular la curtosis"
      ]
    },
    {
      "cell_type": "code",
      "metadata": {
        "id": "LW59ghf14Tjo",
        "colab": {
          "base_uri": "https://localhost:8080/",
          "height": 430
        },
        "outputId": "3594016c-9805-4fa0-e530-1490faccbeaf"
      },
      "source": [
        "X = np.array([14, 19, 20, 22, 24, 26, 23, 50, 60, 55, 45, 23, 12, 54, 35, 27,\n",
        "              24, 19, 45, 34, 36, 32, 45, 15, 19, 30, 30, 31, 36, 38, 44, 47,\n",
        "              23, 34, 32, 31, 29, 27, 25, 5, 6, 1, 2, 3, 4, 5, 6, 40, 41, 42])\n",
        "\n",
        "plt.hist(X, bins=10, density=True, alpha=0.6, color='g')\n",
        "\n",
        "mu, sigma = X.mean(), X.std() # Calculamos media y std de X\n",
        "xmin, xmax = plt.xlim()\n",
        "x = np.linspace(xmin, xmax, 100) # Genera 100 valores entre min(X) y max(X)\n",
        "p = norm.pdf(x, mu, sigma) # Para cada valor le asigna su densidad\n",
        "plt.plot(x, p, 'k', linewidth=2)\n",
        "\n",
        "plt.show()"
      ],
      "execution_count": null,
      "outputs": [
        {
          "output_type": "display_data",
          "data": {
            "text/plain": [
              "<Figure size 640x480 with 1 Axes>"
            ],
            "image/png": "[encoded data removed]"
          },
          "metadata": {}
        }
      ]
    },
    {
      "cell_type": "markdown",
      "metadata": {
        "id": "Mk87lS9M-dPL"
      },
      "source": [
        "En el gráfico lo que se está comparando es la distribucion de la variable X con respecto a la distribución de la variable Y que es una distribución normal con media de X y std de X. A la vista del gráfico está claro que no se puede considerar que X sea normal. No obstante, vamos a calcular el coeficiente de curtosis o segundo coeficiente de Fisher para corroborarlo"
      ]
    },
    {
      "cell_type": "code",
      "metadata": {
        "id": "KXes-6hD-67I",
        "colab": {
          "base_uri": "https://localhost:8080/"
        },
        "outputId": "3eef57f2-0103-4a1e-f27f-25599ebfe744"
      },
      "source": [
        "kurtosis(X) # platicurtica"
      ],
      "execution_count": null,
      "outputs": [
        {
          "output_type": "execute_result",
          "data": {
            "text/plain": [
              "-0.6475711424130508"
            ]
          },
          "metadata": {},
          "execution_count": 28
        }
      ]
    },
    {
      "cell_type": "markdown",
      "source": [
        "Veamos ahora que pasa con nuestros pisos. A la vista del histograma sí parece que siga una distribución normal"
      ],
      "metadata": {
        "id": "qVaSo5f5nzFX"
      }
    },
    {
      "cell_type": "code",
      "source": [
        "plt.hist(df_pisos.PRICE, bins='auto')\n",
        "plt.show()"
      ],
      "metadata": {
        "id": "9kk1t6hQoDHJ",
        "colab": {
          "base_uri": "https://localhost:8080/",
          "height": 430
        },
        "outputId": "41ede14c-7560-4bd3-91ab-84cff75ac202"
      },
      "execution_count": null,
      "outputs": [
        {
          "output_type": "display_data",
          "data": {
            "text/plain": [
              "<Figure size 640x480 with 1 Axes>"
            ],
            "image/png": "[encoded data removed]"
          },
          "metadata": {}
        }
      ]
    },
    {
      "cell_type": "markdown",
      "source": [
        "Vamos a pintar por encima la función de densidad de una distribución normal con la media de los precios y la desv típica de los precios"
      ],
      "metadata": {
        "id": "A3kf3cazoKw4"
      }
    },
    {
      "cell_type": "code",
      "source": [
        "plt.hist(df_pisos.PRICE, bins='auto', density=True)\n",
        "\n",
        "mu, sigma = df_pisos.PRICE.mean(), df_pisos.PRICE.std() # Calculamos media y std de X\n",
        "Y = np.random.normal(mu, sigma, 100000) # Generamos una variable con distribución normal con la media y std de los precios\n",
        "xmin, xmax = df_pisos.PRICE.min(), df_pisos.PRICE.max()\n",
        "x = np.linspace(xmin, xmax, 100000)\n",
        "p = norm.pdf(x, mu, sigma)\n",
        "plt.plot(x, p, 'k', linewidth=2)\n",
        "\n",
        "plt.show()"
      ],
      "metadata": {
        "id": "y6YTU-9FoT-N",
        "colab": {
          "base_uri": "https://localhost:8080/",
          "height": 445
        },
        "outputId": "e56a28b5-8f03-437f-e085-c0609d15e828"
      },
      "execution_count": null,
      "outputs": [
        {
          "output_type": "display_data",
          "data": {
            "text/plain": [
              "<Figure size 640x480 with 1 Axes>"
            ],
            "image/png": "[encoded data removed]"
          },
          "metadata": {}
        }
      ]
    },
    {
      "cell_type": "code",
      "source": [
        "kurtosis(df_pisos.PRICE)"
      ],
      "metadata": {
        "id": "QWD3CpVgqNnu",
        "colab": {
          "base_uri": "https://localhost:8080/"
        },
        "outputId": "96af7aa7-af1b-4d12-f367-79c60e4d1f33"
      },
      "execution_count": null,
      "outputs": [
        {
          "output_type": "execute_result",
          "data": {
            "text/plain": [
              "-0.5319128506594595"
            ]
          },
          "metadata": {},
          "execution_count": 31
        }
      ]
    },
    {
      "cell_type": "markdown",
      "source": [
        "La curtosis dice que la distribución es platicurtica y por tanto no podría decirse que sigue una distribución normal, pero habría que confirmarlo con otros test estadísticos (Shapiro-Wilk)"
      ],
      "metadata": {
        "id": "rMnTHab4vwH5"
      }
    },
    {
      "cell_type": "markdown",
      "metadata": {
        "id": "M1wIL_ZYVTKP"
      },
      "source": [
        "# Visualización de datos"
      ]
    },
    {
      "cell_type": "markdown",
      "metadata": {
        "id": "NTgd5A9dVW2C"
      },
      "source": [
        "Los gráficos son también una importante herramienta de la estadística descriptiva"
      ]
    },
    {
      "cell_type": "markdown",
      "metadata": {
        "id": "fj0Jry_E-oXk"
      },
      "source": [
        "## Gráficos de barras (bar chart)"
      ]
    },
    {
      "cell_type": "markdown",
      "metadata": {
        "id": "upEZ0nPo-4kA"
      },
      "source": [
        "Muestran rectangulos paralelos llamados barras. Cada barra se corresponde a un único valor y tiene una altura proporcional a la frecuencia absoluta o relativa del valor en la distribución"
      ]
    },
    {
      "cell_type": "code",
      "metadata": {
        "id": "LMPbVnam_Ym1",
        "colab": {
          "base_uri": "https://localhost:8080/",
          "height": 449
        },
        "outputId": "473b4dea-8db6-4a7d-f34c-35cf9c94525d"
      },
      "source": [
        "x = np.arange(21) # Array 1, 2, 3, 4, 5  ... 21 para el eje X\n",
        "y = np.random.randint(21, size=21) # Variable aleatoria de numeros enteros\n",
        "fig, ax = plt.subplots()\n",
        "ax.bar(x, y)\n",
        "ax.set_xlabel('x')\n",
        "ax.set_ylabel('y')\n",
        "plt.show()"
      ],
      "execution_count": null,
      "outputs": [
        {
          "output_type": "display_data",
          "data": {
            "text/plain": [
              "<Figure size 640x480 with 1 Axes>"
            ],
            "image/png": "[encoded data removed]"
          },
          "metadata": {}
        }
      ]
    },
    {
      "cell_type": "markdown",
      "metadata": {
        "id": "4zeD80mMDkA6"
      },
      "source": [
        "## Histograma"
      ]
    },
    {
      "cell_type": "markdown",
      "metadata": {
        "id": "j2oPKNvFDpFH"
      },
      "source": [
        "Útil sobre todo en variables continuas con muchos valores diferentes donde usar un gráfico de barras no sería práctico. A diferencia del gráfico de barras donde cada barra representaba un único valor, en un histograma un barra representa un intervalo de valores"
      ]
    },
    {
      "cell_type": "code",
      "metadata": {
        "id": "Sh_sprE_EHov",
        "colab": {
          "base_uri": "https://localhost:8080/",
          "height": 505
        },
        "outputId": "697dea1e-3023-4bf3-ae9c-1c1c7abfe705"
      },
      "source": [
        "np.random.seed(seed=0) # Fijar la semilla para obtener los mismos resultados siempre\n",
        "x = np.random.randn(1000)\n",
        "\n",
        "hist, bin_edges = np.histogram(x, bins = 15)\n",
        "print(hist) # número de valores en cada 'bin'\n",
        "print(bin_edges) # contiene los límites de los intervalos\n",
        "\n",
        "fig, ax = plt.subplots()\n",
        "ax.hist(x, bin_edges, cumulative=False)\n",
        "ax.set_xlabel('x')\n",
        "ax.set_ylabel('Frequency')\n",
        "plt.show()"
      ],
      "execution_count": null,
      "outputs": [
        {
          "output_type": "stream",
          "name": "stdout",
          "text": [
            "[  9  20  70 146 217 239 160  86  38  15]\n",
            "[-3.04614305 -2.46559324 -1.88504342 -1.3044936  -0.72394379 -0.14339397\n",
            "  0.43715585  1.01770566  1.59825548  2.1788053   2.75935511]\n"
          ]
        },
        {
          "output_type": "display_data",
          "data": {
            "text/plain": [
              "<Figure size 640x480 with 1 Axes>"
            ],
            "image/png": "[encoded data removed]"
          },
          "metadata": {}
        }
      ]
    },
    {
      "cell_type": "markdown",
      "metadata": {
        "id": "heho45DDG5TO"
      },
      "source": [
        "Todos los pasos anteriores se resumen en la función **hist()** que también muestras las frecuencias y los límites de los intervalos"
      ]
    },
    {
      "cell_type": "code",
      "metadata": {
        "id": "k2yPQTJ8Gzr7",
        "colab": {
          "base_uri": "https://localhost:8080/",
          "height": 521
        },
        "outputId": "f88ba653-39b1-44af-b9f7-0f1587a8b20d"
      },
      "source": [
        "plt.hist(x)"
      ],
      "execution_count": null,
      "outputs": [
        {
          "output_type": "execute_result",
          "data": {
            "text/plain": [
              "(array([  9.,  20.,  70., 146., 217., 239., 160.,  86.,  38.,  15.]),\n",
              " array([-3.04614305, -2.46559324, -1.88504342, -1.3044936 , -0.72394379,\n",
              "        -0.14339397,  0.43715585,  1.01770566,  1.59825548,  2.1788053 ,\n",
              "         2.75935511]),\n",
              " <BarContainer object of 10 artists>)"
            ]
          },
          "metadata": {},
          "execution_count": 34
        },
        {
          "output_type": "display_data",
          "data": {
            "text/plain": [
              "<Figure size 640x480 with 1 Axes>"
            ],
            "image/png": "[encoded data removed]"
          },
          "metadata": {}
        }
      ]
    },
    {
      "cell_type": "markdown",
      "metadata": {
        "id": "k1a4BgrtHMwo"
      },
      "source": [
        "## Nube de puntos (scatter plot)"
      ]
    },
    {
      "cell_type": "markdown",
      "metadata": {
        "id": "JSHBME3XHf6H"
      },
      "source": [
        "Permite representar dos variables a la vez y estudiar su relación"
      ]
    },
    {
      "cell_type": "code",
      "metadata": {
        "id": "0Gicewj9JWss",
        "colab": {
          "base_uri": "https://localhost:8080/",
          "height": 451
        },
        "outputId": "6f42a412-cf08-430b-84e0-c39687c829cf"
      },
      "source": [
        "x = np.random.randn(21)\n",
        "y = 5 + 2 * x + 2 * np.random.randn(21)\n",
        "\n",
        "plt.plot(x, y, 'ro') # Más info acerca del tercer parámetro https://matplotlib.org/stable/api/_as_gen/matplotlib.pyplot.plot.html"
      ],
      "execution_count": null,
      "outputs": [
        {
          "output_type": "execute_result",
          "data": {
            "text/plain": [
              "[<matplotlib.lines.Line2D at 0x7b3cf3095510>]"
            ]
          },
          "metadata": {},
          "execution_count": 36
        },
        {
          "output_type": "display_data",
          "data": {
            "text/plain": [
              "<Figure size 640x480 with 1 Axes>"
            ],
            "image/png": "[encoded data removed]"
          },
          "metadata": {}
        }
      ]
    },
    {
      "cell_type": "markdown",
      "metadata": {
        "id": "_6ez_vMNV4df"
      },
      "source": [
        "## Gráfico de cajas y bigotes (box plot)"
      ]
    },
    {
      "cell_type": "markdown",
      "metadata": {
        "id": "T-lHWfC8WQa_"
      },
      "source": [
        "Gráfico muy completo que muestra las medidas de estadística descriptiva de forma vistual.\n",
        "\n",
        "Esto son los parámetros disponibles:\n",
        "- x, y, z son tus datos\n",
        "- **vert**: indica la orientación, por defecto (True) es en vertical\n",
        "- **showmeans**: representa la media\n",
        "- **meanline**: representa la media como una linea, en vez de un punto\n",
        "- **labels**: el nombre de tus arrays\n",
        "- **medianprops**: propiedades de la linea que representa la mediana\n",
        "- **meanprops**: propiedad de la linea que representa la media"
      ]
    },
    {
      "cell_type": "code",
      "metadata": {
        "id": "hjbXehpIV9Cz",
        "colab": {
          "base_uri": "https://localhost:8080/",
          "height": 430
        },
        "outputId": "15839f9c-350e-468c-e7ca-7dbdf76696cd"
      },
      "source": [
        "np.random.seed(seed=0) # Fijar la semilla para obtener los mismos resultados siempre\n",
        "x = np.random.randn(1000)\n",
        "y = np.random.randn(100)\n",
        "z = np.random.randn(10)\n",
        "\n",
        "fig, ax = plt.subplots()\n",
        "ax.boxplot((x, y, z), vert=False, showmeans=True, meanline=True,\n",
        "           labels=('x', 'y', 'z'), patch_artist=True,\n",
        "           medianprops={'linewidth': 2, 'color': 'purple'},\n",
        "           meanprops={'linewidth': 2, 'color': 'red'})\n",
        "plt.show()"
      ],
      "execution_count": null,
      "outputs": [
        {
          "output_type": "display_data",
          "data": {
            "text/plain": [
              "<Figure size 640x480 with 1 Axes>"
            ],
            "image/png": "[encoded data removed]"
          },
          "metadata": {}
        }
      ]
    },
    {
      "cell_type": "markdown",
      "source": [
        "## Gráfico de violín"
      ],
      "metadata": {
        "id": "huUBNKKBHa-d"
      }
    },
    {
      "cell_type": "code",
      "source": [
        "np.random.seed(seed=0) # Fijar la semilla para obtener los mismos resultados siempre\n",
        "x = np.random.randn(1000)\n",
        "y = np.random.randn(100)\n",
        "z = np.random.randn(10)\n",
        "\n",
        "fig, ax = plt.subplots(3, 1, figsize=(6, 8))\n",
        "\n",
        "sns.violinplot(x=x, color=\"r\", width=0.5, ax=ax[0])\n",
        "sns.violinplot(x=y, color=\"b\", width=0.5, ax=ax[1])\n",
        "sns.violinplot(x=z, color=\"y\", width=0.5, ax=ax[2])\n",
        "\n",
        "plt.show()"
      ],
      "metadata": {
        "id": "djCTryq4JGnc",
        "colab": {
          "base_uri": "https://localhost:8080/",
          "height": 676
        },
        "outputId": "bf81c8b4-071e-4e8c-9ed6-52fac6f6a4af"
      },
      "execution_count": null,
      "outputs": [
        {
          "output_type": "display_data",
          "data": {
            "text/plain": [
              "<Figure size 600x800 with 3 Axes>"
            ],
            "image/png": "[encoded data removed]"
          },
          "metadata": {}
        }
      ]
    },
    {
      "cell_type": "markdown",
      "metadata": {
        "id": "E4rLMINiZ0tR"
      },
      "source": [
        "# Covarianza. Correlación lineal"
      ]
    },
    {
      "cell_type": "markdown",
      "metadata": {
        "id": "g-Tb6fAwZ-QI"
      },
      "source": [
        "Sea X una variable que indica el consumo de latas de cerveza al día e Y la tasa de muertes por cirrosis. ¿Existe relación lineal?"
      ]
    },
    {
      "cell_type": "code",
      "metadata": {
        "id": "MhCm4uN6Ajjp",
        "colab": {
          "base_uri": "https://localhost:8080/",
          "height": 447
        },
        "outputId": "72a395cd-4d74-4784-f823-1f4b6066a63b"
      },
      "source": [
        "X = np.array([5, 4, 3, 7, 11, 9, 6, 3, 12, 7, 14, 12, 10, 10, 14, 9, 7, 18, 6,\n",
        "              31, 13, 20, 19, 10, 4, 16, 9, 6, 6, 21, 15, 17, 7, 13, 8, 28, 23,\n",
        "              22, 23, 7, 16, 2, 6, 3, 8, 13])\n",
        "Y = np.array([41.2, 31.7, 39.4, 57.5, 74.8, 59.8, 54.3, 47.9, 77.2, 56.6, 80.9,\n",
        "              34.3, 53.1, 55.4, 57.8, 62.8, 67.3, 56.7, 37.6, 129.9, 70.3, 104.2,\n",
        "              83.6, 66, 52.3, 86.9, 66.6, 40.1, 55.7, 58.1, 74.3, 98.1, 40.7,\n",
        "              66.7, 48, 122.5, 92.1, 76, 97.5, 33.8, 90.5, 29.7, 28, 51.6, 55.7,\n",
        "              55.5])\n",
        "plt.plot(X,Y,'ro')"
      ],
      "execution_count": null,
      "outputs": [
        {
          "output_type": "execute_result",
          "data": {
            "text/plain": [
              "[<matplotlib.lines.Line2D at 0x7b3cec792980>]"
            ]
          },
          "metadata": {},
          "execution_count": 39
        },
        {
          "output_type": "display_data",
          "data": {
            "text/plain": [
              "<Figure size 640x480 with 1 Axes>"
            ],
            "image/png": "[encoded data removed]"
          },
          "metadata": {}
        }
      ]
    },
    {
      "cell_type": "markdown",
      "metadata": {
        "id": "PYn0C8uGcbDK"
      },
      "source": [
        "De la simple observación de la nube de puntos podemos deducir que existe una relación lineal positiva entre las dos variables; esto es, si crece el consumo de alcohol, crece el porcentaje de fallecimientos. Si calculamos la covarianza:"
      ]
    },
    {
      "cell_type": "code",
      "metadata": {
        "id": "pMWdkxHDcGjC",
        "colab": {
          "base_uri": "https://localhost:8080/"
        },
        "outputId": "88d6e63b-1603-4277-e4dc-e9fced890994"
      },
      "source": [
        "np.cov(X, Y)[0][1] # matriz de covarianzas, nos importa la diagonal"
      ],
      "execution_count": null,
      "outputs": [
        {
          "output_type": "execute_result",
          "data": {
            "text/plain": [
              "137.05502415458935"
            ]
          },
          "metadata": {},
          "execution_count": 40
        }
      ]
    },
    {
      "cell_type": "code",
      "source": [
        "np.cov(X, Y)"
      ],
      "metadata": {
        "id": "cDNnUrcwwu6O",
        "colab": {
          "base_uri": "https://localhost:8080/"
        },
        "outputId": "c6582d4c-c5c0-4478-ead0-f87a55e432f9"
      },
      "execution_count": null,
      "outputs": [
        {
          "output_type": "execute_result",
          "data": {
            "text/plain": [
              "array([[ 47.89227053, 137.05502415],\n",
              "       [137.05502415, 549.8077343 ]])"
            ]
          },
          "metadata": {},
          "execution_count": 41
        }
      ]
    },
    {
      "cell_type": "markdown",
      "metadata": {
        "id": "_sPP4mOCegKM"
      },
      "source": [
        "Nos da un número positivo que confirma la relación lineal positiva. Sin embargo, el número tiene díficil interpretación ¿como de fuerte es la relación? Es por ello que, en vez de trabajar con la covarianza, se trabaja con el coeficiente de correlación de Pearson."
      ]
    },
    {
      "cell_type": "code",
      "metadata": {
        "id": "h6n9YwSve5xn",
        "colab": {
          "base_uri": "https://localhost:8080/"
        },
        "outputId": "46d73b4c-3373-4c51-b75d-239f48ab830b"
      },
      "source": [
        "np.corrcoef(X, Y)[0][1]"
      ],
      "execution_count": null,
      "outputs": [
        {
          "output_type": "execute_result",
          "data": {
            "text/plain": [
              "0.8446111774903117"
            ]
          },
          "metadata": {},
          "execution_count": 42
        }
      ]
    },
    {
      "cell_type": "markdown",
      "metadata": {
        "id": "ED6fExzZiBMc"
      },
      "source": [
        "Vemos como el coeficiente de correlación de Pearson está muy próximo a 1 lo que nos indica una fuerte relación lineal positiva."
      ]
    },
    {
      "cell_type": "markdown",
      "metadata": {
        "id": "i3rdtoIDpCYl"
      },
      "source": [
        "\n",
        "\n",
        "---\n",
        "\n"
      ]
    },
    {
      "cell_type": "markdown",
      "metadata": {
        "id": "JrkqC9_DpGlz"
      },
      "source": [
        "Ahora vamos a demostrar como el hecho de que dos variables estén incorreladas **linealmente** no implica que sean independientes. Es decir, que no exista relación **lineal** no implica que sean independientes"
      ]
    },
    {
      "cell_type": "code",
      "metadata": {
        "id": "V2dYuh9rpUh9",
        "colab": {
          "base_uri": "https://localhost:8080/"
        },
        "outputId": "fe8c64b0-8989-4de2-de3e-6ccc364eaba5"
      },
      "source": [
        "X = np.array([5, 4, 3, 2, 1, 0, -1, -2, -3, -4, -5])\n",
        "Y = np.array([29, 20, 13, 8, 5, 4, 5, 8, 13, 20, 29])\n",
        "\n",
        "np.corrcoef(X, Y)[0][1]"
      ],
      "execution_count": null,
      "outputs": [
        {
          "output_type": "execute_result",
          "data": {
            "text/plain": [
              "0.0"
            ]
          },
          "metadata": {},
          "execution_count": 43
        }
      ]
    },
    {
      "cell_type": "markdown",
      "metadata": {
        "id": "yTEzJ2RVqFPN"
      },
      "source": [
        "El coeficiente de correlación de Pearson nos dice que no existe relación lineal entre X e Y, pero representemos gráficamente ambas variables:"
      ]
    },
    {
      "cell_type": "code",
      "metadata": {
        "id": "NiF2o2xzqAVr",
        "colab": {
          "base_uri": "https://localhost:8080/",
          "height": 449
        },
        "outputId": "3b788ce8-986c-470a-8116-9e069cba9b25"
      },
      "source": [
        "plt.plot(X, Y, 'ro')"
      ],
      "execution_count": null,
      "outputs": [
        {
          "output_type": "execute_result",
          "data": {
            "text/plain": [
              "[<matplotlib.lines.Line2D at 0x7b3cec801ab0>]"
            ]
          },
          "metadata": {},
          "execution_count": 44
        },
        {
          "output_type": "display_data",
          "data": {
            "text/plain": [
              "<Figure size 640x480 with 1 Axes>"
            ],
            "image/png": "[encoded data removed]"
          },
          "metadata": {}
        }
      ]
    },
    {
      "cell_type": "markdown",
      "metadata": {
        "id": "aPN9QoR-qTgh"
      },
      "source": [
        "A la vista del gráfico se puede deducir que sí que existe algun tipo de relación. Concretamente, Y = X² + 4. Esto quiere decir que existe una relación entre X e Y (si sabemos el valor de X, obtenemos directamente el de Y), pero esta relación no es de tipo lineal. En este tema solo estudiaremos la posible relación lineal entre dos variables."
      ]
    },
    {
      "cell_type": "markdown",
      "metadata": {
        "id": "wmypj1iAk3B7"
      },
      "source": [
        "# Tipificación"
      ]
    },
    {
      "cell_type": "markdown",
      "metadata": {
        "id": "Y0G_yz4SnABl"
      },
      "source": [
        "Tipificar o normalizar la variable X"
      ]
    },
    {
      "cell_type": "code",
      "metadata": {
        "id": "TCnXV5tTk6P2",
        "colab": {
          "base_uri": "https://localhost:8080/"
        },
        "outputId": "7bbfec1e-1ab9-4030-87a3-65c5ab493777"
      },
      "source": [
        "X = np.array([5, 4, 3, 7, 11, 9, 6, 3, 12, 7, 14, 12, 10, 10, 14, 9, 7, 18, 6,\n",
        "              31, 13, 20, 19, 10, 4, 16, 9, 6, 6, 21, 15, 17, 7, 13, 8, 28, 23,\n",
        "              22, 23, 7, 16, 2, 6, 3, 8, 13])\n",
        "print('La media de X es:', X.mean())\n",
        "print('La desviación típica de X es:', X.std())\n",
        "\n",
        "Z = (X - X.mean())/X.std()\n",
        "print('La media de Z (tipificada de X) es:', round(Z.mean()))\n",
        "print('La desviación típica de Z (tipificada de X) es:', round(Z.std()))"
      ],
      "execution_count": null,
      "outputs": [
        {
          "output_type": "stream",
          "name": "stdout",
          "text": [
            "La media de X es: 11.58695652173913\n",
            "La desviación típica de X es: 6.844788836443455\n",
            "La media de Z (tipificada de X) es: 0\n",
            "La desviación típica de Z (tipificada de X) es: 1\n"
          ]
        }
      ]
    },
    {
      "cell_type": "markdown",
      "metadata": {
        "id": "5nDubrL2pX2_"
      },
      "source": [
        "Se comprueba que la media de Z es 0 y su desv típica 1"
      ]
    },
    {
      "cell_type": "markdown",
      "metadata": {
        "id": "IijZkr1ppeL_"
      },
      "source": [
        "\n",
        "---\n"
      ]
    },
    {
      "cell_type": "markdown",
      "metadata": {
        "id": "ewtnS5v3pg7n"
      },
      "source": [
        "Pepe trabaja en un supermercado y gana 1000€ al mes. En su categoria laboral, el salario sigue una distribución normal con media 800€ y desviación típica 25€. Por otro lado, Manolo es data scientist y gana 2100€. Si el salario medio de los data scientists sigue una distribución normal con media 2000€ al mes y desviación típica 100€, tanto uno como otro ganan por encima de la media. Si se quiere conocer cuál de los dos ocupa mejor posición relativa dentro de su categoría, hay que tipificar los sueldos:"
      ]
    },
    {
      "cell_type": "code",
      "source": [
        "pepe = np.random.normal(800, 25, size=1000) # Generamos valores distribución supermercado\n",
        "manolo = np.random.normal(2000, 100, size=1000) # Generamos valores distribución DS\n",
        "\n",
        "plt.hist(pepe, alpha=0.5, label='Pepe')\n",
        "plt.hist(manolo, alpha=0.5, label='Manolo')\n",
        "\n",
        "plt.show()"
      ],
      "metadata": {
        "id": "A_5gjByANY9O",
        "colab": {
          "base_uri": "https://localhost:8080/",
          "height": 430
        },
        "outputId": "25276d55-5c5c-45d9-c536-5ace931afa9f"
      },
      "execution_count": null,
      "outputs": [
        {
          "output_type": "display_data",
          "data": {
            "text/plain": [
              "<Figure size 640x480 with 1 Axes>"
            ],
            "image/png": "[encoded data removed]"
          },
          "metadata": {}
        }
      ]
    },
    {
      "cell_type": "code",
      "source": [
        "pepe_tipificado = (pepe - 800)/25\n",
        "manolo_tipificado = (manolo - 2000)/100\n",
        "\n",
        "print(np.mean(pepe_tipificado)) # Media 0\n",
        "print(np.std(pepe_tipificado)) # Desv típica 1\n",
        "\n",
        "print(np.mean(manolo_tipificado)) # Media 0\n",
        "print(np.std(manolo_tipificado)) # Desv típica 1\n",
        "\n",
        "plt.hist(pepe_tipificado, alpha=0.5, label='Pepe')\n",
        "plt.hist(manolo_tipificado, alpha=0.5, label='Manolo')\n",
        "\n",
        "plt.show()"
      ],
      "metadata": {
        "id": "MIlb14pCOU1t",
        "colab": {
          "base_uri": "https://localhost:8080/",
          "height": 499
        },
        "outputId": "3d4ad91c-b061-4979-c778-e98b0c245863"
      },
      "execution_count": null,
      "outputs": [
        {
          "output_type": "stream",
          "name": "stdout",
          "text": [
            "0.02180249368119505\n",
            "0.9784981514894973\n",
            "-0.07147481449944991\n",
            "0.9559943129067004\n"
          ]
        },
        {
          "output_type": "display_data",
          "data": {
            "text/plain": [
              "<Figure size 640x480 with 1 Axes>"
            ],
            "image/png": "[encoded data removed]"
          },
          "metadata": {}
        }
      ]
    },
    {
      "cell_type": "code",
      "metadata": {
        "id": "AQgz4z7tnO_G",
        "colab": {
          "base_uri": "https://localhost:8080/"
        },
        "outputId": "4dd55577-1e5a-42cb-d135-ad9a73c2eb8e"
      },
      "source": [
        "P = (1000-800)/25\n",
        "M = (2100-2000)/100\n",
        "print('Pepe tipificado:', P)\n",
        "print('Manolo tipificado:', M)"
      ],
      "execution_count": null,
      "outputs": [
        {
          "output_type": "stream",
          "name": "stdout",
          "text": [
            "Pepe tipificado: 8.0\n",
            "Manolo tipificado: 1.0\n"
          ]
        }
      ]
    },
    {
      "cell_type": "markdown",
      "metadata": {
        "id": "rWjHJxkiqoTZ"
      },
      "source": [
        "En términos absolutos Manolo gana más que Pepe. Sin embargo, en relación al conjunto de empleados de su gremio, Pepe ocupa mejor posición."
      ]
    },
    {
      "cell_type": "markdown",
      "metadata": {
        "id": "6A5oETkvq5kI"
      },
      "source": [
        "Desde un punto de vista geométrico, la media y la desviación típica de una variable pueden considerarse como el centro de gravedad de la distribución y su escala. Al tipificar distintas variables, las centramos en el mismo punto y las dotamos de la misma escala. Además, los valores tipificados se convierten en datos adimensionales. Por todo lo anterior, la tipificación tiene la propiedad de hacer comparables valores individuales que pertenecen a distinas distribuciones, aún en el caso de que éstas vinieran expresadas en diferentes unidades."
      ]
    },
    {
      "cell_type": "markdown",
      "metadata": {
        "id": "X9-UbfGELScx"
      },
      "source": [
        "# Ejercicios"
      ]
    },
    {
      "cell_type": "markdown",
      "metadata": {
        "id": "uyp_xBzrKdkp"
      },
      "source": [
        "## Práctica individual 1"
      ]
    },
    {
      "cell_type": "markdown",
      "metadata": {
        "id": "b4MDTK3EKolQ"
      },
      "source": [
        "En la siguienta tabla se han recogido las edades que tenían los\n",
        "actores y actrices que ganaron el Oscar a la mejor interpretación, en todos los\n",
        "años de existencia de dichos premios (1929-2013). En la tabla aparece, por\n",
        "orden cronólogico, la edad que tenía la actriz (actor) que ganó el Oscar en la\n",
        "primera celebración de los premios, y sucesivamente hasta 2013. Realizar un análisis exploratorio para ver si existen diferencias entre las edades de actores y actrices ganadores del premio"
      ]
    },
    {
      "cell_type": "code",
      "metadata": {
        "id": "c9NehAo7vldo"
      },
      "source": [
        "import pandas as pd\n",
        "import numpy as np\n",
        "import matplotlib.pyplot as plt\n",
        "import seaborn as sns\n",
        "sns.set()"
      ],
      "execution_count": null,
      "outputs": []
    },
    {
      "cell_type": "code",
      "metadata": {
        "id": "58vcBuXrKnBn"
      },
      "source": [
        "X = np.array([22, 37, 28, 63, 32, 26, 31, 27, 27, 28, 30, 26, 29, 24, 38, 25, 29, 41, 30, 35, 35, 33,\n",
        "29, 38, 54, 24, 25, 46, 41, 28, 40, 39, 29, 27, 31, 38, 29, 25, 35, 60, 43, 35, 34, 34, 27, 37,\n",
        "42, 41, 36, 32, 41, 33, 31, 74, 33, 50, 38, 61, 21, 41, 26, 80, 42, 29, 33, 35, 45, 49, 39, 34, 26,\n",
        "25, 33, 35, 35, 28, 30, 29, 61, 32, 33, 45, 28, 62, 22]) # Actrices\n",
        "\n",
        "Y = np.array([44, 41, 62, 52, 41, 34, 34, 52, 41, 37, 38, 34, 32, 40, 43, 56, 41, 39, 49, 57, 41,\n",
        "38, 42, 52, 51, 35, 30, 39, 41, 44, 49, 35, 47, 31, 47, 37, 57, 42, 45, 42, 44, 62, 43, 42, 48,\n",
        "49, 56, 38, 60, 30, 40, 42, 36, 76, 39, 53, 45, 36, 62, 43, 51, 32, 42, 54, 52, 37, 38, 32, 45,\n",
        "60, 46, 40, 36, 47, 29, 43, 37, 38, 45, 50, 48, 60, 50, 39, 55]) # Actores"
      ],
      "execution_count": null,
      "outputs": []
    },
    {
      "cell_type": "code",
      "source": [
        "fig, ax = plt.subplots()\n",
        "ax.boxplot((X, Y), vert=False, showmeans=True, meanline=True,\n",
        "          labels=('Actrices', 'Actores'), patch_artist=True,\n",
        "          medianprops={'linewidth': 2, 'color': 'purple'},\n",
        "          meanprops={'linewidth': 2, 'color': 'red'})\n",
        "plt.show()"
      ],
      "metadata": {
        "id": "OnWvMUQ-4iMG"
      },
      "execution_count": null,
      "outputs": []
    },
    {
      "cell_type": "code",
      "source": [
        "#fig, ax = plt.subplots(2, 1)\n",
        "\n",
        "#sns.violinplot(x=X, color=\"b\", width=0.5, ax=ax[0], label='Actores')\n",
        "#sns.violinplot(x=Y, color=\"y\", width=0.5, ax=ax[1])\n",
        "\n",
        "sns.violinplot(data=[X,Y], orient='h')\n",
        "\n",
        "plt.show()"
      ],
      "metadata": {
        "id": "80-jWKPmNpOs"
      },
      "execution_count": null,
      "outputs": []
    },
    {
      "cell_type": "markdown",
      "metadata": {
        "id": "vDZGN5tsjmyu"
      },
      "source": [
        "## Más ejercicios"
      ]
    },
    {
      "cell_type": "markdown",
      "metadata": {
        "id": "1JBczoTajsG0"
      },
      "source": [
        "http://www.uco.es/zootecniaygestion/img/pictorex/27_12_49_7.pdf"
      ]
    }
  ]
}