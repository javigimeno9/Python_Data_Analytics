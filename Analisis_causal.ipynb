{
  "nbformat": 4,
  "nbformat_minor": 0,
  "metadata": {
    "colab": {
      "provenance": [],
      "toc_visible": true
    },
    "kernelspec": {
      "name": "python3",
      "display_name": "Python 3"
    }
  },
  "cells": [
    {
      "cell_type": "markdown",
      "metadata": {
        "id": "R53FGLN8jo1L"
      },
      "source": [
        "# 01 INTRO: Análisis Causal\n",
        "El análisis causal trata de encontrar las relaciones causales (no solo asociaciones) entre las variables.\n",
        "\n",
        "Notebook por [Javier Blanco Cordero](https://www.linkedin.com/in/javier-blanco-cordero-71373656/).\n",
        "\n",
        "### Enlaces de interés\n",
        "*   [Slides de presentación](https://docs.google.com/presentation/d/1WNWGnLUyiGqwFf92V3V_szu3QTD_0EQY5GZjhFgen5Q/edit?usp=sharing)\n",
        "*   [Enlace a este notebook en Colab](https://colab.research.google.com/github/JotaBlanco/TheValley/blob/main/Notebooks/03-analisis-univariante-causal-multivariante/03_C___Introducci%C3%B3n_analisis_causal.ipynb)\n",
        "\n",
        "\n"
      ]
    },
    {
      "cell_type": "markdown",
      "metadata": {
        "id": "LSuEDXhPLi8u"
      },
      "source": [
        "## 0101 Qué es un análisis univariante?\n",
        "El análisis univariante consiste en estudiar la distribución y características de una sola variable.\n",
        "\n",
        "Veamos con ejemplos:"
      ]
    },
    {
      "cell_type": "markdown",
      "metadata": {
        "id": "cnHRaho3rsXS"
      },
      "source": [
        "## 0102 Import\n",
        "Importamos todas las librerías necesarias para este análisis ([¿No sabes lo que es una librería de Python?](https://www.quora.com/What-is-a-Python-library-and-what-can-I-use-it-for)): pandas, numpy, seaborn, matplotlib."
      ]
    },
    {
      "cell_type": "code",
      "metadata": {
        "id": "4be6xiUqjPHI"
      },
      "source": [
        "import pandas as pd\n",
        "import numpy as np\n",
        "import matplotlib.pyplot as plt\n",
        "import seaborn as sns"
      ],
      "execution_count": null,
      "outputs": []
    },
    {
      "cell_type": "markdown",
      "metadata": {
        "id": "AblkT14d4Gvt"
      },
      "source": [
        "## 0103 Carga el dataset Fifa19\n",
        "Para probar a hacer análisis univariantes utilizaremos el dataframe con datos ya limpios del fifa 19 ([aquí](https://drive.google.com/file/d/1P0sQHp1bPiKbL-MSr7FndJRgowvOLdjU/view?usp=sharing) está mi archivo ya limpio). Importa este dataset en un dataframe llamado **df_fifa19**.\n",
        "\n",
        "Utiliza solo las columnas cols = ['Name', 'Age', 'Nationality', 'Overall', 'Potential', 'Club',\n",
        "        'Height_cm', 'Weight_kg', 'Value_€', 'Wage_€',\n",
        "        'Release Clause_€', 'Preferred Foot', 'Position', 'SprintSpeed'] y en este orden."
      ]
    },
    {
      "cell_type": "code",
      "metadata": {
        "id": "GMZACcIXOclu"
      },
      "source": [
        "cols = ['Name', 'Age', 'Nationality', 'Overall', 'Potential', 'Club',\n",
        "        'Height_cm', 'Weight_kg', 'Value_€', 'Wage_€',\n",
        "        'Release Clause_€', 'Preferred Foot', 'Position', 'SprintSpeed']\n",
        "\n",
        "# Url\n",
        "url = \"https://raw.githubusercontent.com/JotaBlanco/TheValley/main/Data/Fifa19_Clean.csv\"\n",
        "\n",
        "# Importamos el archivos usando read_csv()\n",
        "df_fifa19 = pd.read_csv(url, usecols=cols)\n",
        "df_fifa19.head(3)"
      ],
      "execution_count": null,
      "outputs": []
    },
    {
      "cell_type": "markdown",
      "metadata": {
        "id": "KBOQJ0AjdYrM"
      },
      "source": [
        "# 02 Azar\n",
        "El azar puede ser la fuente de una correlación.\n",
        "\n",
        "Imaginémonos dos monedas de 1€. Una es de Pepe, y la otra de Carmen. Se ponen de acuerdo y tiran sus respectivas monedas 10 veces. Anotan un 1 si sale cara, un 0 si sale cruz.  "
      ]
    },
    {
      "cell_type": "markdown",
      "metadata": {
        "id": "ewIIpx81R01F"
      },
      "source": [
        "## 0201 Probabilidad de correlación\n",
        "Qué probabilidad hay de que (solo por azar) obtengan una correlación entre ambas monedas mayor a [0.5]?"
      ]
    },
    {
      "cell_type": "code",
      "metadata": {
        "id": "qrTx3WKqRVwS"
      },
      "source": [
        "# Definimos una moneda\n",
        "moneda = pd.Series([0,1])\n",
        "moneda"
      ],
      "execution_count": null,
      "outputs": []
    },
    {
      "cell_type": "code",
      "metadata": {
        "id": "Y8kyPWV3SwaT"
      },
      "source": [
        "# Ejemplo de tirada\n",
        "moneda.sample(10, replace=True).reset_index(drop=True)"
      ],
      "execution_count": null,
      "outputs": []
    },
    {
      "cell_type": "code",
      "metadata": {
        "id": "9kp8EoANSe_B"
      },
      "source": [
        "#Experimento\n",
        "# Primero generamos una variable donde guardaremos los valores de la correlación\n",
        "correlacion = []\n",
        "\n",
        "# Empezamos experimento\n",
        "for n_experimento in range(10000):\n",
        "  tirada_pepe = moneda.sample(10, replace=True).reset_index(drop=True)\n",
        "  tirada_carmen = moneda.sample(10, replace=True).reset_index(drop=True)\n",
        "  correlacion.append(tirada_pepe.corr(tirada_carmen))"
      ],
      "execution_count": null,
      "outputs": []
    },
    {
      "cell_type": "code",
      "metadata": {
        "id": "Yq7h2nZfTi_5"
      },
      "source": [
        "# Visualizamos la distribución de correlación\n",
        "plt.hist(correlacion, bins=[-1, -0.5, 0, 0.5, 1])\n",
        "plt.show()"
      ],
      "execution_count": null,
      "outputs": []
    },
    {
      "cell_type": "code",
      "metadata": {
        "id": "nZT8qXdQUuGS"
      },
      "source": [
        "(np.abs(correlacion)>=0.5).sum() / len(correlacion)"
      ],
      "execution_count": null,
      "outputs": []
    },
    {
      "cell_type": "markdown",
      "metadata": {
        "id": "qA9WQyk6VXlV"
      },
      "source": [
        "## 0202 Y si tiran la moneda 20 veces? y 100?\n",
        "La probabilidad de que el azar sea el causante de una correlación disminuye cuando el tamaño de la muestra es mayor (es decir, cuando tiran la moneda más veces)."
      ]
    },
    {
      "cell_type": "code",
      "metadata": {
        "id": "NoAbyEjLVrMC"
      },
      "source": [
        "# EXPERIMENTO\n",
        "# Inicializamos un dataframe para guardar los resultados\n",
        "df_resultados = pd.DataFrame()\n",
        "\n",
        "# Probamos para distintos números de veces que se tiran la moneda\n",
        "for n_tiradas in [5, 10, 20, 50, 100]:\n",
        "\n",
        "  # Primero generamos una variable donde guardaremos los valores de la correlación\n",
        "  correlacion = []\n",
        "\n",
        "  # Empezamos experimento\n",
        "  for n_experimento in range(10000):\n",
        "    tirada_pepe = moneda.sample(n_tiradas, replace=True).reset_index(drop=True)\n",
        "    tirada_carmen = moneda.sample(n_tiradas, replace=True).reset_index(drop=True)\n",
        "    correlacion.append(tirada_pepe.corr(tirada_carmen))\n",
        "\n",
        "  # Guardamos el resultado en el dataframe\n",
        "  df_resultados[str(n_tiradas)+'_tiradas'] = correlacion"
      ],
      "execution_count": null,
      "outputs": []
    },
    {
      "cell_type": "code",
      "metadata": {
        "id": "nsVwldlkW7DC"
      },
      "source": [
        "df_resultados.head()"
      ],
      "execution_count": null,
      "outputs": []
    },
    {
      "cell_type": "code",
      "metadata": {
        "id": "PMXMF9ALWvl0"
      },
      "source": [
        "filtro_interes = df_resultados.abs()>=0.5\n",
        "filtro_interes.sum()/len(df_resultados)"
      ],
      "execution_count": null,
      "outputs": []
    },
    {
      "cell_type": "markdown",
      "metadata": {
        "id": "wtgK8sLwYlXi"
      },
      "source": [
        "# 03 Relación causal directa\n",
        "No hay métodos estadísticos que nos permitan saber si la relación entre dos variables es causal. Sólo conocimiento sobre el sistema que genera los datos nos permitirá hacer este tipo de juicios.\n",
        "\n",
        "Lo que sí podemos calcular es la fortaleza de la asociación entre las variables, como hemos visto en el [notebook de análisis bivariantes](https://colab.research.google.com/github/JotaBlanco/TheValley/blob/main/Notebooks/03-analisis-univariante-causal-multivariante/03_B___Analisis_multivariante.ipynb). Por ejemplo, podríamos utilizar la función desarrollada en el [EJERCICIO 5](https://colab.research.google.com/github/JotaBlanco/TheValley/blob/main/Notebooks/02-analisis-exploratorio-visual/EJERCICIO_5___EDA_Visual_Funcion_Scatter.ipynb).\n"
      ]
    },
    {
      "cell_type": "code",
      "metadata": {
        "id": "3iLQb80UBvMZ"
      },
      "source": [
        "def evaluacion_correlacion(vector_x, nombre_x, vector_y, nombre_y):\n",
        "  # Estilo seaborn\n",
        "  sns.set()\n",
        "\n",
        "  # Tamaño de 7.7 x 7.5\n",
        "  plt.figure(figsize=(7.5, 7.5))\n",
        "\n",
        "  # DIAGRAMA DE DISPERSIÓN\n",
        "  # Simplemente utilizamos plt.scatter()\n",
        "  plt.scatter(vector_x,\n",
        "              vector_y,\n",
        "              alpha = 0.05)\n",
        "\n",
        "  # COEFICIENTE DE CORRELACIÓN\n",
        "  # Calculamos el coeficiente pearson redondeando a dos cifras (0.XX) ...\n",
        "  # ... y lo guardamos en formato texto (str)\n",
        "  corr_formato_texto = str(round(np.corrcoef(vector_x, vector_y)[0,1],2))\n",
        "\n",
        "  # Calculamos las coordenadas donde posicionar el texto (en el medio del gráfico)\n",
        "  coordenada_x = vector_x.min() + (vector_x.max()-vector_x.min())/2\n",
        "  coordenada_y = vector_y.min() + (vector_y.max()-vector_y.min())/2\n",
        "\n",
        "  # Utilizamos la función plt.text()\n",
        "  plt.text(s = corr_formato_texto,\n",
        "           x = coordenada_x,\n",
        "           y = coordenada_y,\n",
        "           fontsize=150,\n",
        "           horizontalalignment='center',\n",
        "           verticalalignment='center',\n",
        "           color = 'white',\n",
        "           alpha = 0.85)\n",
        "\n",
        "  # Añadimos detalles a la imagen\n",
        "  plt.ylabel(nombre_y)\n",
        "  plt.xlabel(nombre_x)\n",
        "  plt.title('CORRELACIÓN ' + nombre_x + ' VS ' + nombre_y,\n",
        "            fontsize = 15)\n",
        "  plt.show()"
      ],
      "execution_count": null,
      "outputs": []
    },
    {
      "cell_type": "markdown",
      "metadata": {
        "id": "xl7ya1J9y6A0"
      },
      "source": [
        "# 04 Presencia de confounders\n",
        "La presencia de confounders puede hacer que la asociación que observamos entre dos variables no sea la que corresponde a su relación directa."
      ]
    },
    {
      "cell_type": "markdown",
      "metadata": {
        "id": "EYRHQssvcomp"
      },
      "source": [
        "## EJERCICIO 1\n",
        "Cuál es la influencia del nivel fubolístico sobre el valor del futbolista?\n",
        "\n",
        "Ver el diagrama causal propuesto:\n",
        "https://docs.google.com/presentation/d/1jYSOQpCVbL7JdacYhq8NuKWwhYe2QwW8qvM680GERps/edit#slide=id.gbc327d14bd_0_11\n",
        "\n",
        "La variable edad es un confounder: afecta tanto al nivel futbolistico actual como al valor."
      ]
    },
    {
      "cell_type": "code",
      "metadata": {
        "id": "RaNLY0vEZ1U5"
      },
      "source": [
        "# Utilizaremos este dataframe\n",
        "df_valor = df_fifa19[['Name','Value_€','Overall','Age']]\n",
        "df_valor.head()"
      ],
      "execution_count": null,
      "outputs": []
    },
    {
      "cell_type": "markdown",
      "metadata": {
        "id": "TmxEoZCleiPJ"
      },
      "source": [
        "Primero muestra la asociación entre las 3 variables con con sns.pairplot() y la visualización de la matriz de los coeficientes de Pearson."
      ]
    },
    {
      "cell_type": "code",
      "metadata": {
        "id": "jqXPks_3VAY2"
      },
      "source": [
        "sns.pairplot(df_valor, kind='scatter', diag_kind='kde', plot_kws={'alpha':0.1})"
      ],
      "execution_count": null,
      "outputs": []
    },
    {
      "cell_type": "code",
      "metadata": {
        "id": "gQwybE3tWH2h"
      },
      "source": [
        "# Visualización coeficientes Pearson\n",
        "plt.figure(figsize=(8,7))\n",
        "sns.heatmap(np.round(df_valor.corr(),2), vmin=-1, vmax=1, annot=True, cmap=\"coolwarm\")\n",
        "plt.show()"
      ],
      "execution_count": null,
      "outputs": []
    },
    {
      "cell_type": "markdown",
      "metadata": {
        "id": "0JhohYvlf77y"
      },
      "source": [
        "Vamos a centrarnos ahora en los futbolistas que tienen una misma edad. Por ejemplo, vamos a centrarnos en aquellos que tienen 25 años."
      ]
    },
    {
      "cell_type": "code",
      "metadata": {
        "id": "O4PuyykRWZ3T"
      },
      "source": [
        "# Ajustamos por aquellos que tienen un cierto valor\n",
        "filtro = df_valor['Age'] == 25"
      ],
      "execution_count": null,
      "outputs": []
    },
    {
      "cell_type": "markdown",
      "metadata": {
        "id": "CSJ7HNZpgWf0"
      },
      "source": [
        "Ahora vuelve a mostrar las distribuciones y asociaciones, pero sólo para este grupo de futbolistas."
      ]
    },
    {
      "cell_type": "code",
      "metadata": {
        "id": "nrZnF5T7gOY1"
      },
      "source": [
        "sns.pairplot(df_valor.loc[filtro],\n",
        "             kind='scatter',\n",
        "             diag_kind='kde',\n",
        "             plot_kws={'alpha':0.1})"
      ],
      "execution_count": null,
      "outputs": []
    },
    {
      "cell_type": "code",
      "metadata": {
        "id": "iJJFEkQkatxW"
      },
      "source": [
        "# Visualización coeficientes Pearson\n",
        "plt.figure(figsize=(8,7))\n",
        "sns.heatmap(np.round(df_valor.loc[filtro].corr(),2),\n",
        "            vmin=-1, vmax=1,\n",
        "            annot=True, cmap=\"coolwarm\")\n",
        "plt.show()"
      ],
      "execution_count": null,
      "outputs": []
    },
    {
      "cell_type": "markdown",
      "metadata": {
        "id": "ngEmXSzEixEb"
      },
      "source": [
        "Genera un loop que evalúe la relación entre el nivel futbolístico y el valor para cada edad (entre 25 y 35 años) utilizando la función evaluacion_correlacion()."
      ]
    },
    {
      "cell_type": "code",
      "metadata": {
        "id": "1FG_rs7bgnc_"
      },
      "source": [
        "for edad in [25,26,27,28,29,30,31,32,33,34,35]:\n",
        "  filtro_edad = df_valor['Age'] == edad\n",
        "  evaluacion_correlacion(df_valor.loc[filtro_edad, 'Overall'],\n",
        "                         'Nivel para edad ' +str(edad),\n",
        "                         df_valor.loc[filtro_edad, 'Value_€'],\n",
        "                         'Valor para edad ' +str(edad))"
      ],
      "execution_count": null,
      "outputs": []
    },
    {
      "cell_type": "markdown",
      "metadata": {
        "id": "qIzwHbs1Ubg4"
      },
      "source": [
        "# 05 Ajuste por collider\n",
        "Ajustar a (quedarnos con ciertos valores de) un collider (causa común a dos variables) puede modificar la asociación que vemos entre esas dos variables."
      ]
    },
    {
      "cell_type": "markdown",
      "metadata": {
        "id": "_YSOEXvFby0h"
      },
      "source": [
        "## EJERCICIO 2\n",
        "Queremos entender la influencia de la edad sobre el nivel futbolístico.\n",
        "\n",
        "Link al diagrama causal: https://docs.google.com/presentation/d/1jYSOQpCVbL7JdacYhq8NuKWwhYe2QwW8qvM680GERps/edit#slide=id.gbc327d14bd_1_6"
      ]
    },
    {
      "cell_type": "markdown",
      "metadata": {
        "id": "jW_7Vh9tlixj"
      },
      "source": [
        "Primero, visualiza la relación entre ambas."
      ]
    },
    {
      "cell_type": "code",
      "metadata": {
        "id": "s1kH_8DOXfDu"
      },
      "source": [
        "evaluacion_correlacion(df_valor['Age'], 'Edad',\n",
        "                       df_valor['Overall'], 'Nivel')"
      ],
      "execution_count": null,
      "outputs": []
    },
    {
      "cell_type": "markdown",
      "metadata": {
        "id": "21smzqQ-l4O5"
      },
      "source": [
        "Ahora visualiza la misma relación entre variables pero sólo de aquellos jugadores con un valor mediano. Para esto, calcula el percentil 44 y 55 de la columna valor y crea un filtro que se quede con solo con los jugadores cuyo valor este entre ambos."
      ]
    },
    {
      "cell_type": "code",
      "metadata": {
        "id": "HH87p2ArmXLY"
      },
      "source": [
        "# Generamos el filtro\n",
        "valor_min = df_valor['Value_€'].quantile(0.45)\n",
        "valor_max = df_valor['Value_€'].quantile(0.55)\n",
        "\n",
        "filtro_medianos = ((df_valor['Value_€'] >= valor_min)&\n",
        "                   (df_valor['Value_€'] <= valor_max))"
      ],
      "execution_count": null,
      "outputs": []
    },
    {
      "cell_type": "code",
      "metadata": {
        "id": "98RcTHdtXut6"
      },
      "source": [
        "evaluacion_correlacion(df_valor.loc[filtro_medianos,'Age'], 'Edad',\n",
        "                       df_valor.loc[filtro_medianos, 'Overall'], 'Nivel')"
      ],
      "execution_count": null,
      "outputs": []
    },
    {
      "cell_type": "markdown",
      "metadata": {
        "id": "KoXsO95BnFc-"
      },
      "source": [
        "## Por qué varía tanto, que explicación tiene?"
      ]
    }
  ]
}