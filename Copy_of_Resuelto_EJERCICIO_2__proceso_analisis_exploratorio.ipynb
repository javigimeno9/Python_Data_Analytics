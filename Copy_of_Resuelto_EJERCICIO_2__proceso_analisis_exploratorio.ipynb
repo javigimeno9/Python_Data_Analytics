{
  "nbformat": 4,
  "nbformat_minor": 0,
  "metadata": {
    "colab": {
      "provenance": [],
      "toc_visible": true
    },
    "kernelspec": {
      "name": "python3",
      "display_name": "Python 3"
    }
  },
  "cells": [
    {
      "cell_type": "markdown",
      "metadata": {
        "id": "R53FGLN8jo1L"
      },
      "source": [
        "# EJERCICIO 2: Proceso Análisis Exploratorio\n",
        "Ejercicio para practicar la introducción al EDA (Exploratory Data Analysis).\n",
        "\n",
        "\n"
      ]
    },
    {
      "cell_type": "markdown",
      "metadata": {
        "id": "exi-HUGCoCae"
      },
      "source": [
        "# Objetivo: EDA SP500\n",
        "Eres un inversor privado que está considerando el sp500 como producto. Basándote en el histórico del sp500, resuelve las preguntas que puedes ver a continuación.\n",
        "\n",
        "\n",
        "Primero, claro, debes importar el dataset del sp500 y las librerías necesarias."
      ]
    },
    {
      "cell_type": "code",
      "metadata": {
        "id": "4be6xiUqjPHI"
      },
      "source": [
        "import pandas as pd\n",
        "import numpy as np"
      ],
      "execution_count": null,
      "outputs": []
    },
    {
      "cell_type": "code",
      "metadata": {
        "colab": {
          "resources": {
            "http://localhost:8080/nbextensions/google.colab/files.js": {
              "data": "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",
              "ok": true,
              "headers": [
                [
                  "content-type",
                  "application/javascript"
                ]
              ],
              "status": 200,
              "status_text": ""
            }
          },
          "base_uri": "https://localhost:8080/",
          "height": 197
        },
        "id": "J9-edLWbpuqc",
        "outputId": "1bce0164-ee18-417f-95c6-146b54e10482"
      },
      "source": [
        "# Generamos un objeto para subir el archivo\n",
        "from google.colab import files\n",
        "uploaded = files.upload()\n",
        "\n",
        "# Convertimos los bytes a formato tabular (como el file row que veíamos para Github)\n",
        "import io\n",
        "buffer_io = io.BytesIO(uploaded['sp500.csv'])\n",
        "\n",
        "# Cargamos en un dataframe\n",
        "df_sp500 = pd.read_csv(buffer_io)\n",
        "df_sp500.head(3)"
      ],
      "execution_count": null,
      "outputs": [
        {
          "output_type": "display_data",
          "data": {
            "text/html": [
              "\n",
              "     <input type=\"file\" id=\"files-a933a684-d476-4df3-bbb9-0e99ff376850\" name=\"files[]\" multiple disabled\n",
              "        style=\"border:none\" />\n",
              "     <output id=\"result-a933a684-d476-4df3-bbb9-0e99ff376850\">\n",
              "      Upload widget is only available when the cell has been executed in the\n",
              "      current browser session. Please rerun this cell to enable.\n",
              "      </output>\n",
              "      <script src=\"/nbextensions/google.colab/files.js\"></script> "
            ],
            "text/plain": [
              "<IPython.core.display.HTML object>"
            ]
          },
          "metadata": {
            "tags": []
          }
        },
        {
          "output_type": "stream",
          "text": [
            "Saving sp500.csv to sp500 (1).csv\n"
          ],
          "name": "stdout"
        },
        {
          "output_type": "execute_result",
          "data": {
            "text/html": [
              "<div>\n",
              "<style scoped>\n",
              "    .dataframe tbody tr th:only-of-type {\n",
              "        vertical-align: middle;\n",
              "    }\n",
              "\n",
              "    .dataframe tbody tr th {\n",
              "        vertical-align: top;\n",
              "    }\n",
              "\n",
              "    .dataframe thead th {\n",
              "        text-align: right;\n",
              "    }\n",
              "</style>\n",
              "<table border=\"1\" class=\"dataframe\">\n",
              "  <thead>\n",
              "    <tr style=\"text-align: right;\">\n",
              "      <th></th>\n",
              "      <th>Date</th>\n",
              "      <th>Open</th>\n",
              "      <th>High</th>\n",
              "      <th>Low</th>\n",
              "      <th>Close</th>\n",
              "      <th>Adj Close</th>\n",
              "      <th>Volume</th>\n",
              "    </tr>\n",
              "  </thead>\n",
              "  <tbody>\n",
              "    <tr>\n",
              "      <th>0</th>\n",
              "      <td>1927-12-30</td>\n",
              "      <td>17.660000</td>\n",
              "      <td>17.660000</td>\n",
              "      <td>17.660000</td>\n",
              "      <td>17.660000</td>\n",
              "      <td>17.660000</td>\n",
              "      <td>0</td>\n",
              "    </tr>\n",
              "    <tr>\n",
              "      <th>1</th>\n",
              "      <td>1928-01-03</td>\n",
              "      <td>17.760000</td>\n",
              "      <td>17.760000</td>\n",
              "      <td>17.760000</td>\n",
              "      <td>17.760000</td>\n",
              "      <td>17.760000</td>\n",
              "      <td>0</td>\n",
              "    </tr>\n",
              "    <tr>\n",
              "      <th>2</th>\n",
              "      <td>1928-01-04</td>\n",
              "      <td>17.719999</td>\n",
              "      <td>17.719999</td>\n",
              "      <td>17.719999</td>\n",
              "      <td>17.719999</td>\n",
              "      <td>17.719999</td>\n",
              "      <td>0</td>\n",
              "    </tr>\n",
              "  </tbody>\n",
              "</table>\n",
              "</div>"
            ],
            "text/plain": [
              "         Date       Open       High        Low      Close  Adj Close  Volume\n",
              "0  1927-12-30  17.660000  17.660000  17.660000  17.660000  17.660000       0\n",
              "1  1928-01-03  17.760000  17.760000  17.760000  17.760000  17.760000       0\n",
              "2  1928-01-04  17.719999  17.719999  17.719999  17.719999  17.719999       0"
            ]
          },
          "metadata": {
            "tags": []
          },
          "execution_count": 3
        }
      ]
    },
    {
      "cell_type": "markdown",
      "metadata": {
        "id": "cnHRaho3rsXS"
      },
      "source": [
        "# Pregunta 1\n",
        "### Cuánto valdría mi inversión ahora si hubiera metido 1 dollar el primer día (1927-12-30)\n",
        "Nota: ese dollar es equivalente a unos $15.22 de ahora por la inflacción. Ha superado el sp500 la inflacción?"
      ]
    },
    {
      "cell_type": "code",
      "metadata": {
        "id": "9eg9GeddrxDN"
      },
      "source": [
        "# Variación respecto a ayer\n",
        "df_sp500['Variacion'] = df_sp500['Close']/df_sp500['Close'].shift(1)"
      ],
      "execution_count": null,
      "outputs": []
    },
    {
      "cell_type": "code",
      "metadata": {
        "colab": {
          "base_uri": "https://localhost:8080/"
        },
        "id": "xMEiC2Rcr6k8",
        "outputId": "e6da1a9a-84ee-4f52-9b2b-c6a69918477b"
      },
      "source": [
        "# Solución 1: Producto de la variación diaria\n",
        "np.array(df_sp500['Variacion'].dropna()).prod()"
      ],
      "execution_count": null,
      "outputs": [
        {
          "output_type": "execute_result",
          "data": {
            "text/plain": [
              "194.98527412231164"
            ]
          },
          "metadata": {
            "tags": []
          },
          "execution_count": 31
        }
      ]
    },
    {
      "cell_type": "code",
      "metadata": {
        "colab": {
          "base_uri": "https://localhost:8080/"
        },
        "id": "Rf69AZGEr6oe",
        "outputId": "7b6121f5-dc42-4820-de57-ad6d26a8752a"
      },
      "source": [
        "# Solución 2: Variación entre el primer y el último registro\n",
        "df_sp500.iloc[-1,5]/df_sp500.iloc[0,5]"
      ],
      "execution_count": null,
      "outputs": [
        {
          "output_type": "execute_result",
          "data": {
            "text/plain": [
              "194.98527412231027"
            ]
          },
          "metadata": {
            "tags": []
          },
          "execution_count": 32
        }
      ]
    },
    {
      "cell_type": "markdown",
      "metadata": {
        "id": "LssysnYCtmqu"
      },
      "source": [
        "# Pregunta 2\n",
        "### Qué porcentaje de días el sp500 ha acabado por encima del día valor de cierre del día anterior"
      ]
    },
    {
      "cell_type": "code",
      "metadata": {
        "colab": {
          "base_uri": "https://localhost:8080/"
        },
        "id": "btaGzJqNt0Uc",
        "outputId": "49bd5fdd-03ca-402f-f3f8-8f89b8526d95"
      },
      "source": [
        "# Filtro que determina qué días se ha crecido\n",
        "filtro_verde = df_sp500['Variacion'] > 1\n",
        "filtro_verde[:5]"
      ],
      "execution_count": null,
      "outputs": [
        {
          "output_type": "execute_result",
          "data": {
            "text/plain": [
              "0    False\n",
              "1     True\n",
              "2    False\n",
              "3    False\n",
              "4     True\n",
              "Name: Variacion, dtype: bool"
            ]
          },
          "metadata": {
            "tags": []
          },
          "execution_count": 33
        }
      ]
    },
    {
      "cell_type": "code",
      "metadata": {
        "colab": {
          "base_uri": "https://localhost:8080/"
        },
        "id": "Hepym7n8uG2d",
        "outputId": "050721fe-1edd-4132-ac12-3ef797b8e2a1"
      },
      "source": [
        "# Porcentaje que supone sobre el total\n",
        "filtro_verde.sum()/len(df_sp500)\n",
        "# Ok, pues se gana un 52.3% de los días (se pierde bastantes días)"
      ],
      "execution_count": null,
      "outputs": [
        {
          "output_type": "execute_result",
          "data": {
            "text/plain": [
              "0.5236890622990181"
            ]
          },
          "metadata": {
            "tags": []
          },
          "execution_count": 34
        }
      ]
    },
    {
      "cell_type": "markdown",
      "metadata": {
        "id": "T_nOTjcJu3Qv"
      },
      "source": [
        "# Pregunta 3\n",
        "Considerando un año como los ultímos 365 días, es decir, los últimos 250 días de bolsa (cierra findes y festivos),\n",
        "### Cuál es la ganancia media anual esperable\n"
      ]
    },
    {
      "cell_type": "code",
      "metadata": {
        "id": "U2eHTQxRvPns"
      },
      "source": [
        "# Calculamos primero la variación en los últimos 250 registros para cada registro disponible\n",
        "df_sp500['Variacion ac ult 250'] = df_sp500['Variacion'].rolling(250).agg(lambda x:x.prod())"
      ],
      "execution_count": null,
      "outputs": []
    },
    {
      "cell_type": "code",
      "metadata": {
        "colab": {
          "base_uri": "https://localhost:8080/",
          "height": 351
        },
        "id": "HBrnTHCqvmSL",
        "outputId": "da4475d7-0675-49d0-8b34-dcc5e75e3100"
      },
      "source": [
        "df_sp500.describe()"
      ],
      "execution_count": null,
      "outputs": [
        {
          "output_type": "execute_result",
          "data": {
            "text/html": [
              "<div>\n",
              "<style scoped>\n",
              "    .dataframe tbody tr th:only-of-type {\n",
              "        vertical-align: middle;\n",
              "    }\n",
              "\n",
              "    .dataframe tbody tr th {\n",
              "        vertical-align: top;\n",
              "    }\n",
              "\n",
              "    .dataframe thead th {\n",
              "        text-align: right;\n",
              "    }\n",
              "</style>\n",
              "<table border=\"1\" class=\"dataframe\">\n",
              "  <thead>\n",
              "    <tr style=\"text-align: right;\">\n",
              "      <th></th>\n",
              "      <th>Open</th>\n",
              "      <th>High</th>\n",
              "      <th>Low</th>\n",
              "      <th>Close</th>\n",
              "      <th>Adj Close</th>\n",
              "      <th>Volume</th>\n",
              "      <th>Variacion</th>\n",
              "      <th>Variacion ac ult 250</th>\n",
              "      <th>Variacion ac tras 1250</th>\n",
              "      <th>Variacion ac ult 1250</th>\n",
              "      <th>Variacion ac ult 1 años</th>\n",
              "      <th>Variacion ac ult 2 años</th>\n",
              "      <th>Variacion ac ult 5 años</th>\n",
              "      <th>Variacion ac ult 10 años</th>\n",
              "      <th>Variacion ac ult 15 años</th>\n",
              "      <th>Variacion ac ult 20 años</th>\n",
              "    </tr>\n",
              "  </thead>\n",
              "  <tbody>\n",
              "    <tr>\n",
              "      <th>count</th>\n",
              "      <td>23323.000000</td>\n",
              "      <td>23323.000000</td>\n",
              "      <td>23323.000000</td>\n",
              "      <td>23323.000000</td>\n",
              "      <td>23323.000000</td>\n",
              "      <td>2.332300e+04</td>\n",
              "      <td>23322.000000</td>\n",
              "      <td>23073.000000</td>\n",
              "      <td>22073.000000</td>\n",
              "      <td>22073.000000</td>\n",
              "      <td>23073.000000</td>\n",
              "      <td>22823.000000</td>\n",
              "      <td>22073.000000</td>\n",
              "      <td>20823.000000</td>\n",
              "      <td>19573.000000</td>\n",
              "      <td>18323.000000</td>\n",
              "    </tr>\n",
              "    <tr>\n",
              "      <th>mean</th>\n",
              "      <td>486.821737</td>\n",
              "      <td>489.690119</td>\n",
              "      <td>483.762812</td>\n",
              "      <td>486.918598</td>\n",
              "      <td>486.918598</td>\n",
              "      <td>7.691668e+08</td>\n",
              "      <td>1.000298</td>\n",
              "      <td>1.076378</td>\n",
              "      <td>1.428843</td>\n",
              "      <td>1.428843</td>\n",
              "      <td>1.076378</td>\n",
              "      <td>1.151965</td>\n",
              "      <td>1.428843</td>\n",
              "      <td>2.042326</td>\n",
              "      <td>2.994198</td>\n",
              "      <td>4.336360</td>\n",
              "    </tr>\n",
              "    <tr>\n",
              "      <th>std</th>\n",
              "      <td>726.187716</td>\n",
              "      <td>730.112168</td>\n",
              "      <td>721.890344</td>\n",
              "      <td>726.278798</td>\n",
              "      <td>726.278798</td>\n",
              "      <td>1.484864e+09</td>\n",
              "      <td>0.012000</td>\n",
              "      <td>0.200249</td>\n",
              "      <td>0.499240</td>\n",
              "      <td>0.499240</td>\n",
              "      <td>0.200249</td>\n",
              "      <td>0.277514</td>\n",
              "      <td>0.499240</td>\n",
              "      <td>0.900413</td>\n",
              "      <td>1.629885</td>\n",
              "      <td>2.494470</td>\n",
              "    </tr>\n",
              "    <tr>\n",
              "      <th>min</th>\n",
              "      <td>4.400000</td>\n",
              "      <td>4.400000</td>\n",
              "      <td>4.400000</td>\n",
              "      <td>4.400000</td>\n",
              "      <td>4.400000</td>\n",
              "      <td>0.000000e+00</td>\n",
              "      <td>0.795331</td>\n",
              "      <td>0.294235</td>\n",
              "      <td>0.266101</td>\n",
              "      <td>0.266101</td>\n",
              "      <td>0.294235</td>\n",
              "      <td>0.181144</td>\n",
              "      <td>0.266101</td>\n",
              "      <td>0.356066</td>\n",
              "      <td>0.389884</td>\n",
              "      <td>0.483679</td>\n",
              "    </tr>\n",
              "    <tr>\n",
              "      <th>25%</th>\n",
              "      <td>23.855001</td>\n",
              "      <td>23.855001</td>\n",
              "      <td>23.855001</td>\n",
              "      <td>23.855001</td>\n",
              "      <td>23.855001</td>\n",
              "      <td>1.280000e+06</td>\n",
              "      <td>0.995466</td>\n",
              "      <td>0.960681</td>\n",
              "      <td>1.061279</td>\n",
              "      <td>1.061279</td>\n",
              "      <td>0.960681</td>\n",
              "      <td>1.006817</td>\n",
              "      <td>1.061279</td>\n",
              "      <td>1.305880</td>\n",
              "      <td>1.618138</td>\n",
              "      <td>2.438813</td>\n",
              "    </tr>\n",
              "    <tr>\n",
              "      <th>50%</th>\n",
              "      <td>99.500000</td>\n",
              "      <td>100.309998</td>\n",
              "      <td>98.720001</td>\n",
              "      <td>99.500000</td>\n",
              "      <td>99.500000</td>\n",
              "      <td>1.734000e+07</td>\n",
              "      <td>1.000482</td>\n",
              "      <td>1.088715</td>\n",
              "      <td>1.423052</td>\n",
              "      <td>1.423052</td>\n",
              "      <td>1.088715</td>\n",
              "      <td>1.157611</td>\n",
              "      <td>1.423052</td>\n",
              "      <td>1.949479</td>\n",
              "      <td>2.611214</td>\n",
              "      <td>3.763990</td>\n",
              "    </tr>\n",
              "    <tr>\n",
              "      <th>75%</th>\n",
              "      <td>834.035004</td>\n",
              "      <td>843.744995</td>\n",
              "      <td>822.889984</td>\n",
              "      <td>834.704987</td>\n",
              "      <td>834.704987</td>\n",
              "      <td>5.378550e+08</td>\n",
              "      <td>1.005416</td>\n",
              "      <td>1.195957</td>\n",
              "      <td>1.712228</td>\n",
              "      <td>1.712228</td>\n",
              "      <td>1.195957</td>\n",
              "      <td>1.317628</td>\n",
              "      <td>1.712228</td>\n",
              "      <td>2.752537</td>\n",
              "      <td>4.050454</td>\n",
              "      <td>5.720982</td>\n",
              "    </tr>\n",
              "    <tr>\n",
              "      <th>max</th>\n",
              "      <td>3564.739990</td>\n",
              "      <td>3588.110107</td>\n",
              "      <td>3535.229980</td>\n",
              "      <td>3580.840088</td>\n",
              "      <td>3580.840088</td>\n",
              "      <td>1.145623e+10</td>\n",
              "      <td>1.166096</td>\n",
              "      <td>2.741573</td>\n",
              "      <td>3.795918</td>\n",
              "      <td>3.795918</td>\n",
              "      <td>2.741573</td>\n",
              "      <td>2.318182</td>\n",
              "      <td>3.795918</td>\n",
              "      <td>5.147127</td>\n",
              "      <td>9.083157</td>\n",
              "      <td>14.675931</td>\n",
              "    </tr>\n",
              "  </tbody>\n",
              "</table>\n",
              "</div>"
            ],
            "text/plain": [
              "               Open  ...  Variacion ac ult 20 años\n",
              "count  23323.000000  ...              18323.000000\n",
              "mean     486.821737  ...                  4.336360\n",
              "std      726.187716  ...                  2.494470\n",
              "min        4.400000  ...                  0.483679\n",
              "25%       23.855001  ...                  2.438813\n",
              "50%       99.500000  ...                  3.763990\n",
              "75%      834.035004  ...                  5.720982\n",
              "max     3564.739990  ...                 14.675931\n",
              "\n",
              "[8 rows x 16 columns]"
            ]
          },
          "metadata": {
            "tags": []
          },
          "execution_count": 36
        }
      ]
    },
    {
      "cell_type": "markdown",
      "metadata": {
        "id": "ccYi9uZEwuEf"
      },
      "source": [
        "# Pregunta 4\n",
        "Mi objetivo es invertir una cantidad en el sp500 y extraer mi dinero en 5 años (de nuevo nos referimos a la idea de año descrita en la pregunta anterior). Pero soy tremendamente gafe e invierto el peor día posible de la historia para conseguir mi objetivo.\n",
        "### Qué día he invertido? Cuánto he perdido al cabo de 5 años?"
      ]
    },
    {
      "cell_type": "code",
      "metadata": {
        "colab": {
          "base_uri": "https://localhost:8080/"
        },
        "id": "VTmWIm9Rx0IL",
        "outputId": "12e66ba9-661a-4236-8f69-396ead804236"
      },
      "source": [
        "# Días de bolsa en 5 años\n",
        "250*5"
      ],
      "execution_count": null,
      "outputs": [
        {
          "output_type": "execute_result",
          "data": {
            "text/plain": [
              "1250"
            ]
          },
          "metadata": {
            "tags": []
          },
          "execution_count": 37
        }
      ]
    },
    {
      "cell_type": "code",
      "metadata": {
        "colab": {
          "base_uri": "https://localhost:8080/",
          "height": 80
        },
        "id": "zwFd7wWVv_X1",
        "outputId": "ff60dbcd-9499-4a16-e8a0-d0c2b374ec3f"
      },
      "source": [
        "# Solución 1:\n",
        "# Creación variable variacion tras 5 años utilizando [::-1] para revertir orden\n",
        "df_sp500['Variacion ac tras 1250'] = df_sp500[::-1]['Variacion'].rolling(1250).agg(lambda x:x.prod())[::-1]\n",
        "\n",
        "# Filtro que determina el peor día de compra (respecto a una venta en 5 años)\n",
        "filtro_gafe = df_sp500['Variacion ac tras 1250'] == df_sp500['Variacion ac tras 1250'].min()\n",
        "\n",
        "# Visualizamos ese día de compra\n",
        "df_sp500.loc[filtro_gafe,['Date','Close','Variacion ac tras 1250']]"
      ],
      "execution_count": null,
      "outputs": [
        {
          "output_type": "execute_result",
          "data": {
            "text/html": [
              "<div>\n",
              "<style scoped>\n",
              "    .dataframe tbody tr th:only-of-type {\n",
              "        vertical-align: middle;\n",
              "    }\n",
              "\n",
              "    .dataframe tbody tr th {\n",
              "        vertical-align: top;\n",
              "    }\n",
              "\n",
              "    .dataframe thead th {\n",
              "        text-align: right;\n",
              "    }\n",
              "</style>\n",
              "<table border=\"1\" class=\"dataframe\">\n",
              "  <thead>\n",
              "    <tr style=\"text-align: right;\">\n",
              "      <th></th>\n",
              "      <th>Date</th>\n",
              "      <th>Close</th>\n",
              "      <th>Variacion ac tras 1250</th>\n",
              "    </tr>\n",
              "  </thead>\n",
              "  <tbody>\n",
              "    <tr>\n",
              "      <th>423</th>\n",
              "      <td>1929-09-09</td>\n",
              "      <td>31.67</td>\n",
              "      <td>0.266101</td>\n",
              "    </tr>\n",
              "  </tbody>\n",
              "</table>\n",
              "</div>"
            ],
            "text/plain": [
              "           Date  Close  Variacion ac tras 1250\n",
              "423  1929-09-09  31.67                0.266101"
            ]
          },
          "metadata": {
            "tags": []
          },
          "execution_count": 38
        }
      ]
    },
    {
      "cell_type": "code",
      "metadata": {
        "colab": {
          "base_uri": "https://localhost:8080/",
          "height": 179
        },
        "id": "IePrkW8wyBj1",
        "outputId": "b13c69a4-01e6-444f-9b6b-0c9e9882a45f"
      },
      "source": [
        "# Solución 2:\n",
        "# Creación variable variacion ult 5 años\n",
        "df_sp500['Variacion ac ult 1250'] = df_sp500['Variacion'].rolling(1250).agg(lambda x:x.prod())\n",
        "\n",
        "# Filtro que determina el peor día de venta (respecto a una compra hace 5 años)\n",
        "filtro_gafe = df_sp500['Variacion ac ult 1250'] == df_sp500['Variacion ac ult 1250'].min()\n",
        "\n",
        "# Mostramos la fecha y variacion acumuladas en los últimos 1250 para ese día\n",
        "display('Venta: ', df_sp500.loc[filtro_gafe,['Date','Close','Variacion ac ult 1250']])\n",
        "\n",
        "# Nos guardamos el valor del índice de ese día\n",
        "indice_salida = df_sp500.loc[filtro_gafe].index\n",
        "\n",
        "# Ahora le restamos 1250 (-1) para acceder al valor del índice de hace 5 años\n",
        "indice_entrada = indice_salida-1250-1\n",
        "\n",
        "# Utilizamos ese índice para ver el valor de compra\n",
        "display('Compra ', df_sp500.loc[indice_entrada,['Date','Close','Variacion ac ult 1250']])"
      ],
      "execution_count": null,
      "outputs": [
        {
          "output_type": "display_data",
          "data": {
            "application/vnd.google.colaboratory.intrinsic+json": {
              "type": "string"
            },
            "text/plain": [
              "'Venta: '"
            ]
          },
          "metadata": {
            "tags": []
          }
        },
        {
          "output_type": "display_data",
          "data": {
            "text/html": [
              "<div>\n",
              "<style scoped>\n",
              "    .dataframe tbody tr th:only-of-type {\n",
              "        vertical-align: middle;\n",
              "    }\n",
              "\n",
              "    .dataframe tbody tr th {\n",
              "        vertical-align: top;\n",
              "    }\n",
              "\n",
              "    .dataframe thead th {\n",
              "        text-align: right;\n",
              "    }\n",
              "</style>\n",
              "<table border=\"1\" class=\"dataframe\">\n",
              "  <thead>\n",
              "    <tr style=\"text-align: right;\">\n",
              "      <th></th>\n",
              "      <th>Date</th>\n",
              "      <th>Close</th>\n",
              "      <th>Variacion ac ult 1250</th>\n",
              "    </tr>\n",
              "  </thead>\n",
              "  <tbody>\n",
              "    <tr>\n",
              "      <th>1672</th>\n",
              "      <td>1934-09-14</td>\n",
              "      <td>8.47</td>\n",
              "      <td>0.266101</td>\n",
              "    </tr>\n",
              "  </tbody>\n",
              "</table>\n",
              "</div>"
            ],
            "text/plain": [
              "            Date  Close  Variacion ac ult 1250\n",
              "1672  1934-09-14   8.47               0.266101"
            ]
          },
          "metadata": {
            "tags": []
          }
        },
        {
          "output_type": "display_data",
          "data": {
            "application/vnd.google.colaboratory.intrinsic+json": {
              "type": "string"
            },
            "text/plain": [
              "'Compra '"
            ]
          },
          "metadata": {
            "tags": []
          }
        },
        {
          "output_type": "display_data",
          "data": {
            "text/html": [
              "<div>\n",
              "<style scoped>\n",
              "    .dataframe tbody tr th:only-of-type {\n",
              "        vertical-align: middle;\n",
              "    }\n",
              "\n",
              "    .dataframe tbody tr th {\n",
              "        vertical-align: top;\n",
              "    }\n",
              "\n",
              "    .dataframe thead th {\n",
              "        text-align: right;\n",
              "    }\n",
              "</style>\n",
              "<table border=\"1\" class=\"dataframe\">\n",
              "  <thead>\n",
              "    <tr style=\"text-align: right;\">\n",
              "      <th></th>\n",
              "      <th>Date</th>\n",
              "      <th>Close</th>\n",
              "      <th>Variacion ac ult 1250</th>\n",
              "    </tr>\n",
              "  </thead>\n",
              "  <tbody>\n",
              "    <tr>\n",
              "      <th>421</th>\n",
              "      <td>1929-09-05</td>\n",
              "      <td>31.02</td>\n",
              "      <td>NaN</td>\n",
              "    </tr>\n",
              "  </tbody>\n",
              "</table>\n",
              "</div>"
            ],
            "text/plain": [
              "           Date  Close  Variacion ac ult 1250\n",
              "421  1929-09-05  31.02                    NaN"
            ]
          },
          "metadata": {
            "tags": []
          }
        }
      ]
    },
    {
      "cell_type": "code",
      "metadata": {
        "colab": {
          "base_uri": "https://localhost:8080/"
        },
        "id": "QuQ-uylb3s3c",
        "outputId": "4abbcb33-b442-49db-8f75-ac19b8f98779"
      },
      "source": [
        "print(\"Invertí el día \" + str(df_sp500.loc[indice_entrada,'Date'].values))\n",
        "\n",
        "ganancia = np.round(float(df_sp500.loc[filtro_gafe,'Variacion ac ult 1250'].values), 2)\n",
        "print('5 años después había perdido el ' + str((1-ganancia)*100) + '%')"
      ],
      "execution_count": null,
      "outputs": [
        {
          "output_type": "stream",
          "text": [
            "Invertí el día ['1929-09-05']\n",
            "5 años después había perdido el 73.0%\n"
          ],
          "name": "stdout"
        }
      ]
    },
    {
      "cell_type": "markdown",
      "metadata": {
        "id": "lIYDUEbeq5Ay"
      },
      "source": [
        "# Pregunta 5\n",
        "La respuesta a la pregunta anterior se ve influenciada por el crash del 1929. A partir de ahora limitemos nuestro análisis a los últimos del 1955 en adelante.\n",
        "### Cuál es la distribución de la ganancia a [1,2,5,10,15,20] años?\n",
        "Nota: con distribución nos referimos a los estadísticos principales: media, mediana, cuantiles principales, etc."
      ]
    },
    {
      "cell_type": "code",
      "metadata": {
        "id": "KJCvB9jx5i5t"
      },
      "source": [
        "# Primero creamos las variables deseadas para los intervalos pedidos\n",
        "for n in [1,2,5,10,15,20]:\n",
        "\n",
        "  # Variación en los últimos 250*n registros para cada registro disponible\n",
        "  df_sp500['Variacion ac ult '+str(n)+' años'] = df_sp500['Variacion'].rolling(250*n).agg(lambda x:x.prod())"
      ],
      "execution_count": null,
      "outputs": []
    },
    {
      "cell_type": "code",
      "metadata": {
        "id": "QRAWMOXpPDyE",
        "colab": {
          "base_uri": "https://localhost:8080/",
          "height": 343
        },
        "outputId": "0c20a828-e71e-44ae-d3d7-78d0a29267b8"
      },
      "source": [
        "# Generamos un filtro que nos seleccione solo las fechas desde 1950\n",
        "filtro_post_1955 = df_sp500['Date'] >= '1955-01-01'\n",
        "df_sp500.loc[filtro_post_1955,:].head()"
      ],
      "execution_count": null,
      "outputs": [
        {
          "output_type": "execute_result",
          "data": {
            "text/html": [
              "<div>\n",
              "<style scoped>\n",
              "    .dataframe tbody tr th:only-of-type {\n",
              "        vertical-align: middle;\n",
              "    }\n",
              "\n",
              "    .dataframe tbody tr th {\n",
              "        vertical-align: top;\n",
              "    }\n",
              "\n",
              "    .dataframe thead th {\n",
              "        text-align: right;\n",
              "    }\n",
              "</style>\n",
              "<table border=\"1\" class=\"dataframe\">\n",
              "  <thead>\n",
              "    <tr style=\"text-align: right;\">\n",
              "      <th></th>\n",
              "      <th>Date</th>\n",
              "      <th>Open</th>\n",
              "      <th>High</th>\n",
              "      <th>Low</th>\n",
              "      <th>Close</th>\n",
              "      <th>Adj Close</th>\n",
              "      <th>Volume</th>\n",
              "      <th>Variacion</th>\n",
              "      <th>Variacion ac ult 250</th>\n",
              "      <th>Variacion ac tras 1250</th>\n",
              "      <th>Variacion ac ult 1250</th>\n",
              "      <th>Variacion ac ult 1 años</th>\n",
              "      <th>Variacion ac ult 2 años</th>\n",
              "      <th>Variacion ac ult 5 años</th>\n",
              "      <th>Variacion ac ult 10 años</th>\n",
              "      <th>Variacion ac ult 15 años</th>\n",
              "      <th>Variacion ac ult 20 años</th>\n",
              "    </tr>\n",
              "  </thead>\n",
              "  <tbody>\n",
              "    <tr>\n",
              "      <th>6747</th>\n",
              "      <td>1955-01-03</td>\n",
              "      <td>36.750000</td>\n",
              "      <td>36.750000</td>\n",
              "      <td>36.750000</td>\n",
              "      <td>36.750000</td>\n",
              "      <td>36.750000</td>\n",
              "      <td>4570000</td>\n",
              "      <td>1.021401</td>\n",
              "      <td>1.461814</td>\n",
              "      <td>1.638966</td>\n",
              "      <td>2.181009</td>\n",
              "      <td>1.461814</td>\n",
              "      <td>1.393629</td>\n",
              "      <td>2.181009</td>\n",
              "      <td>2.805344</td>\n",
              "      <td>2.877839</td>\n",
              "      <td>3.836117</td>\n",
              "    </tr>\n",
              "    <tr>\n",
              "      <th>6748</th>\n",
              "      <td>1955-01-04</td>\n",
              "      <td>36.419998</td>\n",
              "      <td>36.419998</td>\n",
              "      <td>36.419998</td>\n",
              "      <td>36.419998</td>\n",
              "      <td>36.419998</td>\n",
              "      <td>4420000</td>\n",
              "      <td>0.991020</td>\n",
              "      <td>1.453312</td>\n",
              "      <td>1.601633</td>\n",
              "      <td>2.151211</td>\n",
              "      <td>1.453312</td>\n",
              "      <td>1.383213</td>\n",
              "      <td>2.151211</td>\n",
              "      <td>2.742470</td>\n",
              "      <td>2.860958</td>\n",
              "      <td>3.845829</td>\n",
              "    </tr>\n",
              "    <tr>\n",
              "      <th>6749</th>\n",
              "      <td>1955-01-05</td>\n",
              "      <td>35.520000</td>\n",
              "      <td>35.520000</td>\n",
              "      <td>35.520000</td>\n",
              "      <td>35.520000</td>\n",
              "      <td>35.520000</td>\n",
              "      <td>4640000</td>\n",
              "      <td>0.975288</td>\n",
              "      <td>1.424789</td>\n",
              "      <td>1.623833</td>\n",
              "      <td>2.091873</td>\n",
              "      <td>1.424789</td>\n",
              "      <td>1.361963</td>\n",
              "      <td>2.091873</td>\n",
              "      <td>2.664666</td>\n",
              "      <td>2.805687</td>\n",
              "      <td>3.754757</td>\n",
              "    </tr>\n",
              "    <tr>\n",
              "      <th>6750</th>\n",
              "      <td>1955-01-06</td>\n",
              "      <td>35.040001</td>\n",
              "      <td>35.040001</td>\n",
              "      <td>35.040001</td>\n",
              "      <td>35.040001</td>\n",
              "      <td>35.040001</td>\n",
              "      <td>5300000</td>\n",
              "      <td>0.986487</td>\n",
              "      <td>1.412903</td>\n",
              "      <td>1.666948</td>\n",
              "      <td>2.051522</td>\n",
              "      <td>1.412903</td>\n",
              "      <td>1.354988</td>\n",
              "      <td>2.051522</td>\n",
              "      <td>2.601336</td>\n",
              "      <td>2.765588</td>\n",
              "      <td>3.711865</td>\n",
              "    </tr>\n",
              "    <tr>\n",
              "      <th>6751</th>\n",
              "      <td>1955-01-07</td>\n",
              "      <td>35.330002</td>\n",
              "      <td>35.330002</td>\n",
              "      <td>35.330002</td>\n",
              "      <td>35.330002</td>\n",
              "      <td>35.330002</td>\n",
              "      <td>4030000</td>\n",
              "      <td>1.008276</td>\n",
              "      <td>1.417168</td>\n",
              "      <td>1.687785</td>\n",
              "      <td>2.074574</td>\n",
              "      <td>1.417168</td>\n",
              "      <td>1.357802</td>\n",
              "      <td>2.074574</td>\n",
              "      <td>2.618977</td>\n",
              "      <td>2.815140</td>\n",
              "      <td>3.819460</td>\n",
              "    </tr>\n",
              "  </tbody>\n",
              "</table>\n",
              "</div>"
            ],
            "text/plain": [
              "            Date       Open  ...  Variacion ac ult 15 años  Variacion ac ult 20 años\n",
              "6747  1955-01-03  36.750000  ...                  2.877839                  3.836117\n",
              "6748  1955-01-04  36.419998  ...                  2.860958                  3.845829\n",
              "6749  1955-01-05  35.520000  ...                  2.805687                  3.754757\n",
              "6750  1955-01-06  35.040001  ...                  2.765588                  3.711865\n",
              "6751  1955-01-07  35.330002  ...                  2.815140                  3.819460\n",
              "\n",
              "[5 rows x 17 columns]"
            ]
          },
          "metadata": {
            "tags": []
          },
          "execution_count": 42
        }
      ]
    },
    {
      "cell_type": "code",
      "metadata": {
        "colab": {
          "base_uri": "https://localhost:8080/",
          "height": 314
        },
        "id": "hlb8UQi05_yJ",
        "outputId": "b1a50970-0c2a-4ae5-abf5-ce04aaa5d299"
      },
      "source": [
        "# Ejecutamos el método describe() sobre el dataframe filtrado\n",
        "df_sp500.loc[filtro_post_1955,[var for var in df_sp500.columns if 'años' in var]].describe()"
      ],
      "execution_count": null,
      "outputs": [
        {
          "output_type": "execute_result",
          "data": {
            "text/html": [
              "<div>\n",
              "<style scoped>\n",
              "    .dataframe tbody tr th:only-of-type {\n",
              "        vertical-align: middle;\n",
              "    }\n",
              "\n",
              "    .dataframe tbody tr th {\n",
              "        vertical-align: top;\n",
              "    }\n",
              "\n",
              "    .dataframe thead th {\n",
              "        text-align: right;\n",
              "    }\n",
              "</style>\n",
              "<table border=\"1\" class=\"dataframe\">\n",
              "  <thead>\n",
              "    <tr style=\"text-align: right;\">\n",
              "      <th></th>\n",
              "      <th>Variacion ac ult 1 años</th>\n",
              "      <th>Variacion ac ult 2 años</th>\n",
              "      <th>Variacion ac ult 5 años</th>\n",
              "      <th>Variacion ac ult 10 años</th>\n",
              "      <th>Variacion ac ult 15 años</th>\n",
              "      <th>Variacion ac ult 20 años</th>\n",
              "    </tr>\n",
              "  </thead>\n",
              "  <tbody>\n",
              "    <tr>\n",
              "      <th>count</th>\n",
              "      <td>16576.000000</td>\n",
              "      <td>16576.000000</td>\n",
              "      <td>16576.000000</td>\n",
              "      <td>16576.000000</td>\n",
              "      <td>16576.000000</td>\n",
              "      <td>16576.000000</td>\n",
              "    </tr>\n",
              "    <tr>\n",
              "      <th>mean</th>\n",
              "      <td>1.085090</td>\n",
              "      <td>1.177332</td>\n",
              "      <td>1.496520</td>\n",
              "      <td>2.206940</td>\n",
              "      <td>3.260770</td>\n",
              "      <td>4.588016</td>\n",
              "    </tr>\n",
              "    <tr>\n",
              "      <th>std</th>\n",
              "      <td>0.158046</td>\n",
              "      <td>0.235627</td>\n",
              "      <td>0.469407</td>\n",
              "      <td>0.874937</td>\n",
              "      <td>1.609481</td>\n",
              "      <td>2.458483</td>\n",
              "    </tr>\n",
              "    <tr>\n",
              "      <th>min</th>\n",
              "      <td>0.512270</td>\n",
              "      <td>0.485248</td>\n",
              "      <td>0.607386</td>\n",
              "      <td>0.520108</td>\n",
              "      <td>1.090909</td>\n",
              "      <td>1.547355</td>\n",
              "    </tr>\n",
              "    <tr>\n",
              "      <th>25%</th>\n",
              "      <td>0.989114</td>\n",
              "      <td>1.045031</td>\n",
              "      <td>1.128437</td>\n",
              "      <td>1.537978</td>\n",
              "      <td>1.835525</td>\n",
              "      <td>2.699654</td>\n",
              "    </tr>\n",
              "    <tr>\n",
              "      <th>50%</th>\n",
              "      <td>1.096430</td>\n",
              "      <td>1.167769</td>\n",
              "      <td>1.483711</td>\n",
              "      <td>2.151070</td>\n",
              "      <td>3.139417</td>\n",
              "      <td>4.004788</td>\n",
              "    </tr>\n",
              "    <tr>\n",
              "      <th>75%</th>\n",
              "      <td>1.187664</td>\n",
              "      <td>1.315280</td>\n",
              "      <td>1.751907</td>\n",
              "      <td>2.849368</td>\n",
              "      <td>4.275529</td>\n",
              "      <td>5.953456</td>\n",
              "    </tr>\n",
              "    <tr>\n",
              "      <th>max</th>\n",
              "      <td>1.683148</td>\n",
              "      <td>1.970717</td>\n",
              "      <td>3.192277</td>\n",
              "      <td>5.147127</td>\n",
              "      <td>9.083157</td>\n",
              "      <td>14.675931</td>\n",
              "    </tr>\n",
              "  </tbody>\n",
              "</table>\n",
              "</div>"
            ],
            "text/plain": [
              "       Variacion ac ult 1 años  ...  Variacion ac ult 20 años\n",
              "count             16576.000000  ...              16576.000000\n",
              "mean                  1.085090  ...                  4.588016\n",
              "std                   0.158046  ...                  2.458483\n",
              "min                   0.512270  ...                  1.547355\n",
              "25%                   0.989114  ...                  2.699654\n",
              "50%                   1.096430  ...                  4.004788\n",
              "75%                   1.187664  ...                  5.953456\n",
              "max                   1.683148  ...                 14.675931\n",
              "\n",
              "[8 rows x 6 columns]"
            ]
          },
          "metadata": {
            "tags": []
          },
          "execution_count": 43
        }
      ]
    },
    {
      "cell_type": "code",
      "metadata": {
        "id": "LTBWGZ7cAAgt"
      },
      "source": [],
      "execution_count": null,
      "outputs": []
    }
  ]
}